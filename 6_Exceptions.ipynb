{
 "cells": [
  {
   "cell_type": "code",
   "execution_count": null,
   "metadata": {},
   "outputs": [],
   "source": [
    "# inf exists insie numpy but it's not there in core python\n",
    "# catch does not exists in python, instead we use except keyword."
   ]
  },
  {
   "cell_type": "markdown",
   "metadata": {},
   "source": [
    "####  Try, except, else, finally\n"
   ]
  },
  {
   "cell_type": "code",
   "execution_count": 1,
   "metadata": {},
   "outputs": [
    {
     "name": "stdout",
     "output_type": "stream",
     "text": [
      "inside try before error\n",
      "division by zero\n",
      "After Handling Exception\n"
     ]
    }
   ],
   "source": [
    "# try throws an error\n",
    "try:\n",
    "    print(\"inside try before error\")\n",
    "    1/0\n",
    "    print(\"inside try after error\") # will not be executed\n",
    "\n",
    "# except handles the error thrown by try.\n",
    "# Exception is a super class( inside that we can all kinds of exceptions implementation)\n",
    "# generic errors are handled\n",
    "except Exception as e:\n",
    "    print(e)\n",
    "print(\"After Handling Exception\")\n",
    "\n",
    "# for every try we need to define except"
   ]
  },
  {
   "cell_type": "code",
   "execution_count": null,
   "metadata": {},
   "outputs": [],
   "source": [
    "# open(\"test.txt\") o/p:error\n",
    "# f=open(\"test.txt\",'r') o/p:error\n",
    "# opening a file in read mode, attempting write operation in file gives an error(not writable)\n",
    "# f=open(\"test.txt\",'w')\n",
    "# f.write(\"My first file.\")\n",
    "#pwd(): present working directory\n",
    "#ls: lists out all files inside pwd"
   ]
  },
  {
   "cell_type": "code",
   "execution_count": null,
   "metadata": {},
   "outputs": [],
   "source": [
    "try:\n",
    "    1/0\n",
    "# specifying a particular error\n",
    "except ZeroDivisionError as e:\n",
    "    print(e)\n",
    "else:\n",
    "    print(\"execute after successful execution of try\")\n",
    "# This except will not handle other errors like IO error.\n",
    "# we can use multiple except handlers.\n",
    "# we can't use multiple exceptions in same except statement.\n",
    "# So it is better to use general/super class"
   ]
  },
  {
   "cell_type": "code",
   "execution_count": null,
   "metadata": {
    "scrolled": true
   },
   "outputs": [],
   "source": [
    "try:\n",
    "    # a=input() will generate error (coz: by default input will be taken as a string)\n",
    "    a=int(input())\n",
    "    print(a/67)\n",
    "except:\n",
    "    print(\"error\")\n",
    "# else executes if and only if try block executes without generating an error    \n",
    "else:\n",
    "    print(\"else statement\")\n",
    "# finally executes all the time irrespective of try block status\n",
    "finally:\n",
    "    print(\"finally statement\")\n",
    "    # eg: we can write code for closing a connection with database in finally\n",
    "    # to make sure once work is done, automatically finally executes and closes the connection"
   ]
  },
  {
   "cell_type": "code",
   "execution_count": null,
   "metadata": {},
   "outputs": [],
   "source": [
    "# Question: function should continously ask user to enter input till it gets an integer as input\n",
    "\n",
    "def ask_int():\n",
    "    try:\n",
    "        a=int(input(\"please enter integer input!\"))\n",
    "    except Exception as e:\n",
    "        ask_int()\n",
    "ask_int()"
   ]
  },
  {
   "cell_type": "markdown",
   "metadata": {},
   "source": [
    "####  User defined exceptions"
   ]
  },
  {
   "cell_type": "code",
   "execution_count": null,
   "metadata": {},
   "outputs": [],
   "source": [
    "def raise_exceptions(a):\n",
    "    if a<5:\n",
    "        raise Exception(\"custom message\")\n",
    "    return a"
   ]
  },
  {
   "cell_type": "code",
   "execution_count": null,
   "metadata": {},
   "outputs": [],
   "source": [
    "# handling user defined exceptions\n",
    "try:\n",
    "    raise_exceptions(3)\n",
    "except Exception as e:\n",
    "    print(e)"
   ]
  },
  {
   "cell_type": "markdown",
   "metadata": {},
   "source": [
    "#####  Task\n"
   ]
  },
  {
   "cell_type": "code",
   "execution_count": 3,
   "metadata": {},
   "outputs": [
    {
     "name": "stdout",
     "output_type": "stream",
     "text": [
      "Enter any integer!jho\n",
      "Enter any integer!2\n",
      "Integer value should be more than 4!\n",
      "Enter any integer!33\n",
      "Enter any integer!23\n",
      "Enter any integer!123\n",
      "Enter any integer!12\n",
      "Enter any integer!1234\n",
      "Enter any integer!123\n",
      "Enter any integer!123\n",
      "Enter any integer!23\n",
      "Enter any integer!234\n",
      "Enter any integer!23\n",
      "[33, 23, 123, 12, 1234, 123, 123, 23, 234, 23]\n"
     ]
    }
   ],
   "source": [
    "\"\"\"Question: Write a program to insert integer into list.\n",
    "    if user has entered less than 4 then raise your own exception and if user is not entering an integer then keep asking user to enter integer all the time.\n",
    "    you are supposed to enter 10 such integers with this condition\"\"\"\n",
    "\n",
    "def enter_integer():\n",
    "    l=[]\n",
    "    for i in range(10):\n",
    "        while True:\n",
    "            try:\n",
    "                a=int(input(\"Enter any integer!\"))\n",
    "            except: \n",
    "                continue\n",
    "            else:\n",
    "                try:\n",
    "                    if a<4:\n",
    "                        raise Exception(a)\n",
    "                    else:\n",
    "                        l.append(a)\n",
    "                        break\n",
    "                except:\n",
    "                    print(\"Integer value should be more than 4!\")\n",
    "    print(l)\n",
    "\n",
    "enter_integer()"
   ]
  }
 ],
 "metadata": {
  "kernelspec": {
   "display_name": "Python 3",
   "language": "python",
   "name": "python3"
  },
  "language_info": {
   "codemirror_mode": {
    "name": "ipython",
    "version": 3
   },
   "file_extension": ".py",
   "mimetype": "text/x-python",
   "name": "python",
   "nbconvert_exporter": "python",
   "pygments_lexer": "ipython3",
   "version": "3.9.5"
  }
 },
 "nbformat": 4,
 "nbformat_minor": 4
}
