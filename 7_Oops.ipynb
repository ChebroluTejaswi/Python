{
 "cells": [
  {
   "cell_type": "code",
   "execution_count": null,
   "metadata": {},
   "outputs": [],
   "source": [
    "\"\"\" Top programming patterns/practice: scripting and oops.\n",
    "    Python supports both kinds of practice.\n",
    "    Oops helps you more with modular coding than scripting(everything is implemented using classes and objects)\n",
    "    Eg: Car is class; audi,hyundai are objects\n",
    "        i=5;i is an variable/object of class int\n",
    "\"\"\""
   ]
  },
  {
   "cell_type": "code",
   "execution_count": null,
   "metadata": {},
   "outputs": [],
   "source": [
    "class person:\n",
    "    pass\n",
    "# Bad practice for declaring classes and objects \n",
    "p=person\n",
    "p.name=\"teju\"\n",
    "p.empno=34523\n",
    "print(p.name)\n",
    "a=person\n",
    "a.name=\"ritvik\"\n",
    "print(p.name+\" \"+str(p.empno))\n",
    "# pname gets overridden by a.name value( we are able access only 1 instance )\n",
    "\n",
    "# crt way to create objects\n",
    "# p=person()"
   ]
  },
  {
   "cell_type": "code",
   "execution_count": null,
   "metadata": {},
   "outputs": [],
   "source": [
    "# good practice for declaring classes and objects\n",
    "\n",
    "class person_1:\n",
    "    # init is a default method available in python\n",
    "    # init means we are intializing \n",
    "    def __init__(self,name,surname,yob): # we are overriding init method\n",
    "        # self is not a keyword(we can use any other variable in place of self as well)\n",
    "        # self is pointing to person class(itself)\n",
    "        self.name=name #LHS side name is attribute, RHS side name is just a value\n",
    "        self.surname=surname\n",
    "        self.yob=yob\n",
    "    # for all functions /methods you declare first parameter should be self\n",
    "    def test(self,n,m):\n",
    "        # return n+m+yob will generate error- yob undefined\n",
    "        return n+m+self.yob\n",
    "\n",
    "    # overriding str predefined function\n",
    "    def __str__(self):\n",
    "        # return 1 generates run time error(expects string) when we print any objects of this class\n",
    "        return \"first name is %s\"%(self.name)"
   ]
  },
  {
   "cell_type": "code",
   "execution_count": null,
   "metadata": {},
   "outputs": [],
   "source": [
    "# p=person_1() will generate error\n",
    "p1=person_1(\"teju\",\"ch\",11092002)\n",
    "p1.test(2,3)"
   ]
  },
  {
   "cell_type": "code",
   "execution_count": null,
   "metadata": {},
   "outputs": [],
   "source": [
    "print(p)\n",
    "print(p1)\n",
    "print(p.__dict__) # this is the way class stores it's data"
   ]
  },
  {
   "cell_type": "code",
   "execution_count": null,
   "metadata": {},
   "outputs": [],
   "source": [
    "# another way of creating classes\n",
    "class person_2:\n",
    "    def pass_name(self,name):\n",
    "        self.name=name\n",
    "    def pass_surname(self,surname):\n",
    "        self.surname=surname\n",
    "    def pass_yob(self,yob):\n",
    "        self.yob=yob\n",
    "    \n"
   ]
  },
  {
   "cell_type": "code",
   "execution_count": null,
   "metadata": {},
   "outputs": [],
   "source": [
    "# There are no public, private and protected keywords in python, but it supports abstraction\n",
    "# protected notation: self._name=name (use underscore in front of attribute)\n",
    "# private notation: self.__name=name (use double underscore)"
   ]
  },
  {
   "cell_type": "code",
   "execution_count": null,
   "metadata": {},
   "outputs": [],
   "source": [
    "# Inheritence\n",
    "class student(person_1):\n",
    "    def __init__(self,rollno,colledge_name,*args):\n",
    "        super(student,self).__init__(*args)\n",
    "        self.rollno=rollno\n",
    "        self.colledge_name=colledge_name"
   ]
  },
  {
   "cell_type": "code",
   "execution_count": 14,
   "metadata": {},
   "outputs": [
    {
     "name": "stdout",
     "output_type": "stream",
     "text": [
      "in class b\n"
     ]
    }
   ],
   "source": [
    "class a:\n",
    "    def test(self):\n",
    "        print(\"in class a\")\n",
    "class b:\n",
    "    def test(self):\n",
    "        print(\"in class b\")\n",
    "class c(a,b): #multiple inheritence\n",
    "    obja=a()\n",
    "    objb=b()\n",
    "    objb.test()\n",
    "\n",
    "objc=c()\n",
    "objc.test() # calls the function of first argument clas"
   ]
  }
 ],
 "metadata": {
  "interpreter": {
   "hash": "3d79dcf316147821ae274b03680be6f97592d7d120faed864fd87e43e0cdf84e"
  },
  "kernelspec": {
   "display_name": "Python 3.9.5 64-bit",
   "name": "python3"
  },
  "language_info": {
   "codemirror_mode": {
    "name": "ipython",
    "version": 3
   },
   "file_extension": ".py",
   "mimetype": "text/x-python",
   "name": "python",
   "nbconvert_exporter": "python",
   "pygments_lexer": "ipython3",
   "version": "3.9.5"
  },
  "orig_nbformat": 4
 },
 "nbformat": 4,
 "nbformat_minor": 2
}
