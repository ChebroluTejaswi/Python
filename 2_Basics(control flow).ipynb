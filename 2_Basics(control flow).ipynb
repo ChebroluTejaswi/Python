{
 "cells": [
  {
   "cell_type": "markdown",
   "metadata": {},
   "source": [
    "## If statement\n"
   ]
  },
  {
   "cell_type": "code",
   "execution_count": 12,
   "metadata": {},
   "outputs": [
    {
     "name": "stdout",
     "output_type": "stream",
     "text": [
      "Value of a is less than 20.\n"
     ]
    }
   ],
   "source": [
    "a=10\n",
    "a>20 #false\n",
    "#Indentation (tab space) is really important.\n",
    "if a>20:\n",
    "    print(\"Value of a is \",a,\" .\")\n",
    "else:\n",
    "    print(\"Value of a is less than 20.\")\n",
    "    \n",
    "# if a==10 :print(\"hi\") we can write like this but it is not recommended.\n",
    "# readability is really important.\n",
    "\n",
    "if a>100:\n",
    "    pass # pass is used when we don't want to define any body"
   ]
  },
  {
   "cell_type": "code",
   "execution_count": null,
   "metadata": {},
   "outputs": [],
   "source": [
    "a=int(input(\"Enter a number: \")) \n",
    "# If int is not provided then a comparision will be performed between integer and string\n",
    "\n",
    "if a<=20:\n",
    "    pass # Pass is a in-built keyword\n",
    "elif a>=60:\n",
    "    print(\"You entered elif(else if) block\")\n",
    "elif type(a) == int:\n",
    "    print(\"a is a integer.\")\n",
    "else: # if all conditions fails then else will execute by default\n",
    "    print(\"Your last option.\")\n",
    "    \n",
    "# Once if is true rest of else if and else statements are not executed\n"
   ]
  },
  {
   "cell_type": "code",
   "execution_count": null,
   "metadata": {},
   "outputs": [],
   "source": [
    "# Simple Question\n",
    "\n",
    "discount=int(input(\"Enter discount: \"))\n",
    "if discount ==50:\n",
    "    print(\"You can buy all the items from row number 1.\")\n",
    "elif discount==30:\n",
    "    print(\"You can buy all the items from row number 2.\")\n",
    "elif discount==20:\n",
    "    print(\"You can buy all the items from row number 3.\")\n",
    "elif discount >10:\n",
    "    print(\"Send the user to 4th row.\")\n",
    "else:\n",
    "    print(\"There is no item available as per your choice.\")"
   ]
  },
  {
   "cell_type": "code",
   "execution_count": null,
   "metadata": {},
   "outputs": [],
   "source": [
    "# Another example\n",
    "\n",
    "income=int(input(\"Enter your salary: \"))\n",
    "if income>1000:\n",
    "    # Nested if statements\n",
    "    print(\"Nice.Nice\")\n",
    "    if income> 5000:\n",
    "        if income>10000:\n",
    "            print(\"very very richhhhhh:).\")\n",
    "        else:\n",
    "            print(\"chalegaa.\")\n",
    "else:\n",
    "    print(\"lite tesuko machaa:P.\")"
   ]
  },
  {
   "cell_type": "markdown",
   "metadata": {},
   "source": [
    "## Loops\n",
    "\n"
   ]
  },
  {
   "cell_type": "markdown",
   "metadata": {},
   "source": [
    "#### For loop "
   ]
  },
  {
   "cell_type": "code",
   "execution_count": 1,
   "metadata": {},
   "outputs": [
    {
     "name": "stdout",
     "output_type": "stream",
     "text": [
      "teju\n",
      "3\n"
     ]
    }
   ],
   "source": [
    "l=[2,3,\"teju\",6,[2,3,3]]\n",
    "for i in l:\n",
    "    if type(i)==str:\n",
    "        print(i)\n",
    "    if type(i)==list:\n",
    "        print(i[2])"
   ]
  },
  {
   "cell_type": "code",
   "execution_count": null,
   "metadata": {},
   "outputs": [],
   "source": [
    "cg=float(input(\"Enter sohan's CGPA: \"))\n",
    "if cg>=9:\n",
    "    print(\"Sohan is a topper #always\")\n",
    "else:\n",
    "    print(\"Hold on! Incorrect input.\")\n",
    "    print(\"Please Re-enter sohan's cgpa.\")"
   ]
  },
  {
   "cell_type": "code",
   "execution_count": null,
   "metadata": {
    "scrolled": false
   },
   "outputs": [],
   "source": [
    "for i in range(10):\n",
    "    if i%2==0 or i%3==0:\n",
    "        print(i)\n",
    "    "
   ]
  },
  {
   "cell_type": "code",
   "execution_count": 2,
   "metadata": {
    "scrolled": true
   },
   "outputs": [
    {
     "name": "stdout",
     "output_type": "stream",
     "text": [
      "*.\n",
      "*.*.\n",
      "*.*.*.\n",
      "*.*.*.*.\n",
      "*.*.*.*.*.\n"
     ]
    }
   ],
   "source": [
    "n=5\n",
    "# for i in range(n):\n",
    "#     a=\"\"\n",
    "#     for j in range(i+1):\n",
    "#         a=a+\"*\"\n",
    "#     print(a)\n",
    "for i in range(n):\n",
    "    for j in range(i+1):\n",
    "        print(\"*\",end=\".\") # end is a string that gets appended after the last value.\n",
    "        # by default value of end is new line\n",
    "    print(\"\")"
   ]
  },
  {
   "cell_type": "code",
   "execution_count": 3,
   "metadata": {},
   "outputs": [
    {
     "name": "stdout",
     "output_type": "stream",
     "text": [
      "**   \n",
      "***  \n",
      "**** \n",
      "*****\n",
      "*****\n"
     ]
    }
   ],
   "source": [
    "n=5\n",
    "for i in range(n):\n",
    "    for j in range(n):\n",
    "        if j<=(i+1):\n",
    "            print(\"*\",end=\"\")\n",
    "        else:\n",
    "            print(\" \",end=\"\")\n",
    "    print(\"\")"
   ]
  },
  {
   "cell_type": "code",
   "execution_count": 4,
   "metadata": {},
   "outputs": [
    {
     "name": "stdout",
     "output_type": "stream",
     "text": [
      "0\n",
      "1\n",
      "2\n",
      "3\n",
      "4\n",
      "end\n"
     ]
    }
   ],
   "source": [
    "# for else statement\n",
    "for i in range(5):\n",
    "    print(i)\n",
    "else:\n",
    "    print(\"end\")"
   ]
  },
  {
   "cell_type": "markdown",
   "metadata": {},
   "source": [
    "### Task1"
   ]
  },
  {
   "cell_type": "markdown",
   "metadata": {},
   "source": [
    "#####  Question-1\n"
   ]
  },
  {
   "cell_type": "code",
   "execution_count": 14,
   "metadata": {},
   "outputs": [
    {
     "name": "stdout",
     "output_type": "stream",
     "text": [
      "*****\n",
      "*****\n",
      "*****\n",
      "*****\n",
      "*****\n"
     ]
    }
   ],
   "source": [
    "n=5\n",
    "for i in range(n):\n",
    "    for j in range(n):\n",
    "        print(\"*\",end=\"\")\n",
    "    print(\"\")"
   ]
  },
  {
   "cell_type": "markdown",
   "metadata": {},
   "source": [
    "######  Question-2 "
   ]
  },
  {
   "cell_type": "code",
   "execution_count": 17,
   "metadata": {},
   "outputs": [
    {
     "name": "stdout",
     "output_type": "stream",
     "text": [
      "[1, 1, 2, 2, 3, 3]\n",
      "1 -> 2\n",
      "2 -> 2\n",
      "3 -> 2\n",
      "\n",
      "[2, 4, 2, 2, 5]\n",
      "2 -> 3\n",
      "\n",
      "[1, 5, 8, 8, 2]\n",
      "8 -> 2\n",
      "\n"
     ]
    }
   ],
   "source": [
    "l=[[1,1,2,2,3,3],[2,4,2,2,5],[1,5,8,8,2]]\n",
    "for i in l:\n",
    "    print(i)\n",
    "    ele=[]\n",
    "    for j in i:\n",
    "        c=i.count(j)\n",
    "        if c!=1 and j not in ele:\n",
    "            print(\"{} -> {}\".format(j,c))\n",
    "            ele.append(j)\n",
    "    print(\"\")"
   ]
  },
  {
   "cell_type": "markdown",
   "metadata": {},
   "source": [
    "#### while loop\n"
   ]
  },
  {
   "cell_type": "code",
   "execution_count": 4,
   "metadata": {},
   "outputs": [
    {
     "name": "stdout",
     "output_type": "stream",
     "text": [
      "1\n",
      "2\n",
      "3\n"
     ]
    }
   ],
   "source": [
    "# we donot have do while functions in python\n",
    "i=1\n",
    "n=6\n",
    "# while else statement\n",
    "while i<n:\n",
    "    print(i)\n",
    "    i=i+1\n",
    "else: # will execute only once (when while loop is over)\n",
    "    print(\"end\")"
   ]
  },
  {
   "cell_type": "code",
   "execution_count": 8,
   "metadata": {},
   "outputs": [
    {
     "name": "stdout",
     "output_type": "stream",
     "text": [
      "1\n",
      "2\n",
      "3\n"
     ]
    }
   ],
   "source": [
    "i=1\n",
    "n=6\n",
    "while i<n:\n",
    "    print(i)\n",
    "    i=i+1\n",
    "    if i==4:\n",
    "        break # if we use continue here then else will be executed \n",
    "else: # will not execute (as we are not allowing the for loop to complete, we are breaking the loop in between)\n",
    "    print(\"end\")"
   ]
  },
  {
   "cell_type": "code",
   "execution_count": null,
   "metadata": {},
   "outputs": [],
   "source": [
    "i=1\n",
    "n=10\n",
    "while i<n:\n",
    "    print(i)\n",
    "    if i==4:\n",
    "        continue # it won't allow the statements below it to execute.\n",
    "        # continue will direct you to the start of loop.\n",
    "    i=i+1 # this statement won't be executed(it get's skipped due to above mentioned continue keyword)"
   ]
  }
 ],
 "metadata": {
  "kernelspec": {
   "display_name": "Python 3",
   "language": "python",
   "name": "python3"
  },
  "language_info": {
   "codemirror_mode": {
    "name": "ipython",
    "version": 3
   },
   "file_extension": ".py",
   "mimetype": "text/x-python",
   "name": "python",
   "nbconvert_exporter": "python",
   "pygments_lexer": "ipython3",
   "version": "3.9.5"
  }
 },
 "nbformat": 4,
 "nbformat_minor": 4
}
