{
 "cells": [
  {
   "cell_type": "markdown",
   "metadata": {},
   "source": [
    "### String functions\n"
   ]
  },
  {
   "cell_type": "code",
   "execution_count": null,
   "metadata": {},
   "outputs": [],
   "source": [
    "# strings - immutable\n",
    "# functions doesnot change / update original string.\n",
    "# using function creates new data structure (stored in main memory)"
   ]
  },
  {
   "cell_type": "code",
   "execution_count": null,
   "metadata": {},
   "outputs": [],
   "source": [
    "s=\"chebrolu tejaswi\"\n",
    "\n",
    "print(\"Length of string: \",len(s))\n",
    "print(\"Index of e in string: \",s.find('e')) # find returns only 1st instance/1st success index.\n",
    "#if find does not find the given char -> it returns -1.\n",
    "print(\"Index of e(seq:ej) in string: \",s.find('ej')) #returns index of e\n",
    "print(\"Count of e in string: \",s.count('e'))\n",
    "print(\"Spliting string at 'e': \",s.split('e')) #returns a list of substrings after split"
   ]
  },
  {
   "cell_type": "code",
   "execution_count": 3,
   "metadata": {},
   "outputs": [
    {
     "name": "stdout",
     "output_type": "stream",
     "text": [
      "Swapping lower to upper (vice versa):    rITVIK bAbY\n",
      "Reversed string:  ['y', 'B', 'a', 'B', ' ', 'k', 'i', 'v', 't', 'i', 'R', ' ', ' ']\n",
      "Removes whitespace(leading and trailing):  Ritvik BaBy\n"
     ]
    },
    {
     "data": {
      "text/plain": [
       "' * *R*i*t*v*i*k* *B*a*B*y'"
      ]
     },
     "execution_count": 3,
     "metadata": {},
     "output_type": "execute_result"
    }
   ],
   "source": [
    "t= \"  Ritvik BaBy\"\n",
    "\n",
    "print(\"Swapping lower to upper (vice versa): \",t.swapcase())\n",
    "print(\"Reversed string: \",list(reversed(t))) # we need to use it with iterable ds like tuple and list\n",
    "print(\"Removes whitespace(leading and trailing): \",t.strip())\n",
    "# rtrip (removes right side spaces) \n",
    "# lstrip(removes left side spaces) \n",
    "\n",
    "\"*\".join(t)"
   ]
  },
  {
   "cell_type": "code",
   "execution_count": 4,
   "metadata": {},
   "outputs": [
    {
     "name": "stdout",
     "output_type": "stream",
     "text": [
      "replacing p with b:   baineababale\n",
      "centering the string (len:20)       pineapple     \n"
     ]
    },
    {
     "data": {
      "text/plain": [
       "'teju    teju'"
      ]
     },
     "execution_count": 4,
     "metadata": {},
     "output_type": "execute_result"
    }
   ],
   "source": [
    "u=\" pineapple\"\n",
    "print(\"replacing p with b: \",u.replace(\"p\",\"ba\"))\n",
    "print(\"centering the string (len:20)\",u.center(20,' '))\n",
    "\"teju\\tteju\".expandtabs()"
   ]
  },
  {
   "cell_type": "code",
   "execution_count": 7,
   "metadata": {},
   "outputs": [
    {
     "name": "stdout",
     "output_type": "stream",
     "text": [
      "norueni\n"
     ]
    }
   ],
   "source": [
    "u=\"ineuron\"\n",
    "n=len(u)-1\n",
    "rev=\"\"\n",
    "while n>=0:\n",
    "    rev=rev+u[n]\n",
    "    n=n-1\n",
    "print(rev)"
   ]
  },
  {
   "cell_type": "code",
   "execution_count": 6,
   "metadata": {},
   "outputs": [
    {
     "name": "stdout",
     "output_type": "stream",
     "text": [
      "Hey! teju, 12 years beauty.\n"
     ]
    }
   ],
   "source": [
    "#format specifier operation\n",
    "name= input(\"Enter your name: \")\n",
    "age= input(\"Enter your age: \")\n",
    "print(\"Hey! {}, {} years beauty.\".format(name,age))"
   ]
  },
  {
   "cell_type": "markdown",
   "metadata": {},
   "source": [
    "### List functions\n"
   ]
  },
  {
   "cell_type": "code",
   "execution_count": null,
   "metadata": {},
   "outputs": [],
   "source": [
    "# the functions which we execute change the original list."
   ]
  },
  {
   "cell_type": "code",
   "execution_count": null,
   "metadata": {},
   "outputs": [],
   "source": [
    "a=[\"teju\",2.3,0,11,[1,3,2,9,4]]\n",
    "\"teju\" in a #True\n",
    "# [1,2] in a shows true, whereas 2 in a shows False\n",
    "# 2 in a[-1] shows true\n",
    "a.append(\"12\")\n",
    "b=a.copy() # changes in a won't affect b\n",
    "a.clear()\n",
    "b.count(2.3)\n",
    "b.extend([\"tej\",0])\n",
    "b.index(2.3)\n",
    "b.insert(2,\"tejuuu\") # if index range<our entered loc then element gets inserted at last\n",
    "b.pop() #removes last element\n",
    "b.remove(2.3) # removes the element entered as argument\n",
    "#['teju', 'tejuuu', 0, 11, [1, 3, 2, 9, 4], '12', 'tej']\n",
    "b.reverse()\n",
    "print(b) # ['tej', '12', [1, 3, 2, 9, 4], 11, 0, 'tejuuu', 'teju']\n",
    "#b.sort() will not work as we have string as well as other ds\n",
    "b[2].sort()"
   ]
  },
  {
   "cell_type": "code",
   "execution_count": 5,
   "metadata": {},
   "outputs": [
    {
     "data": {
      "text/plain": [
       "['s', 'u', 'd', 'h']"
      ]
     },
     "execution_count": 5,
     "metadata": {},
     "output_type": "execute_result"
    }
   ],
   "source": [
    "# list comprehesion operation (operations which we can write in a single line)\n",
    "l=[1,2,3,4,56]\n",
    "sq_l=[]\n",
    "for i in l:\n",
    "    sq_l.append(i**2)\n",
    "# using comprehension operation: [i**2 for i in l]\n",
    "s=\"sudh\"\n",
    "[i for i in s]"
   ]
  },
  {
   "cell_type": "code",
   "execution_count": 10,
   "metadata": {},
   "outputs": [
    {
     "name": "stdout",
     "output_type": "stream",
     "text": [
      "[0, 2, 4, 6, 8, 10, 12, 14, 16, 18]\n",
      "[1, 3, 5, 7, 9, 11, 13, 15, 17, 19]\n",
      "[1, 5, 9, 13, 17, 21, 25, 29, 33, 37]\n"
     ]
    }
   ],
   "source": [
    "odd=[]\n",
    "even=[]\n",
    "for i in range(20):\n",
    "    if i%2==0:\n",
    "        even.append(i)\n",
    "    else:\n",
    "        odd.append(i)\n",
    "print(even)\n",
    "print(odd)\n",
    "\n",
    "res=[]\n",
    "for i in range(10):\n",
    "    res.append(even[i]+odd[i])\n",
    "print(res)"
   ]
  },
  {
   "cell_type": "code",
   "execution_count": 8,
   "metadata": {},
   "outputs": [
    {
     "name": "stdout",
     "output_type": "stream",
     "text": [
      "[1, 5, 9, 13, 17, 21, 25, 29, 33, 37]\n"
     ]
    }
   ],
   "source": [
    "# using comprehension operation\n",
    "o=[i for i in range(0,19,2)]\n",
    "e=[i for i in range(1,20,2)]\n",
    "res=[o[i]+e[i] for i in range(10)]\n",
    "print(res)"
   ]
  },
  {
   "cell_type": "markdown",
   "metadata": {},
   "source": [
    "### Task 1\n"
   ]
  },
  {
   "cell_type": "markdown",
   "metadata": {},
   "source": [
    "#### Question 1\n"
   ]
  },
  {
   "cell_type": "code",
   "execution_count": 21,
   "metadata": {},
   "outputs": [
    {
     "name": "stdout",
     "output_type": "stream",
     "text": [
      "Upper case Alphabets: \n",
      "['A', 'B', 'C', 'D', 'E', 'F', 'G', 'H', 'I', 'J', 'K', 'L', 'M', 'N', 'O', 'P', 'Q', 'R', 'S', 'T', 'U', 'V', 'W', 'X', 'Y', 'Z']\n",
      "Lower case Alphabets: \n",
      "['a', 'b', 'c', 'd', 'e', 'f', 'g', 'h', 'i', 'j', 'k', 'l', 'm', 'n', 'o', 'p', 'q', 'r', 's', 't', 'u', 'v', 'w', 'x', 'y', 'z']\n"
     ]
    }
   ],
   "source": [
    "# Write a list comprehension for generating all the list of alphabetical character in upper case and lower case.\n",
    "upper=[chr(i) for i in range(65,91)]\n",
    "print(\"Upper case Alphabets: \")\n",
    "print(upper)\n",
    "lower=[chr(i) for i in range(97,123)]\n",
    "print(\"Lower case Alphabets: \")\n",
    "print(lower)"
   ]
  },
  {
   "cell_type": "markdown",
   "metadata": {},
   "source": [
    "#### Question 2\n"
   ]
  },
  {
   "cell_type": "code",
   "execution_count": 9,
   "metadata": {},
   "outputs": [
    {
     "name": "stdout",
     "output_type": "stream",
     "text": [
      "teju is not a Palindrome.\n"
     ]
    }
   ],
   "source": [
    "# write a code for palindrom by using while statement.\n",
    "word=input(\"Enter word: \")\n",
    "i=0\n",
    "l=len(word)-1\n",
    "while i<=l and l>=0:\n",
    "    if word[i]!=word[l]:\n",
    "        print(word+\" is not a Palindrome.\")\n",
    "        break\n",
    "    i=i+1\n",
    "    l=l-1\n",
    "else:\n",
    "    print(\"word\"+\" is a Palindrome.\")\n",
    "    "
   ]
  },
  {
   "cell_type": "markdown",
   "metadata": {},
   "source": [
    "#### Question 3"
   ]
  },
  {
   "cell_type": "code",
   "execution_count": 13,
   "metadata": {},
   "outputs": [
    {
     "name": "stdout",
     "output_type": "stream",
     "text": [
      "\n",
      "Using function:  dfg\n",
      "Without using function:  dfg\n"
     ]
    }
   ],
   "source": [
    "# write a code to sort your string in alphabetical order(don't use sort function)\n",
    "str=input(\"Enter the string: \")\n",
    "# sorted(str) # output:['e', 'j', 't', 'u']\n",
    "# \"\".join(sorted(str)) #output:ejtu\n",
    "sorted_str1=\"\".join(sorted(str))\n",
    "print(\"\\nUsing function: \",sorted_str1)\n",
    "\n",
    "# lis=[]\n",
    "# for i in str:\n",
    "#     lis.append(i)\n",
    "lis=list(str)\n",
    "for i in range(len(lis)):\n",
    "    for j in range(i,len(lis)):\n",
    "        if lis[i]>lis[j]:\n",
    "            lis[i],lis[j]=lis[j],lis[i]\n",
    "sorted_str2=\"\".join(lis)\n",
    "print(\"Without using function: \",sorted_str2)"
   ]
  }
 ],
 "metadata": {
  "kernelspec": {
   "display_name": "Python 3",
   "language": "python",
   "name": "python3"
  },
  "language_info": {
   "codemirror_mode": {
    "name": "ipython",
    "version": 3
   },
   "file_extension": ".py",
   "mimetype": "text/x-python",
   "name": "python",
   "nbconvert_exporter": "python",
   "pygments_lexer": "ipython3",
   "version": "3.9.5"
  }
 },
 "nbformat": 4,
 "nbformat_minor": 4
}
