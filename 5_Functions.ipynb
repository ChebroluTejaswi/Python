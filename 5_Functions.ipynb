{
 "cells": [
  {
   "cell_type": "code",
   "execution_count": 1,
   "metadata": {},
   "outputs": [
    {
     "name": "stdout",
     "output_type": "stream",
     "text": [
      "You are inside test function\n"
     ]
    }
   ],
   "source": [
    "# In-built functions: len(mylist),print(\"xyz\")\n",
    "# User defined functions are also possible.\n",
    "# Defination of function\n",
    "def test():\n",
    "    #we cannot skip body of the function.\n",
    "    #pass #if we donot want anything inside body then we can use pass keyword\n",
    "    print(\"You are inside test function\") #indentation is important\n",
    "# Calling a function\n",
    "test()"
   ]
  },
  {
   "cell_type": "code",
   "execution_count": 2,
   "metadata": {},
   "outputs": [
    {
     "name": "stdout",
     "output_type": "stream",
     "text": [
      "5\n",
      "tejuritvik\n",
      "4.3\n",
      "19teju\n"
     ]
    },
    {
     "data": {
      "text/plain": [
       "'19tejuritvik'"
      ]
     },
     "execution_count": 2,
     "metadata": {},
     "output_type": "execute_result"
    }
   ],
   "source": [
    "def add(a,b):\n",
    "    print(a+b)\n",
    "add(2,3)\n",
    "add(\"teju\",\"ritvik\")\n",
    "add(2,2.3) #output: 4.3\n",
    "# add(19,\"teju\") #will lead to an error.\n",
    "\n",
    "def newadd(a,b):\n",
    "    if type(a)!=str:\n",
    "        print(str(a)+b)\n",
    "    else:\n",
    "        print(a+b)\n",
    "        \n",
    "newadd(19,\"teju\") #returns a nonetype(always print function returns nonetype object)\n",
    "# newadd(19,\"teju\")+\"ritvik\" will generate error\n",
    "\n",
    "def neweradd(a,b):\n",
    "     if type(a)!=str:\n",
    "        return (str(a)+b)\n",
    "     else:\n",
    "        return (a+b)\n",
    "neweradd(19,\"teju\") + \"ritvik\""
   ]
  },
  {
   "cell_type": "code",
   "execution_count": 3,
   "metadata": {},
   "outputs": [],
   "source": [
    "# returning multiple entities \n",
    "def test1(a,b,c):\n",
    "    return a+2,b+3,c+4,a+b+c\n",
    "test1(2,2,2) # returns a tuple with 4 elements\n",
    "list(test1(2,2,2)) # converts the tuple into list\n",
    "w,x,y,z=test1(2,2,2) # w holds a+2, x=b+3,y=c+4,z=a+b+c\n",
    "_,_,_,res=test1(2,2,2) # res holds a+b+c and _ will hold c+4 value"
   ]
  },
  {
   "cell_type": "code",
   "execution_count": 13,
   "metadata": {},
   "outputs": [
    {
     "data": {
      "text/plain": [
       "4"
      ]
     },
     "execution_count": 13,
     "metadata": {},
     "output_type": "execute_result"
    }
   ],
   "source": [
    "def string_count(l):\n",
    "    \"\"\" this function returns number of strings inside list\"\"\"\n",
    "    # docstring is written above. on viewing the tooltip(shift+tab) for this particular function, it will display the above string\n",
    "    count=0\n",
    "    for i in l:\n",
    "        if type(i)==str:\n",
    "            count=count+1\n",
    "    return count\n",
    "l=[\"sudh\",3,4,5,6,\"kumar\",'a','b',56.75]\n",
    "string_count(l)"
   ]
  },
  {
   "cell_type": "code",
   "execution_count": 21,
   "metadata": {},
   "outputs": [
    {
     "data": {
      "text/plain": [
       "8"
      ]
     },
     "execution_count": 21,
     "metadata": {},
     "output_type": "execute_result"
    }
   ],
   "source": [
    "# assigning default values to the arguments\n",
    "def test2(a=3,b=5):\n",
    "    return a+b\n",
    "test2(2) # a value override avutadhi.a=2,b=5\n",
    "test2() # a=3,b=5"
   ]
  },
  {
   "cell_type": "code",
   "execution_count": 28,
   "metadata": {},
   "outputs": [
    {
     "data": {
      "text/plain": [
       "'tejuritvik'"
      ]
     },
     "execution_count": 28,
     "metadata": {},
     "output_type": "execute_result"
    }
   ],
   "source": [
    "# passing multiple arguments to the function\n",
    "# args is not a keyword(type(args)=tuple object)\n",
    "def test3(*args):\n",
    "    return args\n",
    "test3(2,3,4) # returns a tuple object (2,3,4)\n",
    "\n",
    "def test4(*teju): #it's better to use args (standard way)\n",
    "    con=\"\"\n",
    "    for i in teju:\n",
    "        if type(i)==str:\n",
    "            con=con+i\n",
    "    return con\n",
    "test4(2,3,\"teju\",\"ritvik\",)"
   ]
  },
  {
   "cell_type": "markdown",
   "metadata": {},
   "source": [
    "1. args (non-keyword arguments)\n",
    "    Used to pass a variable number of arguments to a function.\n",
    "2. kwargs (keyword arguments)\n",
    "    A keyword argument is where you provide a name to the variable as you pass it into the function."
   ]
  },
  {
   "cell_type": "code",
   "execution_count": 33,
   "metadata": {},
   "outputs": [
    {
     "data": {
      "text/plain": [
       "{'a': 34, 'b': 35}"
      ]
     },
     "execution_count": 33,
     "metadata": {},
     "output_type": "execute_result"
    }
   ],
   "source": [
    "# args is non-keyword arguments (single static)\n",
    "def test5(*args,a,b):\n",
    "    return args,a,b\n",
    "# test5(3,4,5,6) does not work\n",
    "test5(3,4,a=5,b=6)\n",
    "\n",
    "# kwargs is keyword arguments (double static)\n",
    "# A keyword argument is where you provide a name to the variable as you pass it into the function.\n",
    "def test6(**kwargs):\n",
    "    return kwargs\n",
    "# test6(3,4,5) results in an error\n",
    "test6(a=34,b=35) # returns a dictionary object "
   ]
  },
  {
   "cell_type": "code",
   "execution_count": 3,
   "metadata": {},
   "outputs": [
    {
     "data": {
      "text/plain": [
       "[[1, [3, 4]]]"
      ]
     },
     "execution_count": 3,
     "metadata": {},
     "output_type": "execute_result"
    }
   ],
   "source": [
    "def test7(**kwargs):\n",
    "    x=[]\n",
    "    for i in kwargs:\n",
    "        if type(kwargs[i])==list:\n",
    "            x.append(kwargs[i])\n",
    "    return x\n",
    "l1=[3,4]\n",
    "test7(l=[1,l1],n=\"teju\",a=2,b=3)"
   ]
  },
  {
   "cell_type": "code",
   "execution_count": 4,
   "metadata": {},
   "outputs": [
    {
     "name": "stdout",
     "output_type": "stream",
     "text": [
      "anything is possible -DEAL\n"
     ]
    }
   ],
   "source": [
    "print(\"anything is possible -DEAL\")"
   ]
  },
  {
   "cell_type": "code",
   "execution_count": 7,
   "metadata": {},
   "outputs": [
    {
     "name": "stdout",
     "output_type": "stream",
     "text": [
      "first == Geeks\n",
      "mid == for\n",
      "last == Geeks\n"
     ]
    }
   ],
   "source": [
    "def myFun(**kwargs):\n",
    "\tfor key, value in kwargs.items():\n",
    "\t\tprint (\"%s == %s\" %(key, value))\n",
    "\n",
    "# myFun(first ='Geeks', mid ='for', last='Geeks',last='Geeks') # will generate an error\n",
    "myFun(first ='Geeks', mid ='for', last='Geeks',last1='Geeks') # will not generate an error"
   ]
  }
 ],
 "metadata": {
  "kernelspec": {
   "display_name": "Python 3",
   "language": "python",
   "name": "python3"
  },
  "language_info": {
   "codemirror_mode": {
    "name": "ipython",
    "version": 3
   },
   "file_extension": ".py",
   "mimetype": "text/x-python",
   "name": "python",
   "nbconvert_exporter": "python",
   "pygments_lexer": "ipython3",
   "version": "3.9.5"
  }
 },
 "nbformat": 4,
 "nbformat_minor": 4
}
