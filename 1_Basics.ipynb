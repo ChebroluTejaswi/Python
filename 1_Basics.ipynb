{
 "cells": [
  {
   "cell_type": "markdown",
   "metadata": {},
   "source": [
    "## Variable Declaration"
   ]
  },
  {
   "cell_type": "code",
   "execution_count": 2,
   "metadata": {},
   "outputs": [],
   "source": [
    "# assigning multiple variables using a single line of code \n",
    "a,b,c,d=12,\"teju\",2.3,7+8j"
   ]
  },
  {
   "cell_type": "code",
   "execution_count": null,
   "metadata": {},
   "outputs": [],
   "source": [
    "c=7+8j\n",
    "print(type(c))\n",
    "print(c.real)\n",
    "print(c.imag)\n",
    "# c. then press tab - it will display all related functions. "
   ]
  },
  {
   "cell_type": "code",
   "execution_count": 7,
   "metadata": {},
   "outputs": [
    {
     "name": "stdout",
     "output_type": "stream",
     "text": [
      "[1, 9] hi\n"
     ]
    }
   ],
   "source": [
    "a,b,c=12,20.3,[1,9]\n",
    "print(c)"
   ]
  },
  {
   "cell_type": "code",
   "execution_count": 8,
   "metadata": {},
   "outputs": [
    {
     "name": "stdout",
     "output_type": "stream",
     "text": [
      "7\n"
     ]
    },
    {
     "data": {
      "text/plain": [
       "'abcabcabcabcabcabcabcabcabcabc'"
      ]
     },
     "execution_count": 8,
     "metadata": {},
     "output_type": "execute_result"
    }
   ],
   "source": [
    "# 1+'tej' will generate error as it is a heterogenous expression, but print(1,\"tej\") will work fine\n",
    "# In that case we can use type casting\n",
    "s=\"abcdefg\"\n",
    "s[-1]\n",
    "print(len(s))\n",
    "\"abc\" *10"
   ]
  },
  {
   "cell_type": "code",
   "execution_count": 21,
   "metadata": {},
   "outputs": [
    {
     "data": {
      "text/plain": [
       "array([0.5])"
      ]
     },
     "execution_count": 21,
     "metadata": {},
     "output_type": "execute_result"
    }
   ],
   "source": [
    "True-True # will display 0\n",
    "# True is 1 and False is 0.\n",
    "# True/false will generate error (division by zero)\n",
    "# only in numpy the above expression will display inf( because numpy has a keyword inf)\n",
    "import numpy as np\n",
    "# np.asanyarray([1/0]) # will generate an error\n",
    "# np.asanyarray(1/0) # will generate an error\n",
    "np.asanyarray(1/2) # will not generate an error\n",
    "# np.asanyarray([1]/2) # will generate an error\n",
    "np.asanyarray([1])/2 # will not genrate an error\n",
    "np.asanyarray([1,2,4])/0 # will not generate an error\n"
   ]
  },
  {
   "cell_type": "markdown",
   "metadata": {},
   "source": [
    "## Inputs"
   ]
  },
  {
   "cell_type": "code",
   "execution_count": null,
   "metadata": {},
   "outputs": [],
   "source": [
    "a=input(\"enter data:\") #by default our input will be converted to string\n",
    "type(a)\n",
    "# a+a will concatenate (ouput: aa)\n",
    "b=int(input(\"enter second data:\"))\n",
    "type(b)\n",
    "# b+b will perform addition operation( output: b+b)"
   ]
  },
  {
   "cell_type": "markdown",
   "metadata": {},
   "source": [
    "## String\n",
    "<li><b>Immutable:</b> string characters cannot be changed</li>\n",
    "<li><b>Accessed by index:</b> zero based indexing</li>"
   ]
  },
  {
   "cell_type": "code",
   "execution_count": 59,
   "metadata": {},
   "outputs": [
    {
     "data": {
      "text/plain": [
       "'isjt'"
      ]
     },
     "execution_count": 59,
     "metadata": {},
     "output_type": "execute_result"
    }
   ],
   "source": [
    "s=\"tejaswi\" \n",
    "#   t   e   j   a   s   w   i\n",
    "#   0   1   2   3   4   5   6\n",
    "s[-1]\n",
    "s[0:2]\n",
    "s[0:6:3] # 3 placeholders: 1st=> from index; 2nd=> to index; 3rd=> operation/ sequence you have to follow\n",
    "s[::-1]  # output: iwsajet\n",
    "s[::2]   # output: tjsi\n",
    "s[::-2]  # output: isjt\n",
    "# if we donot specify starting and ending index then based on 3rd value it will generate the output\n",
    "# 3rd placeholder sign  +ve=> starting:0 ending:last index\n",
    "# 3rd placeholder sign  -v=> starting:last index and ending:0\n"
   ]
  },
  {
   "cell_type": "markdown",
   "metadata": {},
   "source": [
    "## List\n",
    "<li><b>Ordered:</b> the order in which you specify the elements will remain for lifetime</li>\n",
    "<li><b>Mutable:</b> elements can be added/deleted/shifted/updated even after assigning </li>\n",
    "<li><b>Dynamic:</b> variable size</li>\n",
    "<li><b>Accessed by index:</b> zero based indexing</li>\n",
    "<li><b>Nested to arbitary depth</b></li>\n",
    "<li><b>Contains any arbitary objects:</b> can be homogenous as well as heterogenous</li> "
   ]
  },
  {
   "cell_type": "code",
   "execution_count": 40,
   "metadata": {},
   "outputs": [
    {
     "name": "stdout",
     "output_type": "stream",
     "text": [
      "['sudh', 21, 3, [1, 2], 6]\n"
     ]
    },
    {
     "data": {
      "text/plain": [
       "['sudh', 21, 3, [1, 2], 6, 65.34, 'sudh', 21, 3, [1, 2], 6, 65.34]"
      ]
     },
     "execution_count": 40,
     "metadata": {},
     "output_type": "execute_result"
    }
   ],
   "source": [
    "l=[\"sudh\",21,3,[1,2]] # we can store heterogenous / multiple type of data\n",
    "l.append(6)\n",
    "print(l)\n",
    "#forward and backward indexing is possible\n",
    "l[0][::-1] # prints reverse of l[0] element.\n",
    "l[::-1] #prints reverse of whole list.\n",
    "# l[1][::-1] will generate error ( as int is not subscriptable)\n",
    "#integer is not iterative object.\n",
    "l=l+[65.34]\n",
    "l*2\n",
    "l[::] #prints whole list"
   ]
  },
  {
   "cell_type": "code",
   "execution_count": 54,
   "metadata": {},
   "outputs": [
    {
     "data": {
      "text/plain": [
       "[-10, -3, -4, -5, -6, -7, -8, -9]"
      ]
     },
     "execution_count": 54,
     "metadata": {},
     "output_type": "execute_result"
    }
   ],
   "source": [
    "l=list(range(4,10))\n",
    "l\n",
    "# range will accept only integers in core python.\n",
    "# in numpy range accepts float as well\n",
    "l_1=list(range(2,10,3))\n",
    "l_1\n",
    "l_2=list(range(-2,-10,3))\n",
    "l_2=list(range(-2,-10,-1)) #lower bound is included but upper bound is excluded\n",
    "l_2\n",
    "l_2[0]=-10 #mutable\n",
    "l_2"
   ]
  },
  {
   "cell_type": "markdown",
   "metadata": {},
   "source": [
    "## Tuples\n",
    "<li><b>Ordered:</b> the order in which you specify the elements will remain for lifetime</li>\n",
    "<li><b>Immutable:</b> elements can't be modified once assigned</li>\n",
    "<li><b>Not Dynamic:</b> content is fixed and never changes</li>\n",
    "<li><b>Accessed by index:</b> zero based indexing</li>\n",
    "<li><b>Nested to arbitary depth</b></li>\n",
    "<li><b>Contains any arbitary objects:</b> can be homogenous as well as heterogenous</li> "
   ]
  },
  {
   "cell_type": "code",
   "execution_count": null,
   "metadata": {},
   "outputs": [],
   "source": [
    "a=(1,2,3)\n",
    "type(a)\n",
    "a[::-1]\n",
    "# a[0]=13 will throw an error as tuples are immutable\n",
    "# tuple object does not support item assignment\n",
    "a=(7,6) # this will work - item re assignment.\n",
    "# when we are reassigning new mem add are created, we are no more trying to change any specific address\n",
    "# whereas mutable means changing value at specific mem address/index."
   ]
  },
  {
   "cell_type": "code",
   "execution_count": 55,
   "metadata": {},
   "outputs": [
    {
     "data": {
      "text/plain": [
       "['2', '3', '4']"
      ]
     },
     "execution_count": 55,
     "metadata": {},
     "output_type": "execute_result"
    }
   ],
   "source": [
    "user=[]\n",
    "for i in range(3):\n",
    "    value=input()\n",
    "    user.append(value)\n",
    "user\n",
    "\n",
    "# always code gets executed line by line."
   ]
  }
 ],
 "metadata": {
  "kernelspec": {
   "display_name": "Python 3",
   "language": "python",
   "name": "python3"
  },
  "language_info": {
   "codemirror_mode": {
    "name": "ipython",
    "version": 3
   },
   "file_extension": ".py",
   "mimetype": "text/x-python",
   "name": "python",
   "nbconvert_exporter": "python",
   "pygments_lexer": "ipython3",
   "version": "3.9.5"
  }
 },
 "nbformat": 4,
 "nbformat_minor": 4
}
