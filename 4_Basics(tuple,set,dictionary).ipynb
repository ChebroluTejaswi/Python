{
 "cells": [
  {
   "cell_type": "markdown",
   "metadata": {},
   "source": [
    "### Tuples\n"
   ]
  },
  {
   "cell_type": "code",
   "execution_count": null,
   "metadata": {},
   "outputs": [],
   "source": [
    "t=(1,2,2,5,6,7,\"sudh\",\"ineuron\")\n",
    "# As tuples are immutable we cannot add new elements.\n",
    "# only two functions are available\n",
    "t.count(2) \n",
    "t.index(2) # returns the first occurance index.\n",
    "del(t) # deletes the whole tuple\n",
    "# del(t[1]) tuple's object doesnot support item deletion."
   ]
  },
  {
   "cell_type": "markdown",
   "metadata": {},
   "source": [
    "###  Sets"
   ]
  },
  {
   "cell_type": "code",
   "execution_count": null,
   "metadata": {},
   "outputs": [],
   "source": [
    "# builds an unordered collection of items\n",
    "s= set()\n",
    "s={1,2,8,2,\"teju\",\"Teju\",4} #case-sensitive set will keep both teju and Teju\n",
    "s.add(3)"
   ]
  },
  {
   "cell_type": "code",
   "execution_count": null,
   "metadata": {},
   "outputs": [],
   "source": [
    "# to remove duplicates in list, we can convert a list to set.\n",
    "l1=[1,2,3,3,4]\n",
    "set(l1)\n",
    "l2=[1,2,3,[6,7,4]]\n",
    "# set(l2) will generate error - unhashable type list\n",
    "set(l2[-1]) # will work \n",
    "# to convert rest of the list into set (ignoring nested list)\n",
    "s1=set()\n",
    "for i in l2:\n",
    "    if type(i)!=list:\n",
    "        s1.add(i) \n",
    "print(s1)"
   ]
  },
  {
   "cell_type": "code",
   "execution_count": null,
   "metadata": {},
   "outputs": [],
   "source": [
    "# s1.remove(\"999\") will generate error if 999 is not present\n",
    "s.discard(\"999\") # will not generate error even if 999 is not present\n",
    "s.discard(8) # argument is the value which we wnat to delete\n",
    "# s.pop() - takes index , removes an element and returns it \n",
    "# s.discard() - takes value, removes and doesnot return anything"
   ]
  },
  {
   "cell_type": "code",
   "execution_count": null,
   "metadata": {},
   "outputs": [],
   "source": [
    "x={\"ineuron\",\"machine\",\"learning\"}\n",
    "y={\"stats\",\"deep-learning\",\"computer vision\",\"ineuron\"}\n",
    "x.difference(y) #returns the elements present in x but not in y\n",
    "y.difference(x) #returns the elements present in x but not in y\n",
    "# x.difference_update(y) updates the set x.\n",
    "# index operations, slicing are not possible in set.\n",
    "# reason:set never stores in ordered fashion, each time you run the ouput order differs\n",
    "# if we want to perform indexing operation then we can store set into list, then apply indexing operations"
   ]
  },
  {
   "cell_type": "markdown",
   "metadata": {},
   "source": [
    "###  Dictionaries"
   ]
  },
  {
   "cell_type": "code",
   "execution_count": 2,
   "metadata": {},
   "outputs": [
    {
     "data": {
      "text/plain": [
       "{4: 'sudh', 5: 'kumar', 'k1': [1, 2, 3, 4, 5], 6: (4, 5, 6, 7, 8), 7: ''}"
      ]
     },
     "execution_count": 2,
     "metadata": {},
     "output_type": "execute_result"
    }
   ],
   "source": [
    "#d={\"key\":\"value\"}\n",
    "# key should be unique(recently updated one will be saved)\n",
    "d={4:\"sudh\",5:\"kumar\",\"k1\":[1,2,3,4,5],6:(4,5,6,7,8),7:_}\n",
    "# we cannot use any spl char for key and also for value.\n",
    "# value accepts only '_'.meaning: for that particular key \n",
    "# whole dictionary will be assigned as value(unless there is some value assigned to it already.)\n",
    "# _ is a placeholder.\n",
    "d"
   ]
  },
  {
   "cell_type": "code",
   "execution_count": null,
   "metadata": {},
   "outputs": [],
   "source": [
    "# d1={1:23,\"teju\":22,_:3} will generate error. becoz: we have not assigned any value to placeholder.\n",
    "# d1={1:23,{4:5,7:8}:8} key can't be a dictionary\n",
    "# d1={1:23,8:{4:5,7:8}} value can be a dictionary"
   ]
  },
  {
   "cell_type": "code",
   "execution_count": 14,
   "metadata": {},
   "outputs": [
    {
     "name": "stdout",
     "output_type": "stream",
     "text": [
      "4\n",
      "5\n",
      "k1\n",
      "6\n",
      "7\n"
     ]
    }
   ],
   "source": [
    "# dictionaries does not work with index\n",
    "d.get(4)\n",
    "d[5]=\"kumari\" #if key 5 does not exist then it creates a new key value pair.\n",
    "for i in d:\n",
    "    print(i) #prints only keys\n",
    "d.keys() #returns all keys as a list\n",
    "d.values() #returns all values as a list\n",
    "d.items() #returns key and value as a tuple\n",
    "for i in d.keys():\n",
    "    if type(d[i])==dict:\n",
    "        print(d[i])"
   ]
  },
  {
   "cell_type": "code",
   "execution_count": 1,
   "metadata": {},
   "outputs": [],
   "source": [
    "dic1={}\n",
    "for i in range(5):\n",
    "    dic1[i]=i**2\n",
    "dic1\n",
    "#using dictionary comprehension\n",
    "# dic= {dic[i]:i**2 for i in range(5)}\n",
    "dic2= {i:i**2 for i in range(5)}\n",
    "dic2\n",
    "s=\"ineuron\"\n",
    "dic3={i:\"ineuron\" for i in s}"
   ]
  },
  {
   "cell_type": "code",
   "execution_count": 42,
   "metadata": {},
   "outputs": [
    {
     "name": "stdout",
     "output_type": "stream",
     "text": [
      "56\n",
      "else\n"
     ]
    },
    {
     "ename": "TypeError",
     "evalue": "'>' not supported between instances of 'str' and 'int'",
     "output_type": "error",
     "traceback": [
      "\u001b[1;31m---------------------------------------------------------------------------\u001b[0m",
      "\u001b[1;31mTypeError\u001b[0m                                 Traceback (most recent call last)",
      "\u001b[1;32m<ipython-input-42-53438def5314>\u001b[0m in \u001b[0;36m<module>\u001b[1;34m\u001b[0m\n\u001b[0;32m     22\u001b[0m         \u001b[0mprint\u001b[0m\u001b[1;33m(\u001b[0m\u001b[1;34m\"else\"\u001b[0m\u001b[1;33m)\u001b[0m\u001b[1;33m\u001b[0m\u001b[1;33m\u001b[0m\u001b[0m\n\u001b[0;32m     23\u001b[0m         \u001b[1;32mfor\u001b[0m \u001b[0mj\u001b[0m \u001b[1;32min\u001b[0m \u001b[0mi\u001b[0m\u001b[1;33m:\u001b[0m\u001b[1;33m\u001b[0m\u001b[1;33m\u001b[0m\u001b[0m\n\u001b[1;32m---> 24\u001b[1;33m             \u001b[1;32mif\u001b[0m \u001b[0mj\u001b[0m\u001b[1;33m>\u001b[0m \u001b[0mmax2\u001b[0m\u001b[1;33m:\u001b[0m\u001b[1;33m\u001b[0m\u001b[1;33m\u001b[0m\u001b[0m\n\u001b[0m\u001b[0;32m     25\u001b[0m                 \u001b[0mmax2\u001b[0m\u001b[1;33m=\u001b[0m\u001b[0mj\u001b[0m\u001b[1;33m\u001b[0m\u001b[1;33m\u001b[0m\u001b[0m\n\u001b[0;32m     26\u001b[0m \u001b[0mprint\u001b[0m\u001b[1;33m(\u001b[0m\u001b[0mmax2\u001b[0m\u001b[1;33m)\u001b[0m\u001b[1;33m\u001b[0m\u001b[1;33m\u001b[0m\u001b[0m\n",
      "\u001b[1;31mTypeError\u001b[0m: '>' not supported between instances of 'str' and 'int'"
     ]
    }
   ],
   "source": [
    "dic={\"ineuron\":{\"a\":23,\"b\":34,\"c\":56},\"course\":{\"d\":45,\"e\":12}}\n",
    "dic\n",
    "max1=0\n",
    "# below code can be used only when there are nested dictionaries\n",
    "for i in dic.values():\n",
    "    for j in i.values():\n",
    "        if j>max1:\n",
    "            max1=j\n",
    "print(max1)\n",
    "\n",
    "dic={\"ineuron\":{\"a\":23,\"b\":34,\"c\":56},\"course\":{\"d\":45,\"e\":12},\"xyz\":99,\"a\":[1,9,2,111]}\n",
    "max2=0\n",
    "for i in dic.values():\n",
    "    if type(i) == int:\n",
    "        if max2<i:\n",
    "            max2=i\n",
    "    elif type(i) == dict:\n",
    "        for j in i.values():\n",
    "            if j> max2:\n",
    "                max2=j\n",
    "print(max2)"
   ]
  },
  {
   "cell_type": "code",
   "execution_count": 44,
   "metadata": {},
   "outputs": [
    {
     "name": "stdout",
     "output_type": "stream",
     "text": [
      "dict_keys(['a', 'c', 'd'])\n"
     ]
    }
   ],
   "source": [
    "# No matter how the format of dictionary is, we need to find out the max value\n",
    "d={\"a\":{\"b\":[1,2,3]},\"c\":123,\"d\":{\"s\":{1,7,9}}}\n",
    "print(d.keys())"
   ]
  }
 ],
 "metadata": {
  "interpreter": {
   "hash": "3d79dcf316147821ae274b03680be6f97592d7d120faed864fd87e43e0cdf84e"
  },
  "kernelspec": {
   "display_name": "Python 3.9.5 64-bit",
   "name": "python3"
  },
  "language_info": {
   "codemirror_mode": {
    "name": "ipython",
    "version": 3
   },
   "file_extension": ".py",
   "mimetype": "text/x-python",
   "name": "python",
   "nbconvert_exporter": "python",
   "pygments_lexer": "ipython3",
   "version": "3.9.5"
  }
 },
 "nbformat": 4,
 "nbformat_minor": 4
}
