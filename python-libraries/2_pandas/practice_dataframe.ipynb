{
 "cells": [
  {
   "cell_type": "code",
   "execution_count": 2,
   "metadata": {},
   "outputs": [],
   "source": [
    "# Importing library\n",
    "import pandas as pd\n",
    "import numpy as np"
   ]
  },
  {
   "cell_type": "markdown",
   "metadata": {},
   "source": [
    "<hr>"
   ]
  },
  {
   "cell_type": "markdown",
   "metadata": {},
   "source": [
    "#### Creation"
   ]
  },
  {
   "cell_type": "code",
   "execution_count": 3,
   "metadata": {},
   "outputs": [
    {
     "data": {
      "text/plain": [
       "DatetimeIndex(['2022-12-02 01:24:33.436034', '2022-12-03 01:24:33.436034',\n",
       "               '2022-12-04 01:24:33.436034', '2022-12-05 01:24:33.436034',\n",
       "               '2022-12-06 01:24:33.436034', '2022-12-07 01:24:33.436034'],\n",
       "              dtype='datetime64[ns]', freq='D')"
      ]
     },
     "execution_count": 3,
     "metadata": {},
     "output_type": "execute_result"
    }
   ],
   "source": [
    "dates=pd.date_range('today',periods=6) # genrating series of dates\n",
    "dates"
   ]
  },
  {
   "cell_type": "code",
   "execution_count": 4,
   "metadata": {},
   "outputs": [
    {
     "data": {
      "text/plain": [
       "array([[ 0.0675921 ,  0.11305097, -0.61863441,  1.2191485 ],\n",
       "       [-1.14584752, -0.14293356, -0.20264996, -0.40379728],\n",
       "       [ 2.48149781,  0.19654238,  2.23777932,  0.16199914],\n",
       "       [-0.69056299,  1.19059092,  0.13237706, -0.04756303],\n",
       "       [-0.38278409,  0.01066403,  0.30811046, -0.02007542],\n",
       "       [-0.00744326, -0.03842168, -0.32652199, -0.24187252]])"
      ]
     },
     "execution_count": 4,
     "metadata": {},
     "output_type": "execute_result"
    }
   ],
   "source": [
    "num_arr=np.random.randn(6,4)\n",
    "num_arr"
   ]
  },
  {
   "cell_type": "code",
   "execution_count": 5,
   "metadata": {},
   "outputs": [
    {
     "data": {
      "text/plain": [
       "['A', 'B', 'C', 'D']"
      ]
     },
     "execution_count": 5,
     "metadata": {},
     "output_type": "execute_result"
    }
   ],
   "source": [
    "columns=['A','B','C','D']\n",
    "columns"
   ]
  },
  {
   "cell_type": "code",
   "execution_count": 6,
   "metadata": {},
   "outputs": [
    {
     "data": {
      "text/html": [
       "<div>\n",
       "<style scoped>\n",
       "    .dataframe tbody tr th:only-of-type {\n",
       "        vertical-align: middle;\n",
       "    }\n",
       "\n",
       "    .dataframe tbody tr th {\n",
       "        vertical-align: top;\n",
       "    }\n",
       "\n",
       "    .dataframe thead th {\n",
       "        text-align: right;\n",
       "    }\n",
       "</style>\n",
       "<table border=\"1\" class=\"dataframe\">\n",
       "  <thead>\n",
       "    <tr style=\"text-align: right;\">\n",
       "      <th></th>\n",
       "      <th>A</th>\n",
       "      <th>B</th>\n",
       "      <th>C</th>\n",
       "      <th>D</th>\n",
       "    </tr>\n",
       "  </thead>\n",
       "  <tbody>\n",
       "    <tr>\n",
       "      <th>2022-12-02 01:24:33.436034</th>\n",
       "      <td>0.067592</td>\n",
       "      <td>0.113051</td>\n",
       "      <td>-0.618634</td>\n",
       "      <td>1.219148</td>\n",
       "    </tr>\n",
       "    <tr>\n",
       "      <th>2022-12-03 01:24:33.436034</th>\n",
       "      <td>-1.145848</td>\n",
       "      <td>-0.142934</td>\n",
       "      <td>-0.202650</td>\n",
       "      <td>-0.403797</td>\n",
       "    </tr>\n",
       "    <tr>\n",
       "      <th>2022-12-04 01:24:33.436034</th>\n",
       "      <td>2.481498</td>\n",
       "      <td>0.196542</td>\n",
       "      <td>2.237779</td>\n",
       "      <td>0.161999</td>\n",
       "    </tr>\n",
       "    <tr>\n",
       "      <th>2022-12-05 01:24:33.436034</th>\n",
       "      <td>-0.690563</td>\n",
       "      <td>1.190591</td>\n",
       "      <td>0.132377</td>\n",
       "      <td>-0.047563</td>\n",
       "    </tr>\n",
       "    <tr>\n",
       "      <th>2022-12-06 01:24:33.436034</th>\n",
       "      <td>-0.382784</td>\n",
       "      <td>0.010664</td>\n",
       "      <td>0.308110</td>\n",
       "      <td>-0.020075</td>\n",
       "    </tr>\n",
       "    <tr>\n",
       "      <th>2022-12-07 01:24:33.436034</th>\n",
       "      <td>-0.007443</td>\n",
       "      <td>-0.038422</td>\n",
       "      <td>-0.326522</td>\n",
       "      <td>-0.241873</td>\n",
       "    </tr>\n",
       "  </tbody>\n",
       "</table>\n",
       "</div>"
      ],
      "text/plain": [
       "                                   A         B         C         D\n",
       "2022-12-02 01:24:33.436034  0.067592  0.113051 -0.618634  1.219148\n",
       "2022-12-03 01:24:33.436034 -1.145848 -0.142934 -0.202650 -0.403797\n",
       "2022-12-04 01:24:33.436034  2.481498  0.196542  2.237779  0.161999\n",
       "2022-12-05 01:24:33.436034 -0.690563  1.190591  0.132377 -0.047563\n",
       "2022-12-06 01:24:33.436034 -0.382784  0.010664  0.308110 -0.020075\n",
       "2022-12-07 01:24:33.436034 -0.007443 -0.038422 -0.326522 -0.241873"
      ]
     },
     "execution_count": 6,
     "metadata": {},
     "output_type": "execute_result"
    }
   ],
   "source": [
    "df=pd.DataFrame(num_arr,index=dates,columns=columns)\n",
    "df"
   ]
  },
  {
   "cell_type": "markdown",
   "metadata": {},
   "source": [
    "<hr>"
   ]
  },
  {
   "cell_type": "markdown",
   "metadata": {},
   "source": [
    "#### Attributes and Methods"
   ]
  },
  {
   "cell_type": "code",
   "execution_count": 7,
   "metadata": {},
   "outputs": [
    {
     "data": {
      "text/plain": [
       "A    float64\n",
       "B    float64\n",
       "C    float64\n",
       "D    float64\n",
       "dtype: object"
      ]
     },
     "execution_count": 7,
     "metadata": {},
     "output_type": "execute_result"
    }
   ],
   "source": [
    "df.dtypes"
   ]
  },
  {
   "cell_type": "code",
   "execution_count": 8,
   "metadata": {},
   "outputs": [
    {
     "data": {
      "text/html": [
       "<div>\n",
       "<style scoped>\n",
       "    .dataframe tbody tr th:only-of-type {\n",
       "        vertical-align: middle;\n",
       "    }\n",
       "\n",
       "    .dataframe tbody tr th {\n",
       "        vertical-align: top;\n",
       "    }\n",
       "\n",
       "    .dataframe thead th {\n",
       "        text-align: right;\n",
       "    }\n",
       "</style>\n",
       "<table border=\"1\" class=\"dataframe\">\n",
       "  <thead>\n",
       "    <tr style=\"text-align: right;\">\n",
       "      <th></th>\n",
       "      <th>A</th>\n",
       "      <th>B</th>\n",
       "      <th>C</th>\n",
       "      <th>D</th>\n",
       "    </tr>\n",
       "  </thead>\n",
       "  <tbody>\n",
       "    <tr>\n",
       "      <th>2022-12-02 01:24:33.436034</th>\n",
       "      <td>0.067592</td>\n",
       "      <td>0.113051</td>\n",
       "      <td>-0.618634</td>\n",
       "      <td>1.219148</td>\n",
       "    </tr>\n",
       "    <tr>\n",
       "      <th>2022-12-03 01:24:33.436034</th>\n",
       "      <td>-1.145848</td>\n",
       "      <td>-0.142934</td>\n",
       "      <td>-0.202650</td>\n",
       "      <td>-0.403797</td>\n",
       "    </tr>\n",
       "    <tr>\n",
       "      <th>2022-12-04 01:24:33.436034</th>\n",
       "      <td>2.481498</td>\n",
       "      <td>0.196542</td>\n",
       "      <td>2.237779</td>\n",
       "      <td>0.161999</td>\n",
       "    </tr>\n",
       "    <tr>\n",
       "      <th>2022-12-05 01:24:33.436034</th>\n",
       "      <td>-0.690563</td>\n",
       "      <td>1.190591</td>\n",
       "      <td>0.132377</td>\n",
       "      <td>-0.047563</td>\n",
       "    </tr>\n",
       "    <tr>\n",
       "      <th>2022-12-06 01:24:33.436034</th>\n",
       "      <td>-0.382784</td>\n",
       "      <td>0.010664</td>\n",
       "      <td>0.308110</td>\n",
       "      <td>-0.020075</td>\n",
       "    </tr>\n",
       "  </tbody>\n",
       "</table>\n",
       "</div>"
      ],
      "text/plain": [
       "                                   A         B         C         D\n",
       "2022-12-02 01:24:33.436034  0.067592  0.113051 -0.618634  1.219148\n",
       "2022-12-03 01:24:33.436034 -1.145848 -0.142934 -0.202650 -0.403797\n",
       "2022-12-04 01:24:33.436034  2.481498  0.196542  2.237779  0.161999\n",
       "2022-12-05 01:24:33.436034 -0.690563  1.190591  0.132377 -0.047563\n",
       "2022-12-06 01:24:33.436034 -0.382784  0.010664  0.308110 -0.020075"
      ]
     },
     "execution_count": 8,
     "metadata": {},
     "output_type": "execute_result"
    }
   ],
   "source": [
    "df.head() #displays first 5 records of data"
   ]
  },
  {
   "cell_type": "code",
   "execution_count": 9,
   "metadata": {},
   "outputs": [
    {
     "data": {
      "text/plain": [
       "DatetimeIndex(['2022-12-02 01:24:33.436034', '2022-12-03 01:24:33.436034',\n",
       "               '2022-12-04 01:24:33.436034', '2022-12-05 01:24:33.436034',\n",
       "               '2022-12-06 01:24:33.436034', '2022-12-07 01:24:33.436034'],\n",
       "              dtype='datetime64[ns]', freq='D')"
      ]
     },
     "execution_count": 9,
     "metadata": {},
     "output_type": "execute_result"
    }
   ],
   "source": [
    "df.index"
   ]
  },
  {
   "cell_type": "code",
   "execution_count": 10,
   "metadata": {},
   "outputs": [
    {
     "data": {
      "text/plain": [
       "array([[ 0.0675921 ,  0.11305097, -0.61863441,  1.2191485 ],\n",
       "       [-1.14584752, -0.14293356, -0.20264996, -0.40379728],\n",
       "       [ 2.48149781,  0.19654238,  2.23777932,  0.16199914],\n",
       "       [-0.69056299,  1.19059092,  0.13237706, -0.04756303],\n",
       "       [-0.38278409,  0.01066403,  0.30811046, -0.02007542],\n",
       "       [-0.00744326, -0.03842168, -0.32652199, -0.24187252]])"
      ]
     },
     "execution_count": 10,
     "metadata": {},
     "output_type": "execute_result"
    }
   ],
   "source": [
    "df.values"
   ]
  },
  {
   "cell_type": "code",
   "execution_count": 11,
   "metadata": {},
   "outputs": [
    {
     "data": {
      "text/plain": [
       "Index(['A', 'B', 'C', 'D'], dtype='object')"
      ]
     },
     "execution_count": 11,
     "metadata": {},
     "output_type": "execute_result"
    }
   ],
   "source": [
    "df.columns"
   ]
  },
  {
   "cell_type": "code",
   "execution_count": 12,
   "metadata": {},
   "outputs": [
    {
     "data": {
      "text/plain": [
       "(6, 4)"
      ]
     },
     "execution_count": 12,
     "metadata": {},
     "output_type": "execute_result"
    }
   ],
   "source": [
    "df.shape"
   ]
  },
  {
   "cell_type": "code",
   "execution_count": 13,
   "metadata": {},
   "outputs": [
    {
     "data": {
      "text/html": [
       "<div>\n",
       "<style scoped>\n",
       "    .dataframe tbody tr th:only-of-type {\n",
       "        vertical-align: middle;\n",
       "    }\n",
       "\n",
       "    .dataframe tbody tr th {\n",
       "        vertical-align: top;\n",
       "    }\n",
       "\n",
       "    .dataframe thead th {\n",
       "        text-align: right;\n",
       "    }\n",
       "</style>\n",
       "<table border=\"1\" class=\"dataframe\">\n",
       "  <thead>\n",
       "    <tr style=\"text-align: right;\">\n",
       "      <th></th>\n",
       "      <th>A</th>\n",
       "      <th>B</th>\n",
       "      <th>C</th>\n",
       "      <th>D</th>\n",
       "    </tr>\n",
       "  </thead>\n",
       "  <tbody>\n",
       "    <tr>\n",
       "      <th>count</th>\n",
       "      <td>6.000000</td>\n",
       "      <td>6.000000</td>\n",
       "      <td>6.000000</td>\n",
       "      <td>6.000000</td>\n",
       "    </tr>\n",
       "    <tr>\n",
       "      <th>mean</th>\n",
       "      <td>0.053742</td>\n",
       "      <td>0.221582</td>\n",
       "      <td>0.255077</td>\n",
       "      <td>0.111307</td>\n",
       "    </tr>\n",
       "    <tr>\n",
       "      <th>std</th>\n",
       "      <td>1.271337</td>\n",
       "      <td>0.489151</td>\n",
       "      <td>1.025682</td>\n",
       "      <td>0.576620</td>\n",
       "    </tr>\n",
       "    <tr>\n",
       "      <th>min</th>\n",
       "      <td>-1.145848</td>\n",
       "      <td>-0.142934</td>\n",
       "      <td>-0.618634</td>\n",
       "      <td>-0.403797</td>\n",
       "    </tr>\n",
       "    <tr>\n",
       "      <th>25%</th>\n",
       "      <td>-0.613618</td>\n",
       "      <td>-0.026150</td>\n",
       "      <td>-0.295554</td>\n",
       "      <td>-0.193295</td>\n",
       "    </tr>\n",
       "    <tr>\n",
       "      <th>50%</th>\n",
       "      <td>-0.195114</td>\n",
       "      <td>0.061857</td>\n",
       "      <td>-0.035136</td>\n",
       "      <td>-0.033819</td>\n",
       "    </tr>\n",
       "    <tr>\n",
       "      <th>75%</th>\n",
       "      <td>0.048833</td>\n",
       "      <td>0.175670</td>\n",
       "      <td>0.264177</td>\n",
       "      <td>0.116480</td>\n",
       "    </tr>\n",
       "    <tr>\n",
       "      <th>max</th>\n",
       "      <td>2.481498</td>\n",
       "      <td>1.190591</td>\n",
       "      <td>2.237779</td>\n",
       "      <td>1.219148</td>\n",
       "    </tr>\n",
       "  </tbody>\n",
       "</table>\n",
       "</div>"
      ],
      "text/plain": [
       "              A         B         C         D\n",
       "count  6.000000  6.000000  6.000000  6.000000\n",
       "mean   0.053742  0.221582  0.255077  0.111307\n",
       "std    1.271337  0.489151  1.025682  0.576620\n",
       "min   -1.145848 -0.142934 -0.618634 -0.403797\n",
       "25%   -0.613618 -0.026150 -0.295554 -0.193295\n",
       "50%   -0.195114  0.061857 -0.035136 -0.033819\n",
       "75%    0.048833  0.175670  0.264177  0.116480\n",
       "max    2.481498  1.190591  2.237779  1.219148"
      ]
     },
     "execution_count": 13,
     "metadata": {},
     "output_type": "execute_result"
    }
   ],
   "source": [
    "df.describe() # displays the statistical data of dataframe"
   ]
  },
  {
   "cell_type": "code",
   "execution_count": 14,
   "metadata": {},
   "outputs": [
    {
     "data": {
      "text/html": [
       "<div>\n",
       "<style scoped>\n",
       "    .dataframe tbody tr th:only-of-type {\n",
       "        vertical-align: middle;\n",
       "    }\n",
       "\n",
       "    .dataframe tbody tr th {\n",
       "        vertical-align: top;\n",
       "    }\n",
       "\n",
       "    .dataframe thead th {\n",
       "        text-align: right;\n",
       "    }\n",
       "</style>\n",
       "<table border=\"1\" class=\"dataframe\">\n",
       "  <thead>\n",
       "    <tr style=\"text-align: right;\">\n",
       "      <th></th>\n",
       "      <th>2022-12-02 01:24:33.436034</th>\n",
       "      <th>2022-12-03 01:24:33.436034</th>\n",
       "      <th>2022-12-04 01:24:33.436034</th>\n",
       "      <th>2022-12-05 01:24:33.436034</th>\n",
       "      <th>2022-12-06 01:24:33.436034</th>\n",
       "      <th>2022-12-07 01:24:33.436034</th>\n",
       "    </tr>\n",
       "  </thead>\n",
       "  <tbody>\n",
       "    <tr>\n",
       "      <th>A</th>\n",
       "      <td>0.067592</td>\n",
       "      <td>-1.145848</td>\n",
       "      <td>2.481498</td>\n",
       "      <td>-0.690563</td>\n",
       "      <td>-0.382784</td>\n",
       "      <td>-0.007443</td>\n",
       "    </tr>\n",
       "    <tr>\n",
       "      <th>B</th>\n",
       "      <td>0.113051</td>\n",
       "      <td>-0.142934</td>\n",
       "      <td>0.196542</td>\n",
       "      <td>1.190591</td>\n",
       "      <td>0.010664</td>\n",
       "      <td>-0.038422</td>\n",
       "    </tr>\n",
       "    <tr>\n",
       "      <th>C</th>\n",
       "      <td>-0.618634</td>\n",
       "      <td>-0.202650</td>\n",
       "      <td>2.237779</td>\n",
       "      <td>0.132377</td>\n",
       "      <td>0.308110</td>\n",
       "      <td>-0.326522</td>\n",
       "    </tr>\n",
       "    <tr>\n",
       "      <th>D</th>\n",
       "      <td>1.219148</td>\n",
       "      <td>-0.403797</td>\n",
       "      <td>0.161999</td>\n",
       "      <td>-0.047563</td>\n",
       "      <td>-0.020075</td>\n",
       "      <td>-0.241873</td>\n",
       "    </tr>\n",
       "  </tbody>\n",
       "</table>\n",
       "</div>"
      ],
      "text/plain": [
       "   2022-12-02 01:24:33.436034  2022-12-03 01:24:33.436034  \\\n",
       "A                    0.067592                   -1.145848   \n",
       "B                    0.113051                   -0.142934   \n",
       "C                   -0.618634                   -0.202650   \n",
       "D                    1.219148                   -0.403797   \n",
       "\n",
       "   2022-12-04 01:24:33.436034  2022-12-05 01:24:33.436034  \\\n",
       "A                    2.481498                   -0.690563   \n",
       "B                    0.196542                    1.190591   \n",
       "C                    2.237779                    0.132377   \n",
       "D                    0.161999                   -0.047563   \n",
       "\n",
       "   2022-12-06 01:24:33.436034  2022-12-07 01:24:33.436034  \n",
       "A                   -0.382784                   -0.007443  \n",
       "B                    0.010664                   -0.038422  \n",
       "C                    0.308110                   -0.326522  \n",
       "D                   -0.020075                   -0.241873  "
      ]
     },
     "execution_count": 14,
     "metadata": {},
     "output_type": "execute_result"
    }
   ],
   "source": [
    "df.T # Transpose (columns and index are exchanged"
   ]
  },
  {
   "cell_type": "code",
   "execution_count": 15,
   "metadata": {},
   "outputs": [
    {
     "data": {
      "text/html": [
       "<div>\n",
       "<style scoped>\n",
       "    .dataframe tbody tr th:only-of-type {\n",
       "        vertical-align: middle;\n",
       "    }\n",
       "\n",
       "    .dataframe tbody tr th {\n",
       "        vertical-align: top;\n",
       "    }\n",
       "\n",
       "    .dataframe thead th {\n",
       "        text-align: right;\n",
       "    }\n",
       "</style>\n",
       "<table border=\"1\" class=\"dataframe\">\n",
       "  <thead>\n",
       "    <tr style=\"text-align: right;\">\n",
       "      <th></th>\n",
       "      <th>A</th>\n",
       "      <th>B</th>\n",
       "      <th>C</th>\n",
       "      <th>D</th>\n",
       "    </tr>\n",
       "  </thead>\n",
       "  <tbody>\n",
       "    <tr>\n",
       "      <th>2022-12-03 01:24:33.436034</th>\n",
       "      <td>-1.145848</td>\n",
       "      <td>-0.142934</td>\n",
       "      <td>-0.202650</td>\n",
       "      <td>-0.403797</td>\n",
       "    </tr>\n",
       "    <tr>\n",
       "      <th>2022-12-05 01:24:33.436034</th>\n",
       "      <td>-0.690563</td>\n",
       "      <td>1.190591</td>\n",
       "      <td>0.132377</td>\n",
       "      <td>-0.047563</td>\n",
       "    </tr>\n",
       "    <tr>\n",
       "      <th>2022-12-06 01:24:33.436034</th>\n",
       "      <td>-0.382784</td>\n",
       "      <td>0.010664</td>\n",
       "      <td>0.308110</td>\n",
       "      <td>-0.020075</td>\n",
       "    </tr>\n",
       "    <tr>\n",
       "      <th>2022-12-07 01:24:33.436034</th>\n",
       "      <td>-0.007443</td>\n",
       "      <td>-0.038422</td>\n",
       "      <td>-0.326522</td>\n",
       "      <td>-0.241873</td>\n",
       "    </tr>\n",
       "    <tr>\n",
       "      <th>2022-12-02 01:24:33.436034</th>\n",
       "      <td>0.067592</td>\n",
       "      <td>0.113051</td>\n",
       "      <td>-0.618634</td>\n",
       "      <td>1.219148</td>\n",
       "    </tr>\n",
       "    <tr>\n",
       "      <th>2022-12-04 01:24:33.436034</th>\n",
       "      <td>2.481498</td>\n",
       "      <td>0.196542</td>\n",
       "      <td>2.237779</td>\n",
       "      <td>0.161999</td>\n",
       "    </tr>\n",
       "  </tbody>\n",
       "</table>\n",
       "</div>"
      ],
      "text/plain": [
       "                                   A         B         C         D\n",
       "2022-12-03 01:24:33.436034 -1.145848 -0.142934 -0.202650 -0.403797\n",
       "2022-12-05 01:24:33.436034 -0.690563  1.190591  0.132377 -0.047563\n",
       "2022-12-06 01:24:33.436034 -0.382784  0.010664  0.308110 -0.020075\n",
       "2022-12-07 01:24:33.436034 -0.007443 -0.038422 -0.326522 -0.241873\n",
       "2022-12-02 01:24:33.436034  0.067592  0.113051 -0.618634  1.219148\n",
       "2022-12-04 01:24:33.436034  2.481498  0.196542  2.237779  0.161999"
      ]
     },
     "execution_count": 15,
     "metadata": {},
     "output_type": "execute_result"
    }
   ],
   "source": [
    "df.sort_values(by='A') # doesnot modify the original dataframe"
   ]
  },
  {
   "cell_type": "code",
   "execution_count": 16,
   "metadata": {},
   "outputs": [
    {
     "data": {
      "text/html": [
       "<div>\n",
       "<style scoped>\n",
       "    .dataframe tbody tr th:only-of-type {\n",
       "        vertical-align: middle;\n",
       "    }\n",
       "\n",
       "    .dataframe tbody tr th {\n",
       "        vertical-align: top;\n",
       "    }\n",
       "\n",
       "    .dataframe thead th {\n",
       "        text-align: right;\n",
       "    }\n",
       "</style>\n",
       "<table border=\"1\" class=\"dataframe\">\n",
       "  <thead>\n",
       "    <tr style=\"text-align: right;\">\n",
       "      <th></th>\n",
       "      <th>A</th>\n",
       "      <th>B</th>\n",
       "      <th>C</th>\n",
       "      <th>D</th>\n",
       "    </tr>\n",
       "  </thead>\n",
       "  <tbody>\n",
       "    <tr>\n",
       "      <th>2022-12-02 01:24:33.436034</th>\n",
       "      <td>False</td>\n",
       "      <td>False</td>\n",
       "      <td>False</td>\n",
       "      <td>False</td>\n",
       "    </tr>\n",
       "    <tr>\n",
       "      <th>2022-12-03 01:24:33.436034</th>\n",
       "      <td>False</td>\n",
       "      <td>False</td>\n",
       "      <td>False</td>\n",
       "      <td>False</td>\n",
       "    </tr>\n",
       "    <tr>\n",
       "      <th>2022-12-04 01:24:33.436034</th>\n",
       "      <td>False</td>\n",
       "      <td>False</td>\n",
       "      <td>False</td>\n",
       "      <td>False</td>\n",
       "    </tr>\n",
       "    <tr>\n",
       "      <th>2022-12-05 01:24:33.436034</th>\n",
       "      <td>False</td>\n",
       "      <td>False</td>\n",
       "      <td>False</td>\n",
       "      <td>False</td>\n",
       "    </tr>\n",
       "    <tr>\n",
       "      <th>2022-12-06 01:24:33.436034</th>\n",
       "      <td>False</td>\n",
       "      <td>False</td>\n",
       "      <td>False</td>\n",
       "      <td>False</td>\n",
       "    </tr>\n",
       "    <tr>\n",
       "      <th>2022-12-07 01:24:33.436034</th>\n",
       "      <td>False</td>\n",
       "      <td>False</td>\n",
       "      <td>False</td>\n",
       "      <td>False</td>\n",
       "    </tr>\n",
       "  </tbody>\n",
       "</table>\n",
       "</div>"
      ],
      "text/plain": [
       "                                A      B      C      D\n",
       "2022-12-02 01:24:33.436034  False  False  False  False\n",
       "2022-12-03 01:24:33.436034  False  False  False  False\n",
       "2022-12-04 01:24:33.436034  False  False  False  False\n",
       "2022-12-05 01:24:33.436034  False  False  False  False\n",
       "2022-12-06 01:24:33.436034  False  False  False  False\n",
       "2022-12-07 01:24:33.436034  False  False  False  False"
      ]
     },
     "execution_count": 16,
     "metadata": {},
     "output_type": "execute_result"
    }
   ],
   "source": [
    "df.isnull()"
   ]
  },
  {
   "cell_type": "markdown",
   "metadata": {},
   "source": [
    "<hr>"
   ]
  },
  {
   "cell_type": "markdown",
   "metadata": {},
   "source": [
    "#### Slicing"
   ]
  },
  {
   "cell_type": "code",
   "execution_count": 17,
   "metadata": {},
   "outputs": [
    {
     "data": {
      "text/html": [
       "<div>\n",
       "<style scoped>\n",
       "    .dataframe tbody tr th:only-of-type {\n",
       "        vertical-align: middle;\n",
       "    }\n",
       "\n",
       "    .dataframe tbody tr th {\n",
       "        vertical-align: top;\n",
       "    }\n",
       "\n",
       "    .dataframe thead th {\n",
       "        text-align: right;\n",
       "    }\n",
       "</style>\n",
       "<table border=\"1\" class=\"dataframe\">\n",
       "  <thead>\n",
       "    <tr style=\"text-align: right;\">\n",
       "      <th></th>\n",
       "      <th>A</th>\n",
       "      <th>B</th>\n",
       "      <th>C</th>\n",
       "      <th>D</th>\n",
       "    </tr>\n",
       "  </thead>\n",
       "  <tbody>\n",
       "    <tr>\n",
       "      <th>2022-12-02 01:24:33.436034</th>\n",
       "      <td>0.067592</td>\n",
       "      <td>0.113051</td>\n",
       "      <td>-0.618634</td>\n",
       "      <td>1.219148</td>\n",
       "    </tr>\n",
       "    <tr>\n",
       "      <th>2022-12-03 01:24:33.436034</th>\n",
       "      <td>-1.145848</td>\n",
       "      <td>-0.142934</td>\n",
       "      <td>-0.202650</td>\n",
       "      <td>-0.403797</td>\n",
       "    </tr>\n",
       "    <tr>\n",
       "      <th>2022-12-04 01:24:33.436034</th>\n",
       "      <td>2.481498</td>\n",
       "      <td>0.196542</td>\n",
       "      <td>2.237779</td>\n",
       "      <td>0.161999</td>\n",
       "    </tr>\n",
       "    <tr>\n",
       "      <th>2022-12-05 01:24:33.436034</th>\n",
       "      <td>-0.690563</td>\n",
       "      <td>1.190591</td>\n",
       "      <td>0.132377</td>\n",
       "      <td>-0.047563</td>\n",
       "    </tr>\n",
       "    <tr>\n",
       "      <th>2022-12-06 01:24:33.436034</th>\n",
       "      <td>-0.382784</td>\n",
       "      <td>0.010664</td>\n",
       "      <td>0.308110</td>\n",
       "      <td>-0.020075</td>\n",
       "    </tr>\n",
       "    <tr>\n",
       "      <th>2022-12-07 01:24:33.436034</th>\n",
       "      <td>-0.007443</td>\n",
       "      <td>-0.038422</td>\n",
       "      <td>-0.326522</td>\n",
       "      <td>-0.241873</td>\n",
       "    </tr>\n",
       "  </tbody>\n",
       "</table>\n",
       "</div>"
      ],
      "text/plain": [
       "                                   A         B         C         D\n",
       "2022-12-02 01:24:33.436034  0.067592  0.113051 -0.618634  1.219148\n",
       "2022-12-03 01:24:33.436034 -1.145848 -0.142934 -0.202650 -0.403797\n",
       "2022-12-04 01:24:33.436034  2.481498  0.196542  2.237779  0.161999\n",
       "2022-12-05 01:24:33.436034 -0.690563  1.190591  0.132377 -0.047563\n",
       "2022-12-06 01:24:33.436034 -0.382784  0.010664  0.308110 -0.020075\n",
       "2022-12-07 01:24:33.436034 -0.007443 -0.038422 -0.326522 -0.241873"
      ]
     },
     "execution_count": 17,
     "metadata": {},
     "output_type": "execute_result"
    }
   ],
   "source": [
    "df"
   ]
  },
  {
   "cell_type": "code",
   "execution_count": 18,
   "metadata": {},
   "outputs": [
    {
     "data": {
      "text/html": [
       "<div>\n",
       "<style scoped>\n",
       "    .dataframe tbody tr th:only-of-type {\n",
       "        vertical-align: middle;\n",
       "    }\n",
       "\n",
       "    .dataframe tbody tr th {\n",
       "        vertical-align: top;\n",
       "    }\n",
       "\n",
       "    .dataframe thead th {\n",
       "        text-align: right;\n",
       "    }\n",
       "</style>\n",
       "<table border=\"1\" class=\"dataframe\">\n",
       "  <thead>\n",
       "    <tr style=\"text-align: right;\">\n",
       "      <th></th>\n",
       "      <th>A</th>\n",
       "      <th>B</th>\n",
       "      <th>C</th>\n",
       "      <th>D</th>\n",
       "    </tr>\n",
       "  </thead>\n",
       "  <tbody>\n",
       "    <tr>\n",
       "      <th>2022-12-03 01:24:33.436034</th>\n",
       "      <td>-1.145848</td>\n",
       "      <td>-0.142934</td>\n",
       "      <td>-0.202650</td>\n",
       "      <td>-0.403797</td>\n",
       "    </tr>\n",
       "    <tr>\n",
       "      <th>2022-12-04 01:24:33.436034</th>\n",
       "      <td>2.481498</td>\n",
       "      <td>0.196542</td>\n",
       "      <td>2.237779</td>\n",
       "      <td>0.161999</td>\n",
       "    </tr>\n",
       "  </tbody>\n",
       "</table>\n",
       "</div>"
      ],
      "text/plain": [
       "                                   A         B         C         D\n",
       "2022-12-03 01:24:33.436034 -1.145848 -0.142934 -0.202650 -0.403797\n",
       "2022-12-04 01:24:33.436034  2.481498  0.196542  2.237779  0.161999"
      ]
     },
     "execution_count": 18,
     "metadata": {},
     "output_type": "execute_result"
    }
   ],
   "source": [
    "df[1:3] "
   ]
  },
  {
   "cell_type": "code",
   "execution_count": 19,
   "metadata": {},
   "outputs": [
    {
     "data": {
      "text/html": [
       "<div>\n",
       "<style scoped>\n",
       "    .dataframe tbody tr th:only-of-type {\n",
       "        vertical-align: middle;\n",
       "    }\n",
       "\n",
       "    .dataframe tbody tr th {\n",
       "        vertical-align: top;\n",
       "    }\n",
       "\n",
       "    .dataframe thead th {\n",
       "        text-align: right;\n",
       "    }\n",
       "</style>\n",
       "<table border=\"1\" class=\"dataframe\">\n",
       "  <thead>\n",
       "    <tr style=\"text-align: right;\">\n",
       "      <th></th>\n",
       "      <th>A</th>\n",
       "    </tr>\n",
       "  </thead>\n",
       "  <tbody>\n",
       "    <tr>\n",
       "      <th>2022-12-02 01:24:33.436034</th>\n",
       "      <td>0.067592</td>\n",
       "    </tr>\n",
       "    <tr>\n",
       "      <th>2022-12-03 01:24:33.436034</th>\n",
       "      <td>-1.145848</td>\n",
       "    </tr>\n",
       "    <tr>\n",
       "      <th>2022-12-04 01:24:33.436034</th>\n",
       "      <td>2.481498</td>\n",
       "    </tr>\n",
       "    <tr>\n",
       "      <th>2022-12-05 01:24:33.436034</th>\n",
       "      <td>-0.690563</td>\n",
       "    </tr>\n",
       "    <tr>\n",
       "      <th>2022-12-06 01:24:33.436034</th>\n",
       "      <td>-0.382784</td>\n",
       "    </tr>\n",
       "    <tr>\n",
       "      <th>2022-12-07 01:24:33.436034</th>\n",
       "      <td>-0.007443</td>\n",
       "    </tr>\n",
       "  </tbody>\n",
       "</table>\n",
       "</div>"
      ],
      "text/plain": [
       "                                   A\n",
       "2022-12-02 01:24:33.436034  0.067592\n",
       "2022-12-03 01:24:33.436034 -1.145848\n",
       "2022-12-04 01:24:33.436034  2.481498\n",
       "2022-12-05 01:24:33.436034 -0.690563\n",
       "2022-12-06 01:24:33.436034 -0.382784\n",
       "2022-12-07 01:24:33.436034 -0.007443"
      ]
     },
     "execution_count": 19,
     "metadata": {},
     "output_type": "execute_result"
    }
   ],
   "source": [
    "df[['A']]  # query dataframe by tag (or column name)"
   ]
  },
  {
   "cell_type": "code",
   "execution_count": 20,
   "metadata": {},
   "outputs": [
    {
     "data": {
      "text/html": [
       "<div>\n",
       "<style scoped>\n",
       "    .dataframe tbody tr th:only-of-type {\n",
       "        vertical-align: middle;\n",
       "    }\n",
       "\n",
       "    .dataframe tbody tr th {\n",
       "        vertical-align: top;\n",
       "    }\n",
       "\n",
       "    .dataframe thead th {\n",
       "        text-align: right;\n",
       "    }\n",
       "</style>\n",
       "<table border=\"1\" class=\"dataframe\">\n",
       "  <thead>\n",
       "    <tr style=\"text-align: right;\">\n",
       "      <th></th>\n",
       "      <th>A</th>\n",
       "      <th>B</th>\n",
       "      <th>C</th>\n",
       "      <th>D</th>\n",
       "    </tr>\n",
       "  </thead>\n",
       "  <tbody>\n",
       "    <tr>\n",
       "      <th>2022-12-03 01:24:33.436034</th>\n",
       "      <td>-1.145848</td>\n",
       "      <td>-0.142934</td>\n",
       "      <td>-0.202650</td>\n",
       "      <td>-0.403797</td>\n",
       "    </tr>\n",
       "    <tr>\n",
       "      <th>2022-12-04 01:24:33.436034</th>\n",
       "      <td>2.481498</td>\n",
       "      <td>0.196542</td>\n",
       "      <td>2.237779</td>\n",
       "      <td>0.161999</td>\n",
       "    </tr>\n",
       "  </tbody>\n",
       "</table>\n",
       "</div>"
      ],
      "text/plain": [
       "                                   A         B         C         D\n",
       "2022-12-03 01:24:33.436034 -1.145848 -0.142934 -0.202650 -0.403797\n",
       "2022-12-04 01:24:33.436034  2.481498  0.196542  2.237779  0.161999"
      ]
     },
     "execution_count": 20,
     "metadata": {},
     "output_type": "execute_result"
    }
   ],
   "source": [
    "df.iloc[1:3]"
   ]
  },
  {
   "cell_type": "markdown",
   "metadata": {},
   "source": [
    "<hr>"
   ]
  },
  {
   "cell_type": "code",
   "execution_count": 21,
   "metadata": {},
   "outputs": [
    {
     "data": {
      "text/html": [
       "<div>\n",
       "<style scoped>\n",
       "    .dataframe tbody tr th:only-of-type {\n",
       "        vertical-align: middle;\n",
       "    }\n",
       "\n",
       "    .dataframe tbody tr th {\n",
       "        vertical-align: top;\n",
       "    }\n",
       "\n",
       "    .dataframe thead th {\n",
       "        text-align: right;\n",
       "    }\n",
       "</style>\n",
       "<table border=\"1\" class=\"dataframe\">\n",
       "  <thead>\n",
       "    <tr style=\"text-align: right;\">\n",
       "      <th></th>\n",
       "      <th>A</th>\n",
       "      <th>B</th>\n",
       "      <th>C</th>\n",
       "      <th>D</th>\n",
       "    </tr>\n",
       "  </thead>\n",
       "  <tbody>\n",
       "    <tr>\n",
       "      <th>2022-12-02 01:24:33.436034</th>\n",
       "      <td>0.067592</td>\n",
       "      <td>0.113051</td>\n",
       "      <td>-0.618634</td>\n",
       "      <td>1.219148</td>\n",
       "    </tr>\n",
       "    <tr>\n",
       "      <th>2022-12-03 01:24:33.436034</th>\n",
       "      <td>-1.145848</td>\n",
       "      <td>-0.142934</td>\n",
       "      <td>-0.202650</td>\n",
       "      <td>-0.403797</td>\n",
       "    </tr>\n",
       "    <tr>\n",
       "      <th>2022-12-04 01:24:33.436034</th>\n",
       "      <td>2.481498</td>\n",
       "      <td>0.196542</td>\n",
       "      <td>2.237779</td>\n",
       "      <td>0.161999</td>\n",
       "    </tr>\n",
       "    <tr>\n",
       "      <th>2022-12-05 01:24:33.436034</th>\n",
       "      <td>-0.690563</td>\n",
       "      <td>1.190591</td>\n",
       "      <td>0.132377</td>\n",
       "      <td>-0.047563</td>\n",
       "    </tr>\n",
       "    <tr>\n",
       "      <th>2022-12-06 01:24:33.436034</th>\n",
       "      <td>-0.382784</td>\n",
       "      <td>0.010664</td>\n",
       "      <td>0.308110</td>\n",
       "      <td>-0.020075</td>\n",
       "    </tr>\n",
       "    <tr>\n",
       "      <th>2022-12-07 01:24:33.436034</th>\n",
       "      <td>-0.007443</td>\n",
       "      <td>-0.038422</td>\n",
       "      <td>-0.326522</td>\n",
       "      <td>-0.241873</td>\n",
       "    </tr>\n",
       "  </tbody>\n",
       "</table>\n",
       "</div>"
      ],
      "text/plain": [
       "                                   A         B         C         D\n",
       "2022-12-02 01:24:33.436034  0.067592  0.113051 -0.618634  1.219148\n",
       "2022-12-03 01:24:33.436034 -1.145848 -0.142934 -0.202650 -0.403797\n",
       "2022-12-04 01:24:33.436034  2.481498  0.196542  2.237779  0.161999\n",
       "2022-12-05 01:24:33.436034 -0.690563  1.190591  0.132377 -0.047563\n",
       "2022-12-06 01:24:33.436034 -0.382784  0.010664  0.308110 -0.020075\n",
       "2022-12-07 01:24:33.436034 -0.007443 -0.038422 -0.326522 -0.241873"
      ]
     },
     "execution_count": 21,
     "metadata": {},
     "output_type": "execute_result"
    }
   ],
   "source": [
    "df2=df.copy()\n",
    "df2"
   ]
  },
  {
   "cell_type": "code",
   "execution_count": 22,
   "metadata": {},
   "outputs": [
    {
     "data": {
      "text/plain": [
       "A    0.053742\n",
       "B    0.221582\n",
       "C    0.255077\n",
       "D    0.111307\n",
       "dtype: float64"
      ]
     },
     "execution_count": 22,
     "metadata": {},
     "output_type": "execute_result"
    }
   ],
   "source": [
    "df.mean() # returns mean value column wise"
   ]
  },
  {
   "cell_type": "code",
   "execution_count": 23,
   "metadata": {},
   "outputs": [
    {
     "data": {
      "text/plain": [
       "0.32245205289795603"
      ]
     },
     "execution_count": 23,
     "metadata": {},
     "output_type": "execute_result"
    }
   ],
   "source": [
    "df['A'].sum()"
   ]
  },
  {
   "cell_type": "code",
   "execution_count": 24,
   "metadata": {},
   "outputs": [
    {
     "data": {
      "text/html": [
       "<div>\n",
       "<style scoped>\n",
       "    .dataframe tbody tr th:only-of-type {\n",
       "        vertical-align: middle;\n",
       "    }\n",
       "\n",
       "    .dataframe tbody tr th {\n",
       "        vertical-align: top;\n",
       "    }\n",
       "\n",
       "    .dataframe thead th {\n",
       "        text-align: right;\n",
       "    }\n",
       "</style>\n",
       "<table border=\"1\" class=\"dataframe\">\n",
       "  <thead>\n",
       "    <tr style=\"text-align: right;\">\n",
       "      <th></th>\n",
       "      <th>A</th>\n",
       "      <th>B</th>\n",
       "      <th>C</th>\n",
       "      <th>D</th>\n",
       "    </tr>\n",
       "  </thead>\n",
       "  <tbody>\n",
       "    <tr>\n",
       "      <th>2022-12-02 01:24:33.436034</th>\n",
       "      <td>0.067592</td>\n",
       "      <td>0.113051</td>\n",
       "      <td>-0.618634</td>\n",
       "      <td>1.219148</td>\n",
       "    </tr>\n",
       "    <tr>\n",
       "      <th>2022-12-03 01:24:33.436034</th>\n",
       "      <td>-1.145848</td>\n",
       "      <td>-0.142934</td>\n",
       "      <td>-0.202650</td>\n",
       "      <td>-0.403797</td>\n",
       "    </tr>\n",
       "    <tr>\n",
       "      <th>2022-12-04 01:24:33.436034</th>\n",
       "      <td>2.481498</td>\n",
       "      <td>0.196542</td>\n",
       "      <td>2.237779</td>\n",
       "      <td>0.161999</td>\n",
       "    </tr>\n",
       "    <tr>\n",
       "      <th>2022-12-05 01:24:33.436034</th>\n",
       "      <td>-0.690563</td>\n",
       "      <td>1.190591</td>\n",
       "      <td>0.132377</td>\n",
       "      <td>-0.047563</td>\n",
       "    </tr>\n",
       "    <tr>\n",
       "      <th>2022-12-06 01:24:33.436034</th>\n",
       "      <td>-0.382784</td>\n",
       "      <td>0.010664</td>\n",
       "      <td>0.308110</td>\n",
       "      <td>-0.020075</td>\n",
       "    </tr>\n",
       "    <tr>\n",
       "      <th>2022-12-07 01:24:33.436034</th>\n",
       "      <td>-0.007443</td>\n",
       "      <td>-0.038422</td>\n",
       "      <td>-0.326522</td>\n",
       "      <td>-0.241873</td>\n",
       "    </tr>\n",
       "  </tbody>\n",
       "</table>\n",
       "</div>"
      ],
      "text/plain": [
       "                                   A         B         C         D\n",
       "2022-12-02 01:24:33.436034  0.067592  0.113051 -0.618634  1.219148\n",
       "2022-12-03 01:24:33.436034 -1.145848 -0.142934 -0.202650 -0.403797\n",
       "2022-12-04 01:24:33.436034  2.481498  0.196542  2.237779  0.161999\n",
       "2022-12-05 01:24:33.436034 -0.690563  1.190591  0.132377 -0.047563\n",
       "2022-12-06 01:24:33.436034 -0.382784  0.010664  0.308110 -0.020075\n",
       "2022-12-07 01:24:33.436034 -0.007443 -0.038422 -0.326522 -0.241873"
      ]
     },
     "execution_count": 24,
     "metadata": {},
     "output_type": "execute_result"
    }
   ],
   "source": [
    "# To fill in na values in dataframe\n",
    "df.fillna(4)"
   ]
  },
  {
   "cell_type": "code",
   "execution_count": 25,
   "metadata": {},
   "outputs": [
    {
     "data": {
      "text/html": [
       "<div>\n",
       "<style scoped>\n",
       "    .dataframe tbody tr th:only-of-type {\n",
       "        vertical-align: middle;\n",
       "    }\n",
       "\n",
       "    .dataframe tbody tr th {\n",
       "        vertical-align: top;\n",
       "    }\n",
       "\n",
       "    .dataframe thead th {\n",
       "        text-align: right;\n",
       "    }\n",
       "</style>\n",
       "<table border=\"1\" class=\"dataframe\">\n",
       "  <thead>\n",
       "    <tr style=\"text-align: right;\">\n",
       "      <th></th>\n",
       "      <th>A</th>\n",
       "      <th>B</th>\n",
       "      <th>C</th>\n",
       "      <th>D</th>\n",
       "    </tr>\n",
       "  </thead>\n",
       "  <tbody>\n",
       "    <tr>\n",
       "      <th>2022-12-02 01:24:33.436034</th>\n",
       "      <td>0.067592</td>\n",
       "      <td>0.113051</td>\n",
       "      <td>-0.618634</td>\n",
       "      <td>1.219148</td>\n",
       "    </tr>\n",
       "    <tr>\n",
       "      <th>2022-12-03 01:24:33.436034</th>\n",
       "      <td>-1.145848</td>\n",
       "      <td>-0.142934</td>\n",
       "      <td>-0.202650</td>\n",
       "      <td>-0.403797</td>\n",
       "    </tr>\n",
       "    <tr>\n",
       "      <th>2022-12-04 01:24:33.436034</th>\n",
       "      <td>2.481498</td>\n",
       "      <td>0.196542</td>\n",
       "      <td>2.237779</td>\n",
       "      <td>0.161999</td>\n",
       "    </tr>\n",
       "    <tr>\n",
       "      <th>2022-12-05 01:24:33.436034</th>\n",
       "      <td>-0.690563</td>\n",
       "      <td>1.190591</td>\n",
       "      <td>0.132377</td>\n",
       "      <td>-0.047563</td>\n",
       "    </tr>\n",
       "    <tr>\n",
       "      <th>2022-12-06 01:24:33.436034</th>\n",
       "      <td>-0.382784</td>\n",
       "      <td>0.010664</td>\n",
       "      <td>0.308110</td>\n",
       "      <td>-0.020075</td>\n",
       "    </tr>\n",
       "    <tr>\n",
       "      <th>2022-12-07 01:24:33.436034</th>\n",
       "      <td>-0.007443</td>\n",
       "      <td>-0.038422</td>\n",
       "      <td>-0.326522</td>\n",
       "      <td>-0.241873</td>\n",
       "    </tr>\n",
       "  </tbody>\n",
       "</table>\n",
       "</div>"
      ],
      "text/plain": [
       "                                   A         B         C         D\n",
       "2022-12-02 01:24:33.436034  0.067592  0.113051 -0.618634  1.219148\n",
       "2022-12-03 01:24:33.436034 -1.145848 -0.142934 -0.202650 -0.403797\n",
       "2022-12-04 01:24:33.436034  2.481498  0.196542  2.237779  0.161999\n",
       "2022-12-05 01:24:33.436034 -0.690563  1.190591  0.132377 -0.047563\n",
       "2022-12-06 01:24:33.436034 -0.382784  0.010664  0.308110 -0.020075\n",
       "2022-12-07 01:24:33.436034 -0.007443 -0.038422 -0.326522 -0.241873"
      ]
     },
     "execution_count": 25,
     "metadata": {},
     "output_type": "execute_result"
    }
   ],
   "source": [
    "# To drop missing data\n",
    "df.dropna(how='any') \n",
    "# any-ante if the row has atleast one NA value.\n",
    "# all-if all the values in row are NA values."
   ]
  },
  {
   "cell_type": "markdown",
   "metadata": {},
   "source": [
    "<hr>"
   ]
  },
  {
   "cell_type": "markdown",
   "metadata": {},
   "source": [
    "#### Dataframe file operations"
   ]
  },
  {
   "cell_type": "code",
   "execution_count": 26,
   "metadata": {},
   "outputs": [],
   "source": [
    "# df.to_csv('data.csv') Saves the dataframe as CSV file in folder"
   ]
  },
  {
   "cell_type": "code",
   "execution_count": 27,
   "metadata": {},
   "outputs": [],
   "source": [
    "# df.to_excel('data.xlsx',sheet_name='Sheet1') Saves the dataframe as excel file in folder"
   ]
  },
  {
   "cell_type": "markdown",
   "metadata": {},
   "source": [
    "<hr>"
   ]
  },
  {
   "cell_type": "markdown",
   "metadata": {},
   "source": [
    "#### Visualization in Pandas"
   ]
  },
  {
   "cell_type": "code",
   "execution_count": 28,
   "metadata": {},
   "outputs": [],
   "source": [
    "import matplotlib.pyplot as plt"
   ]
  },
  {
   "cell_type": "code",
   "execution_count": 29,
   "metadata": {},
   "outputs": [
    {
     "data": {
      "text/plain": [
       "<AxesSubplot:>"
      ]
     },
     "execution_count": 29,
     "metadata": {},
     "output_type": "execute_result"
    },
    {
     "data": {
      "image/png": "[encoded data removed]",
      "text/plain": [
       "<Figure size 640x480 with 1 Axes>"
      ]
     },
     "metadata": {},
     "output_type": "display_data"
    }
   ],
   "source": [
    "ts=pd.Series(np.random.randn(20),index=pd.date_range('today',periods=20))\n",
    "ts=ts.cumsum()\n",
    "ts.plot()"
   ]
  },
  {
   "cell_type": "markdown",
   "metadata": {},
   "source": [
    "<hr>"
   ]
  },
  {
   "cell_type": "markdown",
   "metadata": {},
   "source": [
    "#### Removing repeated data using pandas"
   ]
  },
  {
   "cell_type": "code",
   "execution_count": 30,
   "metadata": {},
   "outputs": [
    {
     "data": {
      "text/html": [
       "<div>\n",
       "<style scoped>\n",
       "    .dataframe tbody tr th:only-of-type {\n",
       "        vertical-align: middle;\n",
       "    }\n",
       "\n",
       "    .dataframe tbody tr th {\n",
       "        vertical-align: top;\n",
       "    }\n",
       "\n",
       "    .dataframe thead th {\n",
       "        text-align: right;\n",
       "    }\n",
       "</style>\n",
       "<table border=\"1\" class=\"dataframe\">\n",
       "  <thead>\n",
       "    <tr style=\"text-align: right;\">\n",
       "      <th></th>\n",
       "      <th>A</th>\n",
       "    </tr>\n",
       "  </thead>\n",
       "  <tbody>\n",
       "    <tr>\n",
       "      <th>0</th>\n",
       "      <td>1</td>\n",
       "    </tr>\n",
       "    <tr>\n",
       "      <th>1</th>\n",
       "      <td>2</td>\n",
       "    </tr>\n",
       "    <tr>\n",
       "      <th>2</th>\n",
       "      <td>2</td>\n",
       "    </tr>\n",
       "    <tr>\n",
       "      <th>3</th>\n",
       "      <td>2</td>\n",
       "    </tr>\n",
       "    <tr>\n",
       "      <th>4</th>\n",
       "      <td>4</td>\n",
       "    </tr>\n",
       "    <tr>\n",
       "      <th>5</th>\n",
       "      <td>4</td>\n",
       "    </tr>\n",
       "    <tr>\n",
       "      <th>6</th>\n",
       "      <td>5</td>\n",
       "    </tr>\n",
       "    <tr>\n",
       "      <th>7</th>\n",
       "      <td>5</td>\n",
       "    </tr>\n",
       "    <tr>\n",
       "      <th>8</th>\n",
       "      <td>6</td>\n",
       "    </tr>\n",
       "    <tr>\n",
       "      <th>9</th>\n",
       "      <td>6</td>\n",
       "    </tr>\n",
       "    <tr>\n",
       "      <th>10</th>\n",
       "      <td>7</td>\n",
       "    </tr>\n",
       "    <tr>\n",
       "      <th>11</th>\n",
       "      <td>8</td>\n",
       "    </tr>\n",
       "    <tr>\n",
       "      <th>12</th>\n",
       "      <td>8</td>\n",
       "    </tr>\n",
       "  </tbody>\n",
       "</table>\n",
       "</div>"
      ],
      "text/plain": [
       "    A\n",
       "0   1\n",
       "1   2\n",
       "2   2\n",
       "3   2\n",
       "4   4\n",
       "5   4\n",
       "6   5\n",
       "7   5\n",
       "8   6\n",
       "9   6\n",
       "10  7\n",
       "11  8\n",
       "12  8"
      ]
     },
     "execution_count": 30,
     "metadata": {},
     "output_type": "execute_result"
    }
   ],
   "source": [
    "df = pd.DataFrame({'A': [1,2,2,2,4,4,5,5,6,6,7,8,8]})\n",
    "df"
   ]
  },
  {
   "cell_type": "code",
   "execution_count": 31,
   "metadata": {},
   "outputs": [
    {
     "data": {
      "text/html": [
       "<div>\n",
       "<style scoped>\n",
       "    .dataframe tbody tr th:only-of-type {\n",
       "        vertical-align: middle;\n",
       "    }\n",
       "\n",
       "    .dataframe tbody tr th {\n",
       "        vertical-align: top;\n",
       "    }\n",
       "\n",
       "    .dataframe thead th {\n",
       "        text-align: right;\n",
       "    }\n",
       "</style>\n",
       "<table border=\"1\" class=\"dataframe\">\n",
       "  <thead>\n",
       "    <tr style=\"text-align: right;\">\n",
       "      <th></th>\n",
       "      <th>A</th>\n",
       "    </tr>\n",
       "  </thead>\n",
       "  <tbody>\n",
       "    <tr>\n",
       "      <th>0</th>\n",
       "      <td>1</td>\n",
       "    </tr>\n",
       "    <tr>\n",
       "      <th>1</th>\n",
       "      <td>2</td>\n",
       "    </tr>\n",
       "    <tr>\n",
       "      <th>4</th>\n",
       "      <td>4</td>\n",
       "    </tr>\n",
       "    <tr>\n",
       "      <th>6</th>\n",
       "      <td>5</td>\n",
       "    </tr>\n",
       "    <tr>\n",
       "      <th>8</th>\n",
       "      <td>6</td>\n",
       "    </tr>\n",
       "    <tr>\n",
       "      <th>10</th>\n",
       "      <td>7</td>\n",
       "    </tr>\n",
       "    <tr>\n",
       "      <th>11</th>\n",
       "      <td>8</td>\n",
       "    </tr>\n",
       "  </tbody>\n",
       "</table>\n",
       "</div>"
      ],
      "text/plain": [
       "    A\n",
       "0   1\n",
       "1   2\n",
       "4   4\n",
       "6   5\n",
       "8   6\n",
       "10  7\n",
       "11  8"
      ]
     },
     "execution_count": 31,
     "metadata": {},
     "output_type": "execute_result"
    }
   ],
   "source": [
    "df.loc[df['A'].shift() !=df['A']] # by default - shift(1)"
   ]
  },
  {
   "cell_type": "markdown",
   "metadata": {},
   "source": [
    "#### Question"
   ]
  },
  {
   "cell_type": "markdown",
   "metadata": {},
   "source": [
    "Create a data frame marks using three student's data as shown below and performthe following operations using pandas library"
   ]
  },
  {
   "cell_type": "code",
   "execution_count": 32,
   "metadata": {},
   "outputs": [],
   "source": [
    "si=[33,28,18,13,10,35]\n",
    "se=[18,14,32,32,28,10]\n",
    "mi=[28,37,25,5,4,37]\n",
    "me=[34,19,14,27,26,26]\n",
    "ci=[28,12,4,34,1,31]\n",
    "ce=[29,33,4,20,10,26]"
   ]
  },
  {
   "cell_type": "code",
   "execution_count": 48,
   "metadata": {},
   "outputs": [],
   "source": [
    "df=pd.DataFrame(\n",
    "    {\"si\":si,\n",
    "    \"se\":se,\n",
    "    \"mi\":mi,\n",
    "    \"me\":me,\n",
    "    \"ci\":ci,\n",
    "    \"ce\":ce\n",
    "    },\n",
    "    index=pd.MultiIndex.from_tuples(\n",
    "        [('suresh','fs'),('suresh','ws'),\n",
    "         ('ramesh','fs'),('ramesh','ws'),\n",
    "         ('mahesh','fs'),('mahesh','ws')\n",
    "        ]\n",
    "    )\n",
    ")"
   ]
  },
  {
   "cell_type": "code",
   "execution_count": 49,
   "metadata": {},
   "outputs": [
    {
     "data": {
      "text/html": [
       "<div>\n",
       "<style scoped>\n",
       "    .dataframe tbody tr th:only-of-type {\n",
       "        vertical-align: middle;\n",
       "    }\n",
       "\n",
       "    .dataframe tbody tr th {\n",
       "        vertical-align: top;\n",
       "    }\n",
       "\n",
       "    .dataframe thead th {\n",
       "        text-align: right;\n",
       "    }\n",
       "</style>\n",
       "<table border=\"1\" class=\"dataframe\">\n",
       "  <thead>\n",
       "    <tr style=\"text-align: right;\">\n",
       "      <th></th>\n",
       "      <th></th>\n",
       "      <th>si</th>\n",
       "      <th>se</th>\n",
       "      <th>mi</th>\n",
       "      <th>me</th>\n",
       "      <th>ci</th>\n",
       "      <th>ce</th>\n",
       "    </tr>\n",
       "  </thead>\n",
       "  <tbody>\n",
       "    <tr>\n",
       "      <th rowspan=\"2\" valign=\"top\">suresh</th>\n",
       "      <th>fs</th>\n",
       "      <td>33</td>\n",
       "      <td>18</td>\n",
       "      <td>28</td>\n",
       "      <td>34</td>\n",
       "      <td>28</td>\n",
       "      <td>29</td>\n",
       "    </tr>\n",
       "    <tr>\n",
       "      <th>ws</th>\n",
       "      <td>28</td>\n",
       "      <td>14</td>\n",
       "      <td>37</td>\n",
       "      <td>19</td>\n",
       "      <td>12</td>\n",
       "      <td>33</td>\n",
       "    </tr>\n",
       "    <tr>\n",
       "      <th rowspan=\"2\" valign=\"top\">ramesh</th>\n",
       "      <th>fs</th>\n",
       "      <td>18</td>\n",
       "      <td>32</td>\n",
       "      <td>25</td>\n",
       "      <td>14</td>\n",
       "      <td>4</td>\n",
       "      <td>4</td>\n",
       "    </tr>\n",
       "    <tr>\n",
       "      <th>ws</th>\n",
       "      <td>13</td>\n",
       "      <td>32</td>\n",
       "      <td>5</td>\n",
       "      <td>27</td>\n",
       "      <td>34</td>\n",
       "      <td>20</td>\n",
       "    </tr>\n",
       "    <tr>\n",
       "      <th rowspan=\"2\" valign=\"top\">mahesh</th>\n",
       "      <th>fs</th>\n",
       "      <td>10</td>\n",
       "      <td>28</td>\n",
       "      <td>4</td>\n",
       "      <td>26</td>\n",
       "      <td>1</td>\n",
       "      <td>10</td>\n",
       "    </tr>\n",
       "    <tr>\n",
       "      <th>ws</th>\n",
       "      <td>35</td>\n",
       "      <td>10</td>\n",
       "      <td>37</td>\n",
       "      <td>26</td>\n",
       "      <td>31</td>\n",
       "      <td>26</td>\n",
       "    </tr>\n",
       "  </tbody>\n",
       "</table>\n",
       "</div>"
      ],
      "text/plain": [
       "           si  se  mi  me  ci  ce\n",
       "suresh fs  33  18  28  34  28  29\n",
       "       ws  28  14  37  19  12  33\n",
       "ramesh fs  18  32  25  14   4   4\n",
       "       ws  13  32   5  27  34  20\n",
       "mahesh fs  10  28   4  26   1  10\n",
       "       ws  35  10  37  26  31  26"
      ]
     },
     "execution_count": 49,
     "metadata": {},
     "output_type": "execute_result"
    }
   ],
   "source": [
    "df"
   ]
  },
  {
   "cell_type": "code",
   "execution_count": 50,
   "metadata": {},
   "outputs": [],
   "source": [
    "df.columns=pd.MultiIndex.from_tuples(\n",
    "        [('science','internal'),('science','external'),\n",
    "         ('math','internal'),('math','external'),\n",
    "         ('computer','internal'),('computer','external')\n",
    "        ]\n",
    "    )"
   ]
  },
  {
   "cell_type": "code",
   "execution_count": 51,
   "metadata": {},
   "outputs": [
    {
     "data": {
      "text/html": [
       "<div>\n",
       "<style scoped>\n",
       "    .dataframe tbody tr th:only-of-type {\n",
       "        vertical-align: middle;\n",
       "    }\n",
       "\n",
       "    .dataframe tbody tr th {\n",
       "        vertical-align: top;\n",
       "    }\n",
       "\n",
       "    .dataframe thead tr th {\n",
       "        text-align: left;\n",
       "    }\n",
       "</style>\n",
       "<table border=\"1\" class=\"dataframe\">\n",
       "  <thead>\n",
       "    <tr>\n",
       "      <th></th>\n",
       "      <th></th>\n",
       "      <th colspan=\"2\" halign=\"left\">science</th>\n",
       "      <th colspan=\"2\" halign=\"left\">math</th>\n",
       "      <th colspan=\"2\" halign=\"left\">computer</th>\n",
       "    </tr>\n",
       "    <tr>\n",
       "      <th></th>\n",
       "      <th></th>\n",
       "      <th>internal</th>\n",
       "      <th>external</th>\n",
       "      <th>internal</th>\n",
       "      <th>external</th>\n",
       "      <th>internal</th>\n",
       "      <th>external</th>\n",
       "    </tr>\n",
       "  </thead>\n",
       "  <tbody>\n",
       "    <tr>\n",
       "      <th rowspan=\"2\" valign=\"top\">suresh</th>\n",
       "      <th>fs</th>\n",
       "      <td>33</td>\n",
       "      <td>18</td>\n",
       "      <td>28</td>\n",
       "      <td>34</td>\n",
       "      <td>28</td>\n",
       "      <td>29</td>\n",
       "    </tr>\n",
       "    <tr>\n",
       "      <th>ws</th>\n",
       "      <td>28</td>\n",
       "      <td>14</td>\n",
       "      <td>37</td>\n",
       "      <td>19</td>\n",
       "      <td>12</td>\n",
       "      <td>33</td>\n",
       "    </tr>\n",
       "    <tr>\n",
       "      <th rowspan=\"2\" valign=\"top\">ramesh</th>\n",
       "      <th>fs</th>\n",
       "      <td>18</td>\n",
       "      <td>32</td>\n",
       "      <td>25</td>\n",
       "      <td>14</td>\n",
       "      <td>4</td>\n",
       "      <td>4</td>\n",
       "    </tr>\n",
       "    <tr>\n",
       "      <th>ws</th>\n",
       "      <td>13</td>\n",
       "      <td>32</td>\n",
       "      <td>5</td>\n",
       "      <td>27</td>\n",
       "      <td>34</td>\n",
       "      <td>20</td>\n",
       "    </tr>\n",
       "    <tr>\n",
       "      <th rowspan=\"2\" valign=\"top\">mahesh</th>\n",
       "      <th>fs</th>\n",
       "      <td>10</td>\n",
       "      <td>28</td>\n",
       "      <td>4</td>\n",
       "      <td>26</td>\n",
       "      <td>1</td>\n",
       "      <td>10</td>\n",
       "    </tr>\n",
       "    <tr>\n",
       "      <th>ws</th>\n",
       "      <td>35</td>\n",
       "      <td>10</td>\n",
       "      <td>37</td>\n",
       "      <td>26</td>\n",
       "      <td>31</td>\n",
       "      <td>26</td>\n",
       "    </tr>\n",
       "  </tbody>\n",
       "</table>\n",
       "</div>"
      ],
      "text/plain": [
       "           science              math          computer         \n",
       "          internal external internal external internal external\n",
       "suresh fs       33       18       28       34       28       29\n",
       "       ws       28       14       37       19       12       33\n",
       "ramesh fs       18       32       25       14        4        4\n",
       "       ws       13       32        5       27       34       20\n",
       "mahesh fs       10       28        4       26        1       10\n",
       "       ws       35       10       37       26       31       26"
      ]
     },
     "execution_count": 51,
     "metadata": {},
     "output_type": "execute_result"
    }
   ],
   "source": [
    "df"
   ]
  },
  {
   "cell_type": "markdown",
   "metadata": {},
   "source": [
    "Add data to marks for a new student dinesh."
   ]
  },
  {
   "cell_type": "code",
   "execution_count": 53,
   "metadata": {},
   "outputs": [],
   "source": [
    "df2=pd.DataFrame(\n",
    "    {\"si\":[5,16],\n",
    "    \"se\":[17,4],\n",
    "    \"mi\":[39,24],\n",
    "    \"me\":[7,1],\n",
    "    \"ci\":[29,24],\n",
    "    \"ce\":[17,15]},\n",
    "    index= pd.MultiIndex.from_tuples(\n",
    "        [(\"dinesh\",\"fs\"),(\"dinesh\",\"ws\")]\n",
    "    )\n",
    ")"
   ]
  },
  {
   "cell_type": "code",
   "execution_count": 54,
   "metadata": {},
   "outputs": [
    {
     "data": {
      "text/html": [
       "<div>\n",
       "<style scoped>\n",
       "    .dataframe tbody tr th:only-of-type {\n",
       "        vertical-align: middle;\n",
       "    }\n",
       "\n",
       "    .dataframe tbody tr th {\n",
       "        vertical-align: top;\n",
       "    }\n",
       "\n",
       "    .dataframe thead th {\n",
       "        text-align: right;\n",
       "    }\n",
       "</style>\n",
       "<table border=\"1\" class=\"dataframe\">\n",
       "  <thead>\n",
       "    <tr style=\"text-align: right;\">\n",
       "      <th></th>\n",
       "      <th></th>\n",
       "      <th>si</th>\n",
       "      <th>se</th>\n",
       "      <th>mi</th>\n",
       "      <th>me</th>\n",
       "      <th>ci</th>\n",
       "      <th>ce</th>\n",
       "    </tr>\n",
       "  </thead>\n",
       "  <tbody>\n",
       "    <tr>\n",
       "      <th rowspan=\"2\" valign=\"top\">dinesh</th>\n",
       "      <th>fs</th>\n",
       "      <td>5</td>\n",
       "      <td>17</td>\n",
       "      <td>39</td>\n",
       "      <td>7</td>\n",
       "      <td>29</td>\n",
       "      <td>17</td>\n",
       "    </tr>\n",
       "    <tr>\n",
       "      <th>ws</th>\n",
       "      <td>16</td>\n",
       "      <td>4</td>\n",
       "      <td>24</td>\n",
       "      <td>1</td>\n",
       "      <td>24</td>\n",
       "      <td>15</td>\n",
       "    </tr>\n",
       "  </tbody>\n",
       "</table>\n",
       "</div>"
      ],
      "text/plain": [
       "           si  se  mi  me  ci  ce\n",
       "dinesh fs   5  17  39   7  29  17\n",
       "       ws  16   4  24   1  24  15"
      ]
     },
     "execution_count": 54,
     "metadata": {},
     "output_type": "execute_result"
    }
   ],
   "source": [
    "df2"
   ]
  },
  {
   "cell_type": "code",
   "execution_count": 55,
   "metadata": {},
   "outputs": [],
   "source": [
    "df2.columns=pd.MultiIndex.from_tuples(\n",
    "        [('science','internal'),('science','external'),\n",
    "         ('math','internal'),('math','external'),\n",
    "         ('computer','internal'),('computer','external')\n",
    "        ]\n",
    "    )"
   ]
  },
  {
   "cell_type": "code",
   "execution_count": 56,
   "metadata": {},
   "outputs": [
    {
     "data": {
      "text/html": [
       "<div>\n",
       "<style scoped>\n",
       "    .dataframe tbody tr th:only-of-type {\n",
       "        vertical-align: middle;\n",
       "    }\n",
       "\n",
       "    .dataframe tbody tr th {\n",
       "        vertical-align: top;\n",
       "    }\n",
       "\n",
       "    .dataframe thead tr th {\n",
       "        text-align: left;\n",
       "    }\n",
       "</style>\n",
       "<table border=\"1\" class=\"dataframe\">\n",
       "  <thead>\n",
       "    <tr>\n",
       "      <th></th>\n",
       "      <th></th>\n",
       "      <th colspan=\"2\" halign=\"left\">science</th>\n",
       "      <th colspan=\"2\" halign=\"left\">math</th>\n",
       "      <th colspan=\"2\" halign=\"left\">computer</th>\n",
       "    </tr>\n",
       "    <tr>\n",
       "      <th></th>\n",
       "      <th></th>\n",
       "      <th>internal</th>\n",
       "      <th>external</th>\n",
       "      <th>internal</th>\n",
       "      <th>external</th>\n",
       "      <th>internal</th>\n",
       "      <th>external</th>\n",
       "    </tr>\n",
       "  </thead>\n",
       "  <tbody>\n",
       "    <tr>\n",
       "      <th rowspan=\"2\" valign=\"top\">dinesh</th>\n",
       "      <th>fs</th>\n",
       "      <td>5</td>\n",
       "      <td>17</td>\n",
       "      <td>39</td>\n",
       "      <td>7</td>\n",
       "      <td>29</td>\n",
       "      <td>17</td>\n",
       "    </tr>\n",
       "    <tr>\n",
       "      <th>ws</th>\n",
       "      <td>16</td>\n",
       "      <td>4</td>\n",
       "      <td>24</td>\n",
       "      <td>1</td>\n",
       "      <td>24</td>\n",
       "      <td>15</td>\n",
       "    </tr>\n",
       "  </tbody>\n",
       "</table>\n",
       "</div>"
      ],
      "text/plain": [
       "           science              math          computer         \n",
       "          internal external internal external internal external\n",
       "dinesh fs        5       17       39        7       29       17\n",
       "       ws       16        4       24        1       24       15"
      ]
     },
     "execution_count": 56,
     "metadata": {},
     "output_type": "execute_result"
    }
   ],
   "source": [
    "df2"
   ]
  },
  {
   "cell_type": "code",
   "execution_count": 57,
   "metadata": {},
   "outputs": [
    {
     "name": "stderr",
     "output_type": "stream",
     "text": [
      "C:\\Users\\Teju\\AppData\\Local\\Temp\\ipykernel_2996\\2094904254.py:1: FutureWarning: The frame.append method is deprecated and will be removed from pandas in a future version. Use pandas.concat instead.\n",
      "  df.append(df2)\n"
     ]
    },
    {
     "data": {
      "text/html": [
       "<div>\n",
       "<style scoped>\n",
       "    .dataframe tbody tr th:only-of-type {\n",
       "        vertical-align: middle;\n",
       "    }\n",
       "\n",
       "    .dataframe tbody tr th {\n",
       "        vertical-align: top;\n",
       "    }\n",
       "\n",
       "    .dataframe thead tr th {\n",
       "        text-align: left;\n",
       "    }\n",
       "</style>\n",
       "<table border=\"1\" class=\"dataframe\">\n",
       "  <thead>\n",
       "    <tr>\n",
       "      <th></th>\n",
       "      <th></th>\n",
       "      <th colspan=\"2\" halign=\"left\">science</th>\n",
       "      <th colspan=\"2\" halign=\"left\">math</th>\n",
       "      <th colspan=\"2\" halign=\"left\">computer</th>\n",
       "    </tr>\n",
       "    <tr>\n",
       "      <th></th>\n",
       "      <th></th>\n",
       "      <th>internal</th>\n",
       "      <th>external</th>\n",
       "      <th>internal</th>\n",
       "      <th>external</th>\n",
       "      <th>internal</th>\n",
       "      <th>external</th>\n",
       "    </tr>\n",
       "  </thead>\n",
       "  <tbody>\n",
       "    <tr>\n",
       "      <th rowspan=\"2\" valign=\"top\">suresh</th>\n",
       "      <th>fs</th>\n",
       "      <td>33</td>\n",
       "      <td>18</td>\n",
       "      <td>28</td>\n",
       "      <td>34</td>\n",
       "      <td>28</td>\n",
       "      <td>29</td>\n",
       "    </tr>\n",
       "    <tr>\n",
       "      <th>ws</th>\n",
       "      <td>28</td>\n",
       "      <td>14</td>\n",
       "      <td>37</td>\n",
       "      <td>19</td>\n",
       "      <td>12</td>\n",
       "      <td>33</td>\n",
       "    </tr>\n",
       "    <tr>\n",
       "      <th rowspan=\"2\" valign=\"top\">ramesh</th>\n",
       "      <th>fs</th>\n",
       "      <td>18</td>\n",
       "      <td>32</td>\n",
       "      <td>25</td>\n",
       "      <td>14</td>\n",
       "      <td>4</td>\n",
       "      <td>4</td>\n",
       "    </tr>\n",
       "    <tr>\n",
       "      <th>ws</th>\n",
       "      <td>13</td>\n",
       "      <td>32</td>\n",
       "      <td>5</td>\n",
       "      <td>27</td>\n",
       "      <td>34</td>\n",
       "      <td>20</td>\n",
       "    </tr>\n",
       "    <tr>\n",
       "      <th rowspan=\"2\" valign=\"top\">mahesh</th>\n",
       "      <th>fs</th>\n",
       "      <td>10</td>\n",
       "      <td>28</td>\n",
       "      <td>4</td>\n",
       "      <td>26</td>\n",
       "      <td>1</td>\n",
       "      <td>10</td>\n",
       "    </tr>\n",
       "    <tr>\n",
       "      <th>ws</th>\n",
       "      <td>35</td>\n",
       "      <td>10</td>\n",
       "      <td>37</td>\n",
       "      <td>26</td>\n",
       "      <td>31</td>\n",
       "      <td>26</td>\n",
       "    </tr>\n",
       "    <tr>\n",
       "      <th rowspan=\"2\" valign=\"top\">dinesh</th>\n",
       "      <th>fs</th>\n",
       "      <td>5</td>\n",
       "      <td>17</td>\n",
       "      <td>39</td>\n",
       "      <td>7</td>\n",
       "      <td>29</td>\n",
       "      <td>17</td>\n",
       "    </tr>\n",
       "    <tr>\n",
       "      <th>ws</th>\n",
       "      <td>16</td>\n",
       "      <td>4</td>\n",
       "      <td>24</td>\n",
       "      <td>1</td>\n",
       "      <td>24</td>\n",
       "      <td>15</td>\n",
       "    </tr>\n",
       "  </tbody>\n",
       "</table>\n",
       "</div>"
      ],
      "text/plain": [
       "           science              math          computer         \n",
       "          internal external internal external internal external\n",
       "suresh fs       33       18       28       34       28       29\n",
       "       ws       28       14       37       19       12       33\n",
       "ramesh fs       18       32       25       14        4        4\n",
       "       ws       13       32        5       27       34       20\n",
       "mahesh fs       10       28        4       26        1       10\n",
       "       ws       35       10       37       26       31       26\n",
       "dinesh fs        5       17       39        7       29       17\n",
       "       ws       16        4       24        1       24       15"
      ]
     },
     "execution_count": 57,
     "metadata": {},
     "output_type": "execute_result"
    }
   ],
   "source": [
    "df.append(df2)"
   ]
  },
  {
   "cell_type": "code",
   "execution_count": 61,
   "metadata": {},
   "outputs": [
    {
     "data": {
      "text/html": [
       "<div>\n",
       "<style scoped>\n",
       "    .dataframe tbody tr th:only-of-type {\n",
       "        vertical-align: middle;\n",
       "    }\n",
       "\n",
       "    .dataframe tbody tr th {\n",
       "        vertical-align: top;\n",
       "    }\n",
       "\n",
       "    .dataframe thead tr th {\n",
       "        text-align: left;\n",
       "    }\n",
       "</style>\n",
       "<table border=\"1\" class=\"dataframe\">\n",
       "  <thead>\n",
       "    <tr>\n",
       "      <th></th>\n",
       "      <th></th>\n",
       "      <th colspan=\"2\" halign=\"left\">science</th>\n",
       "      <th colspan=\"2\" halign=\"left\">math</th>\n",
       "      <th colspan=\"2\" halign=\"left\">computer</th>\n",
       "    </tr>\n",
       "    <tr>\n",
       "      <th></th>\n",
       "      <th></th>\n",
       "      <th>internal</th>\n",
       "      <th>external</th>\n",
       "      <th>internal</th>\n",
       "      <th>external</th>\n",
       "      <th>internal</th>\n",
       "      <th>external</th>\n",
       "    </tr>\n",
       "  </thead>\n",
       "  <tbody>\n",
       "    <tr>\n",
       "      <th rowspan=\"2\" valign=\"top\">suresh</th>\n",
       "      <th>fs</th>\n",
       "      <td>33</td>\n",
       "      <td>18</td>\n",
       "      <td>28</td>\n",
       "      <td>34</td>\n",
       "      <td>28</td>\n",
       "      <td>29</td>\n",
       "    </tr>\n",
       "    <tr>\n",
       "      <th>ws</th>\n",
       "      <td>28</td>\n",
       "      <td>14</td>\n",
       "      <td>37</td>\n",
       "      <td>19</td>\n",
       "      <td>12</td>\n",
       "      <td>33</td>\n",
       "    </tr>\n",
       "    <tr>\n",
       "      <th rowspan=\"2\" valign=\"top\">ramesh</th>\n",
       "      <th>fs</th>\n",
       "      <td>18</td>\n",
       "      <td>32</td>\n",
       "      <td>25</td>\n",
       "      <td>14</td>\n",
       "      <td>4</td>\n",
       "      <td>4</td>\n",
       "    </tr>\n",
       "    <tr>\n",
       "      <th>ws</th>\n",
       "      <td>13</td>\n",
       "      <td>32</td>\n",
       "      <td>5</td>\n",
       "      <td>27</td>\n",
       "      <td>34</td>\n",
       "      <td>20</td>\n",
       "    </tr>\n",
       "    <tr>\n",
       "      <th rowspan=\"2\" valign=\"top\">mahesh</th>\n",
       "      <th>fs</th>\n",
       "      <td>10</td>\n",
       "      <td>28</td>\n",
       "      <td>4</td>\n",
       "      <td>26</td>\n",
       "      <td>1</td>\n",
       "      <td>10</td>\n",
       "    </tr>\n",
       "    <tr>\n",
       "      <th>ws</th>\n",
       "      <td>35</td>\n",
       "      <td>10</td>\n",
       "      <td>37</td>\n",
       "      <td>26</td>\n",
       "      <td>31</td>\n",
       "      <td>26</td>\n",
       "    </tr>\n",
       "    <tr>\n",
       "      <th rowspan=\"2\" valign=\"top\">dinesh</th>\n",
       "      <th>fs</th>\n",
       "      <td>5</td>\n",
       "      <td>17</td>\n",
       "      <td>39</td>\n",
       "      <td>7</td>\n",
       "      <td>29</td>\n",
       "      <td>17</td>\n",
       "    </tr>\n",
       "    <tr>\n",
       "      <th>ws</th>\n",
       "      <td>16</td>\n",
       "      <td>4</td>\n",
       "      <td>24</td>\n",
       "      <td>1</td>\n",
       "      <td>24</td>\n",
       "      <td>15</td>\n",
       "    </tr>\n",
       "  </tbody>\n",
       "</table>\n",
       "</div>"
      ],
      "text/plain": [
       "           science              math          computer         \n",
       "          internal external internal external internal external\n",
       "suresh fs       33       18       28       34       28       29\n",
       "       ws       28       14       37       19       12       33\n",
       "ramesh fs       18       32       25       14        4        4\n",
       "       ws       13       32        5       27       34       20\n",
       "mahesh fs       10       28        4       26        1       10\n",
       "       ws       35       10       37       26       31       26\n",
       "dinesh fs        5       17       39        7       29       17\n",
       "       ws       16        4       24        1       24       15"
      ]
     },
     "execution_count": 61,
     "metadata": {},
     "output_type": "execute_result"
    }
   ],
   "source": [
    "d=[df,df2]\n",
    "x=pd.concat(d,axis=0)\n",
    "x"
   ]
  },
  {
   "cell_type": "markdown",
   "metadata": {},
   "source": [
    "Display the name of students those got less than 46 marks(Internal + External) in ws along with the subject name."
   ]
  },
  {
   "cell_type": "code",
   "execution_count": 62,
   "metadata": {},
   "outputs": [
    {
     "data": {
      "text/html": [
       "<div>\n",
       "<style scoped>\n",
       "    .dataframe tbody tr th:only-of-type {\n",
       "        vertical-align: middle;\n",
       "    }\n",
       "\n",
       "    .dataframe tbody tr th {\n",
       "        vertical-align: top;\n",
       "    }\n",
       "\n",
       "    .dataframe thead tr th {\n",
       "        text-align: left;\n",
       "    }\n",
       "</style>\n",
       "<table border=\"1\" class=\"dataframe\">\n",
       "  <thead>\n",
       "    <tr>\n",
       "      <th></th>\n",
       "      <th></th>\n",
       "      <th colspan=\"2\" halign=\"left\">science</th>\n",
       "      <th colspan=\"2\" halign=\"left\">math</th>\n",
       "      <th colspan=\"2\" halign=\"left\">computer</th>\n",
       "    </tr>\n",
       "    <tr>\n",
       "      <th></th>\n",
       "      <th></th>\n",
       "      <th>internal</th>\n",
       "      <th>external</th>\n",
       "      <th>internal</th>\n",
       "      <th>external</th>\n",
       "      <th>internal</th>\n",
       "      <th>external</th>\n",
       "    </tr>\n",
       "  </thead>\n",
       "  <tbody>\n",
       "    <tr>\n",
       "      <th rowspan=\"2\" valign=\"top\">suresh</th>\n",
       "      <th>fs</th>\n",
       "      <td>33</td>\n",
       "      <td>18</td>\n",
       "      <td>28</td>\n",
       "      <td>34</td>\n",
       "      <td>28</td>\n",
       "      <td>29</td>\n",
       "    </tr>\n",
       "    <tr>\n",
       "      <th>ws</th>\n",
       "      <td>28</td>\n",
       "      <td>14</td>\n",
       "      <td>37</td>\n",
       "      <td>19</td>\n",
       "      <td>12</td>\n",
       "      <td>33</td>\n",
       "    </tr>\n",
       "    <tr>\n",
       "      <th rowspan=\"2\" valign=\"top\">ramesh</th>\n",
       "      <th>fs</th>\n",
       "      <td>18</td>\n",
       "      <td>32</td>\n",
       "      <td>25</td>\n",
       "      <td>14</td>\n",
       "      <td>4</td>\n",
       "      <td>4</td>\n",
       "    </tr>\n",
       "    <tr>\n",
       "      <th>ws</th>\n",
       "      <td>13</td>\n",
       "      <td>32</td>\n",
       "      <td>5</td>\n",
       "      <td>27</td>\n",
       "      <td>34</td>\n",
       "      <td>20</td>\n",
       "    </tr>\n",
       "    <tr>\n",
       "      <th rowspan=\"2\" valign=\"top\">mahesh</th>\n",
       "      <th>fs</th>\n",
       "      <td>10</td>\n",
       "      <td>28</td>\n",
       "      <td>4</td>\n",
       "      <td>26</td>\n",
       "      <td>1</td>\n",
       "      <td>10</td>\n",
       "    </tr>\n",
       "    <tr>\n",
       "      <th>ws</th>\n",
       "      <td>35</td>\n",
       "      <td>10</td>\n",
       "      <td>37</td>\n",
       "      <td>26</td>\n",
       "      <td>31</td>\n",
       "      <td>26</td>\n",
       "    </tr>\n",
       "  </tbody>\n",
       "</table>\n",
       "</div>"
      ],
      "text/plain": [
       "           science              math          computer         \n",
       "          internal external internal external internal external\n",
       "suresh fs       33       18       28       34       28       29\n",
       "       ws       28       14       37       19       12       33\n",
       "ramesh fs       18       32       25       14        4        4\n",
       "       ws       13       32        5       27       34       20\n",
       "mahesh fs       10       28        4       26        1       10\n",
       "       ws       35       10       37       26       31       26"
      ]
     },
     "execution_count": 62,
     "metadata": {},
     "output_type": "execute_result"
    }
   ],
   "source": [
    "df"
   ]
  },
  {
   "cell_type": "code",
   "execution_count": 76,
   "metadata": {},
   "outputs": [
    {
     "data": {
      "text/plain": [
       "42"
      ]
     },
     "execution_count": 76,
     "metadata": {},
     "output_type": "execute_result"
    }
   ],
   "source": [
    "df.loc[\"suresh\"][\"science\"].loc[\"ws\"].sum()"
   ]
  },
  {
   "cell_type": "code",
   "execution_count": 43,
   "metadata": {},
   "outputs": [],
   "source": [
    "names=[\"suresh\",\"ramesh\",\"mahesh\"]\n",
    "subjects=[\"science\",\"math\",\"computer\"]"
   ]
  },
  {
   "cell_type": "code",
   "execution_count": 44,
   "metadata": {},
   "outputs": [
    {
     "name": "stdout",
     "output_type": "stream",
     "text": [
      "Student: suresh \tSubject: science\n",
      "Student: suresh \tSubject: math\n",
      "Student: suresh \tSubject: computer\n",
      "Student: ramesh \tSubject: science\n",
      "Student: ramesh \tSubject: math\n",
      "Student: ramesh \tSubject: computer\n",
      "Student: mahesh \tSubject: science\n",
      "Student: mahesh \tSubject: math\n",
      "Student: mahesh \tSubject: computer\n"
     ]
    }
   ],
   "source": [
    "for i in names:\n",
    "    for j in subjects:\n",
    "        if df.loc[i][j].loc[\"ws\"].sum() < 46:\n",
    "            print(\"Student:\",i,\"\\tSubject:\",j)"
   ]
  },
  {
   "cell_type": "code",
   "execution_count": 45,
   "metadata": {},
   "outputs": [],
   "source": [
    "# df.loc[\"suresh\"][\"science\"].loc[\"ws\"].sum()\n",
    "# df.science.internal[\"suresh\"].fs"
   ]
  },
  {
   "cell_type": "markdown",
   "metadata": {},
   "source": [
    "Display the total marks of internal and external in a year(fs+ws) for each student in each subject."
   ]
  },
  {
   "cell_type": "code",
   "execution_count": 46,
   "metadata": {},
   "outputs": [
    {
     "data": {
      "text/plain": [
       "0"
      ]
     },
     "execution_count": 46,
     "metadata": {},
     "output_type": "execute_result"
    }
   ],
   "source": [
    "df.loc[\"suresh\"][\"science\"].sum().sum()"
   ]
  },
  {
   "cell_type": "code",
   "execution_count": 47,
   "metadata": {},
   "outputs": [
    {
     "name": "stdout",
     "output_type": "stream",
     "text": [
      "Student: suresh \tSubject: science \t\tTotal marks: 0\n",
      "Student: suresh \tSubject: math \t\tTotal marks: 0\n",
      "Student: suresh \tSubject: computer \t\tTotal marks: 0\n",
      "Student: ramesh \tSubject: science \t\tTotal marks: 0\n",
      "Student: ramesh \tSubject: math \t\tTotal marks: 0\n",
      "Student: ramesh \tSubject: computer \t\tTotal marks: 0\n",
      "Student: mahesh \tSubject: science \t\tTotal marks: 0\n",
      "Student: mahesh \tSubject: math \t\tTotal marks: 0\n",
      "Student: mahesh \tSubject: computer \t\tTotal marks: 0\n"
     ]
    }
   ],
   "source": [
    "for i in names:\n",
    "    for j in subjects:\n",
    "        total_marks = df.loc[i][j].sum().sum()\n",
    "        print(\"Student:\",i , \"\\tSubject:\",j,\"\\t\\tTotal marks:\",total_marks)"
   ]
  }
 ],
 "metadata": {
  "kernelspec": {
   "display_name": "Python 3.10.5 64-bit",
   "language": "python",
   "name": "python3"
  },
  "language_info": {
   "codemirror_mode": {
    "name": "ipython",
    "version": 3
   },
   "file_extension": ".py",
   "mimetype": "text/x-python",
   "name": "python",
   "nbconvert_exporter": "python",
   "pygments_lexer": "ipython3",
   "version": "3.10.5"
  },
  "orig_nbformat": 4,
  "vscode": {
   "interpreter": {
    "hash": "26de051ba29f2982a8de78e945f0abaf191376122a1563185a90213a26c5da77"
   }
  }
 },
 "nbformat": 4,
 "nbformat_minor": 2
}
