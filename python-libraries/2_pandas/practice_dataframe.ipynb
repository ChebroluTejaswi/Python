{
 "cells": [
  {
   "cell_type": "code",
   "execution_count": 1,
   "metadata": {},
   "outputs": [],
   "source": [
    "# Importing library\n",
    "import pandas as pd\n",
    "import numpy as np"
   ]
  },
  {
   "cell_type": "markdown",
   "metadata": {},
   "source": [
    "<hr>"
   ]
  },
  {
   "cell_type": "markdown",
   "metadata": {},
   "source": [
    "#### Creation"
   ]
  },
  {
   "cell_type": "code",
   "execution_count": 2,
   "metadata": {},
   "outputs": [
    {
     "data": {
      "text/plain": [
       "DatetimeIndex(['2022-11-20 00:33:59.390603', '2022-11-21 00:33:59.390603',\n",
       "               '2022-11-22 00:33:59.390603', '2022-11-23 00:33:59.390603',\n",
       "               '2022-11-24 00:33:59.390603', '2022-11-25 00:33:59.390603'],\n",
       "              dtype='datetime64[ns]', freq='D')"
      ]
     },
     "execution_count": 2,
     "metadata": {},
     "output_type": "execute_result"
    }
   ],
   "source": [
    "dates=pd.date_range('today',periods=6) # genrating series of dates\n",
    "dates"
   ]
  },
  {
   "cell_type": "code",
   "execution_count": 3,
   "metadata": {},
   "outputs": [
    {
     "data": {
      "text/plain": [
       "array([[ 0.27501862,  1.01105509, -1.43269088, -0.8569585 ],\n",
       "       [ 1.83849873,  0.36402011,  1.12344456,  0.63983693],\n",
       "       [ 0.89618938, -0.58281504,  0.24986654, -1.73919619],\n",
       "       [ 1.42653121, -0.1896549 , -0.28810648,  1.81761223],\n",
       "       [-0.77273452, -0.79462903,  0.26507661, -0.10876182],\n",
       "       [ 0.1853749 ,  0.14323534,  0.63158051, -0.95308872]])"
      ]
     },
     "execution_count": 3,
     "metadata": {},
     "output_type": "execute_result"
    }
   ],
   "source": [
    "num_arr=np.random.randn(6,4)\n",
    "num_arr"
   ]
  },
  {
   "cell_type": "code",
   "execution_count": 4,
   "metadata": {},
   "outputs": [
    {
     "data": {
      "text/plain": [
       "['A', 'B', 'C', 'D']"
      ]
     },
     "execution_count": 4,
     "metadata": {},
     "output_type": "execute_result"
    }
   ],
   "source": [
    "columns=['A','B','C','D']\n",
    "columns"
   ]
  },
  {
   "cell_type": "code",
   "execution_count": 5,
   "metadata": {},
   "outputs": [
    {
     "data": {
      "text/html": [
       "<div>\n",
       "<style scoped>\n",
       "    .dataframe tbody tr th:only-of-type {\n",
       "        vertical-align: middle;\n",
       "    }\n",
       "\n",
       "    .dataframe tbody tr th {\n",
       "        vertical-align: top;\n",
       "    }\n",
       "\n",
       "    .dataframe thead th {\n",
       "        text-align: right;\n",
       "    }\n",
       "</style>\n",
       "<table border=\"1\" class=\"dataframe\">\n",
       "  <thead>\n",
       "    <tr style=\"text-align: right;\">\n",
       "      <th></th>\n",
       "      <th>A</th>\n",
       "      <th>B</th>\n",
       "      <th>C</th>\n",
       "      <th>D</th>\n",
       "    </tr>\n",
       "  </thead>\n",
       "  <tbody>\n",
       "    <tr>\n",
       "      <th>2022-11-20 00:33:59.390603</th>\n",
       "      <td>0.275019</td>\n",
       "      <td>1.011055</td>\n",
       "      <td>-1.432691</td>\n",
       "      <td>-0.856958</td>\n",
       "    </tr>\n",
       "    <tr>\n",
       "      <th>2022-11-21 00:33:59.390603</th>\n",
       "      <td>1.838499</td>\n",
       "      <td>0.364020</td>\n",
       "      <td>1.123445</td>\n",
       "      <td>0.639837</td>\n",
       "    </tr>\n",
       "    <tr>\n",
       "      <th>2022-11-22 00:33:59.390603</th>\n",
       "      <td>0.896189</td>\n",
       "      <td>-0.582815</td>\n",
       "      <td>0.249867</td>\n",
       "      <td>-1.739196</td>\n",
       "    </tr>\n",
       "    <tr>\n",
       "      <th>2022-11-23 00:33:59.390603</th>\n",
       "      <td>1.426531</td>\n",
       "      <td>-0.189655</td>\n",
       "      <td>-0.288106</td>\n",
       "      <td>1.817612</td>\n",
       "    </tr>\n",
       "    <tr>\n",
       "      <th>2022-11-24 00:33:59.390603</th>\n",
       "      <td>-0.772735</td>\n",
       "      <td>-0.794629</td>\n",
       "      <td>0.265077</td>\n",
       "      <td>-0.108762</td>\n",
       "    </tr>\n",
       "    <tr>\n",
       "      <th>2022-11-25 00:33:59.390603</th>\n",
       "      <td>0.185375</td>\n",
       "      <td>0.143235</td>\n",
       "      <td>0.631581</td>\n",
       "      <td>-0.953089</td>\n",
       "    </tr>\n",
       "  </tbody>\n",
       "</table>\n",
       "</div>"
      ],
      "text/plain": [
       "                                   A         B         C         D\n",
       "2022-11-20 00:33:59.390603  0.275019  1.011055 -1.432691 -0.856958\n",
       "2022-11-21 00:33:59.390603  1.838499  0.364020  1.123445  0.639837\n",
       "2022-11-22 00:33:59.390603  0.896189 -0.582815  0.249867 -1.739196\n",
       "2022-11-23 00:33:59.390603  1.426531 -0.189655 -0.288106  1.817612\n",
       "2022-11-24 00:33:59.390603 -0.772735 -0.794629  0.265077 -0.108762\n",
       "2022-11-25 00:33:59.390603  0.185375  0.143235  0.631581 -0.953089"
      ]
     },
     "execution_count": 5,
     "metadata": {},
     "output_type": "execute_result"
    }
   ],
   "source": [
    "df=pd.DataFrame(num_arr,index=dates,columns=columns)\n",
    "df"
   ]
  },
  {
   "cell_type": "markdown",
   "metadata": {},
   "source": [
    "<hr>"
   ]
  },
  {
   "cell_type": "markdown",
   "metadata": {},
   "source": [
    "#### Attributes and Methods"
   ]
  },
  {
   "cell_type": "code",
   "execution_count": 6,
   "metadata": {},
   "outputs": [
    {
     "data": {
      "text/plain": [
       "A    float64\n",
       "B    float64\n",
       "C    float64\n",
       "D    float64\n",
       "dtype: object"
      ]
     },
     "execution_count": 6,
     "metadata": {},
     "output_type": "execute_result"
    }
   ],
   "source": [
    "df.dtypes"
   ]
  },
  {
   "cell_type": "code",
   "execution_count": 7,
   "metadata": {},
   "outputs": [
    {
     "data": {
      "text/html": [
       "<div>\n",
       "<style scoped>\n",
       "    .dataframe tbody tr th:only-of-type {\n",
       "        vertical-align: middle;\n",
       "    }\n",
       "\n",
       "    .dataframe tbody tr th {\n",
       "        vertical-align: top;\n",
       "    }\n",
       "\n",
       "    .dataframe thead th {\n",
       "        text-align: right;\n",
       "    }\n",
       "</style>\n",
       "<table border=\"1\" class=\"dataframe\">\n",
       "  <thead>\n",
       "    <tr style=\"text-align: right;\">\n",
       "      <th></th>\n",
       "      <th>A</th>\n",
       "      <th>B</th>\n",
       "      <th>C</th>\n",
       "      <th>D</th>\n",
       "    </tr>\n",
       "  </thead>\n",
       "  <tbody>\n",
       "    <tr>\n",
       "      <th>2022-11-20 00:33:59.390603</th>\n",
       "      <td>0.275019</td>\n",
       "      <td>1.011055</td>\n",
       "      <td>-1.432691</td>\n",
       "      <td>-0.856958</td>\n",
       "    </tr>\n",
       "    <tr>\n",
       "      <th>2022-11-21 00:33:59.390603</th>\n",
       "      <td>1.838499</td>\n",
       "      <td>0.364020</td>\n",
       "      <td>1.123445</td>\n",
       "      <td>0.639837</td>\n",
       "    </tr>\n",
       "    <tr>\n",
       "      <th>2022-11-22 00:33:59.390603</th>\n",
       "      <td>0.896189</td>\n",
       "      <td>-0.582815</td>\n",
       "      <td>0.249867</td>\n",
       "      <td>-1.739196</td>\n",
       "    </tr>\n",
       "    <tr>\n",
       "      <th>2022-11-23 00:33:59.390603</th>\n",
       "      <td>1.426531</td>\n",
       "      <td>-0.189655</td>\n",
       "      <td>-0.288106</td>\n",
       "      <td>1.817612</td>\n",
       "    </tr>\n",
       "    <tr>\n",
       "      <th>2022-11-24 00:33:59.390603</th>\n",
       "      <td>-0.772735</td>\n",
       "      <td>-0.794629</td>\n",
       "      <td>0.265077</td>\n",
       "      <td>-0.108762</td>\n",
       "    </tr>\n",
       "  </tbody>\n",
       "</table>\n",
       "</div>"
      ],
      "text/plain": [
       "                                   A         B         C         D\n",
       "2022-11-20 00:33:59.390603  0.275019  1.011055 -1.432691 -0.856958\n",
       "2022-11-21 00:33:59.390603  1.838499  0.364020  1.123445  0.639837\n",
       "2022-11-22 00:33:59.390603  0.896189 -0.582815  0.249867 -1.739196\n",
       "2022-11-23 00:33:59.390603  1.426531 -0.189655 -0.288106  1.817612\n",
       "2022-11-24 00:33:59.390603 -0.772735 -0.794629  0.265077 -0.108762"
      ]
     },
     "execution_count": 7,
     "metadata": {},
     "output_type": "execute_result"
    }
   ],
   "source": [
    "df.head() #displays first 5 records of data"
   ]
  },
  {
   "cell_type": "code",
   "execution_count": 8,
   "metadata": {},
   "outputs": [
    {
     "data": {
      "text/plain": [
       "DatetimeIndex(['2022-11-20 00:33:59.390603', '2022-11-21 00:33:59.390603',\n",
       "               '2022-11-22 00:33:59.390603', '2022-11-23 00:33:59.390603',\n",
       "               '2022-11-24 00:33:59.390603', '2022-11-25 00:33:59.390603'],\n",
       "              dtype='datetime64[ns]', freq='D')"
      ]
     },
     "execution_count": 8,
     "metadata": {},
     "output_type": "execute_result"
    }
   ],
   "source": [
    "df.index"
   ]
  },
  {
   "cell_type": "code",
   "execution_count": 9,
   "metadata": {},
   "outputs": [
    {
     "data": {
      "text/plain": [
       "array([[ 0.27501862,  1.01105509, -1.43269088, -0.8569585 ],\n",
       "       [ 1.83849873,  0.36402011,  1.12344456,  0.63983693],\n",
       "       [ 0.89618938, -0.58281504,  0.24986654, -1.73919619],\n",
       "       [ 1.42653121, -0.1896549 , -0.28810648,  1.81761223],\n",
       "       [-0.77273452, -0.79462903,  0.26507661, -0.10876182],\n",
       "       [ 0.1853749 ,  0.14323534,  0.63158051, -0.95308872]])"
      ]
     },
     "execution_count": 9,
     "metadata": {},
     "output_type": "execute_result"
    }
   ],
   "source": [
    "df.values"
   ]
  },
  {
   "cell_type": "code",
   "execution_count": 10,
   "metadata": {},
   "outputs": [
    {
     "data": {
      "text/plain": [
       "Index(['A', 'B', 'C', 'D'], dtype='object')"
      ]
     },
     "execution_count": 10,
     "metadata": {},
     "output_type": "execute_result"
    }
   ],
   "source": [
    "df.columns"
   ]
  },
  {
   "cell_type": "code",
   "execution_count": 11,
   "metadata": {},
   "outputs": [
    {
     "data": {
      "text/plain": [
       "(6, 4)"
      ]
     },
     "execution_count": 11,
     "metadata": {},
     "output_type": "execute_result"
    }
   ],
   "source": [
    "df.shape"
   ]
  },
  {
   "cell_type": "code",
   "execution_count": 12,
   "metadata": {},
   "outputs": [
    {
     "data": {
      "text/html": [
       "<div>\n",
       "<style scoped>\n",
       "    .dataframe tbody tr th:only-of-type {\n",
       "        vertical-align: middle;\n",
       "    }\n",
       "\n",
       "    .dataframe tbody tr th {\n",
       "        vertical-align: top;\n",
       "    }\n",
       "\n",
       "    .dataframe thead th {\n",
       "        text-align: right;\n",
       "    }\n",
       "</style>\n",
       "<table border=\"1\" class=\"dataframe\">\n",
       "  <thead>\n",
       "    <tr style=\"text-align: right;\">\n",
       "      <th></th>\n",
       "      <th>A</th>\n",
       "      <th>B</th>\n",
       "      <th>C</th>\n",
       "      <th>D</th>\n",
       "    </tr>\n",
       "  </thead>\n",
       "  <tbody>\n",
       "    <tr>\n",
       "      <th>count</th>\n",
       "      <td>6.000000</td>\n",
       "      <td>6.000000</td>\n",
       "      <td>6.000000</td>\n",
       "      <td>6.000000</td>\n",
       "    </tr>\n",
       "    <tr>\n",
       "      <th>mean</th>\n",
       "      <td>0.641480</td>\n",
       "      <td>-0.008131</td>\n",
       "      <td>0.091528</td>\n",
       "      <td>-0.200093</td>\n",
       "    </tr>\n",
       "    <tr>\n",
       "      <th>std</th>\n",
       "      <td>0.944073</td>\n",
       "      <td>0.660597</td>\n",
       "      <td>0.880802</td>\n",
       "      <td>1.276892</td>\n",
       "    </tr>\n",
       "    <tr>\n",
       "      <th>min</th>\n",
       "      <td>-0.772735</td>\n",
       "      <td>-0.794629</td>\n",
       "      <td>-1.432691</td>\n",
       "      <td>-1.739196</td>\n",
       "    </tr>\n",
       "    <tr>\n",
       "      <th>25%</th>\n",
       "      <td>0.207786</td>\n",
       "      <td>-0.484525</td>\n",
       "      <td>-0.153613</td>\n",
       "      <td>-0.929056</td>\n",
       "    </tr>\n",
       "    <tr>\n",
       "      <th>50%</th>\n",
       "      <td>0.585604</td>\n",
       "      <td>-0.023210</td>\n",
       "      <td>0.257472</td>\n",
       "      <td>-0.482860</td>\n",
       "    </tr>\n",
       "    <tr>\n",
       "      <th>75%</th>\n",
       "      <td>1.293946</td>\n",
       "      <td>0.308824</td>\n",
       "      <td>0.539955</td>\n",
       "      <td>0.452687</td>\n",
       "    </tr>\n",
       "    <tr>\n",
       "      <th>max</th>\n",
       "      <td>1.838499</td>\n",
       "      <td>1.011055</td>\n",
       "      <td>1.123445</td>\n",
       "      <td>1.817612</td>\n",
       "    </tr>\n",
       "  </tbody>\n",
       "</table>\n",
       "</div>"
      ],
      "text/plain": [
       "              A         B         C         D\n",
       "count  6.000000  6.000000  6.000000  6.000000\n",
       "mean   0.641480 -0.008131  0.091528 -0.200093\n",
       "std    0.944073  0.660597  0.880802  1.276892\n",
       "min   -0.772735 -0.794629 -1.432691 -1.739196\n",
       "25%    0.207786 -0.484525 -0.153613 -0.929056\n",
       "50%    0.585604 -0.023210  0.257472 -0.482860\n",
       "75%    1.293946  0.308824  0.539955  0.452687\n",
       "max    1.838499  1.011055  1.123445  1.817612"
      ]
     },
     "execution_count": 12,
     "metadata": {},
     "output_type": "execute_result"
    }
   ],
   "source": [
    "df.describe() # displays the statistical data of dataframe"
   ]
  },
  {
   "cell_type": "code",
   "execution_count": 13,
   "metadata": {},
   "outputs": [
    {
     "data": {
      "text/html": [
       "<div>\n",
       "<style scoped>\n",
       "    .dataframe tbody tr th:only-of-type {\n",
       "        vertical-align: middle;\n",
       "    }\n",
       "\n",
       "    .dataframe tbody tr th {\n",
       "        vertical-align: top;\n",
       "    }\n",
       "\n",
       "    .dataframe thead th {\n",
       "        text-align: right;\n",
       "    }\n",
       "</style>\n",
       "<table border=\"1\" class=\"dataframe\">\n",
       "  <thead>\n",
       "    <tr style=\"text-align: right;\">\n",
       "      <th></th>\n",
       "      <th>2022-11-20 00:33:59.390603</th>\n",
       "      <th>2022-11-21 00:33:59.390603</th>\n",
       "      <th>2022-11-22 00:33:59.390603</th>\n",
       "      <th>2022-11-23 00:33:59.390603</th>\n",
       "      <th>2022-11-24 00:33:59.390603</th>\n",
       "      <th>2022-11-25 00:33:59.390603</th>\n",
       "    </tr>\n",
       "  </thead>\n",
       "  <tbody>\n",
       "    <tr>\n",
       "      <th>A</th>\n",
       "      <td>0.275019</td>\n",
       "      <td>1.838499</td>\n",
       "      <td>0.896189</td>\n",
       "      <td>1.426531</td>\n",
       "      <td>-0.772735</td>\n",
       "      <td>0.185375</td>\n",
       "    </tr>\n",
       "    <tr>\n",
       "      <th>B</th>\n",
       "      <td>1.011055</td>\n",
       "      <td>0.364020</td>\n",
       "      <td>-0.582815</td>\n",
       "      <td>-0.189655</td>\n",
       "      <td>-0.794629</td>\n",
       "      <td>0.143235</td>\n",
       "    </tr>\n",
       "    <tr>\n",
       "      <th>C</th>\n",
       "      <td>-1.432691</td>\n",
       "      <td>1.123445</td>\n",
       "      <td>0.249867</td>\n",
       "      <td>-0.288106</td>\n",
       "      <td>0.265077</td>\n",
       "      <td>0.631581</td>\n",
       "    </tr>\n",
       "    <tr>\n",
       "      <th>D</th>\n",
       "      <td>-0.856958</td>\n",
       "      <td>0.639837</td>\n",
       "      <td>-1.739196</td>\n",
       "      <td>1.817612</td>\n",
       "      <td>-0.108762</td>\n",
       "      <td>-0.953089</td>\n",
       "    </tr>\n",
       "  </tbody>\n",
       "</table>\n",
       "</div>"
      ],
      "text/plain": [
       "   2022-11-20 00:33:59.390603  2022-11-21 00:33:59.390603  \\\n",
       "A                    0.275019                    1.838499   \n",
       "B                    1.011055                    0.364020   \n",
       "C                   -1.432691                    1.123445   \n",
       "D                   -0.856958                    0.639837   \n",
       "\n",
       "   2022-11-22 00:33:59.390603  2022-11-23 00:33:59.390603  \\\n",
       "A                    0.896189                    1.426531   \n",
       "B                   -0.582815                   -0.189655   \n",
       "C                    0.249867                   -0.288106   \n",
       "D                   -1.739196                    1.817612   \n",
       "\n",
       "   2022-11-24 00:33:59.390603  2022-11-25 00:33:59.390603  \n",
       "A                   -0.772735                    0.185375  \n",
       "B                   -0.794629                    0.143235  \n",
       "C                    0.265077                    0.631581  \n",
       "D                   -0.108762                   -0.953089  "
      ]
     },
     "execution_count": 13,
     "metadata": {},
     "output_type": "execute_result"
    }
   ],
   "source": [
    "df.T # Transpose (columns and index are exchanged"
   ]
  },
  {
   "cell_type": "code",
   "execution_count": 14,
   "metadata": {},
   "outputs": [
    {
     "data": {
      "text/html": [
       "<div>\n",
       "<style scoped>\n",
       "    .dataframe tbody tr th:only-of-type {\n",
       "        vertical-align: middle;\n",
       "    }\n",
       "\n",
       "    .dataframe tbody tr th {\n",
       "        vertical-align: top;\n",
       "    }\n",
       "\n",
       "    .dataframe thead th {\n",
       "        text-align: right;\n",
       "    }\n",
       "</style>\n",
       "<table border=\"1\" class=\"dataframe\">\n",
       "  <thead>\n",
       "    <tr style=\"text-align: right;\">\n",
       "      <th></th>\n",
       "      <th>A</th>\n",
       "      <th>B</th>\n",
       "      <th>C</th>\n",
       "      <th>D</th>\n",
       "    </tr>\n",
       "  </thead>\n",
       "  <tbody>\n",
       "    <tr>\n",
       "      <th>2022-11-24 00:33:59.390603</th>\n",
       "      <td>-0.772735</td>\n",
       "      <td>-0.794629</td>\n",
       "      <td>0.265077</td>\n",
       "      <td>-0.108762</td>\n",
       "    </tr>\n",
       "    <tr>\n",
       "      <th>2022-11-25 00:33:59.390603</th>\n",
       "      <td>0.185375</td>\n",
       "      <td>0.143235</td>\n",
       "      <td>0.631581</td>\n",
       "      <td>-0.953089</td>\n",
       "    </tr>\n",
       "    <tr>\n",
       "      <th>2022-11-20 00:33:59.390603</th>\n",
       "      <td>0.275019</td>\n",
       "      <td>1.011055</td>\n",
       "      <td>-1.432691</td>\n",
       "      <td>-0.856958</td>\n",
       "    </tr>\n",
       "    <tr>\n",
       "      <th>2022-11-22 00:33:59.390603</th>\n",
       "      <td>0.896189</td>\n",
       "      <td>-0.582815</td>\n",
       "      <td>0.249867</td>\n",
       "      <td>-1.739196</td>\n",
       "    </tr>\n",
       "    <tr>\n",
       "      <th>2022-11-23 00:33:59.390603</th>\n",
       "      <td>1.426531</td>\n",
       "      <td>-0.189655</td>\n",
       "      <td>-0.288106</td>\n",
       "      <td>1.817612</td>\n",
       "    </tr>\n",
       "    <tr>\n",
       "      <th>2022-11-21 00:33:59.390603</th>\n",
       "      <td>1.838499</td>\n",
       "      <td>0.364020</td>\n",
       "      <td>1.123445</td>\n",
       "      <td>0.639837</td>\n",
       "    </tr>\n",
       "  </tbody>\n",
       "</table>\n",
       "</div>"
      ],
      "text/plain": [
       "                                   A         B         C         D\n",
       "2022-11-24 00:33:59.390603 -0.772735 -0.794629  0.265077 -0.108762\n",
       "2022-11-25 00:33:59.390603  0.185375  0.143235  0.631581 -0.953089\n",
       "2022-11-20 00:33:59.390603  0.275019  1.011055 -1.432691 -0.856958\n",
       "2022-11-22 00:33:59.390603  0.896189 -0.582815  0.249867 -1.739196\n",
       "2022-11-23 00:33:59.390603  1.426531 -0.189655 -0.288106  1.817612\n",
       "2022-11-21 00:33:59.390603  1.838499  0.364020  1.123445  0.639837"
      ]
     },
     "execution_count": 14,
     "metadata": {},
     "output_type": "execute_result"
    }
   ],
   "source": [
    "df.sort_values(by='A') # doesnot modify the original dataframe"
   ]
  },
  {
   "cell_type": "code",
   "execution_count": 15,
   "metadata": {},
   "outputs": [
    {
     "data": {
      "text/html": [
       "<div>\n",
       "<style scoped>\n",
       "    .dataframe tbody tr th:only-of-type {\n",
       "        vertical-align: middle;\n",
       "    }\n",
       "\n",
       "    .dataframe tbody tr th {\n",
       "        vertical-align: top;\n",
       "    }\n",
       "\n",
       "    .dataframe thead th {\n",
       "        text-align: right;\n",
       "    }\n",
       "</style>\n",
       "<table border=\"1\" class=\"dataframe\">\n",
       "  <thead>\n",
       "    <tr style=\"text-align: right;\">\n",
       "      <th></th>\n",
       "      <th>A</th>\n",
       "      <th>B</th>\n",
       "      <th>C</th>\n",
       "      <th>D</th>\n",
       "    </tr>\n",
       "  </thead>\n",
       "  <tbody>\n",
       "    <tr>\n",
       "      <th>2022-11-20 00:33:59.390603</th>\n",
       "      <td>False</td>\n",
       "      <td>False</td>\n",
       "      <td>False</td>\n",
       "      <td>False</td>\n",
       "    </tr>\n",
       "    <tr>\n",
       "      <th>2022-11-21 00:33:59.390603</th>\n",
       "      <td>False</td>\n",
       "      <td>False</td>\n",
       "      <td>False</td>\n",
       "      <td>False</td>\n",
       "    </tr>\n",
       "    <tr>\n",
       "      <th>2022-11-22 00:33:59.390603</th>\n",
       "      <td>False</td>\n",
       "      <td>False</td>\n",
       "      <td>False</td>\n",
       "      <td>False</td>\n",
       "    </tr>\n",
       "    <tr>\n",
       "      <th>2022-11-23 00:33:59.390603</th>\n",
       "      <td>False</td>\n",
       "      <td>False</td>\n",
       "      <td>False</td>\n",
       "      <td>False</td>\n",
       "    </tr>\n",
       "    <tr>\n",
       "      <th>2022-11-24 00:33:59.390603</th>\n",
       "      <td>False</td>\n",
       "      <td>False</td>\n",
       "      <td>False</td>\n",
       "      <td>False</td>\n",
       "    </tr>\n",
       "    <tr>\n",
       "      <th>2022-11-25 00:33:59.390603</th>\n",
       "      <td>False</td>\n",
       "      <td>False</td>\n",
       "      <td>False</td>\n",
       "      <td>False</td>\n",
       "    </tr>\n",
       "  </tbody>\n",
       "</table>\n",
       "</div>"
      ],
      "text/plain": [
       "                                A      B      C      D\n",
       "2022-11-20 00:33:59.390603  False  False  False  False\n",
       "2022-11-21 00:33:59.390603  False  False  False  False\n",
       "2022-11-22 00:33:59.390603  False  False  False  False\n",
       "2022-11-23 00:33:59.390603  False  False  False  False\n",
       "2022-11-24 00:33:59.390603  False  False  False  False\n",
       "2022-11-25 00:33:59.390603  False  False  False  False"
      ]
     },
     "execution_count": 15,
     "metadata": {},
     "output_type": "execute_result"
    }
   ],
   "source": [
    "df.isnull()"
   ]
  },
  {
   "cell_type": "markdown",
   "metadata": {},
   "source": [
    "<hr>"
   ]
  },
  {
   "cell_type": "markdown",
   "metadata": {},
   "source": [
    "#### Slicing"
   ]
  },
  {
   "cell_type": "code",
   "execution_count": 16,
   "metadata": {},
   "outputs": [
    {
     "data": {
      "text/html": [
       "<div>\n",
       "<style scoped>\n",
       "    .dataframe tbody tr th:only-of-type {\n",
       "        vertical-align: middle;\n",
       "    }\n",
       "\n",
       "    .dataframe tbody tr th {\n",
       "        vertical-align: top;\n",
       "    }\n",
       "\n",
       "    .dataframe thead th {\n",
       "        text-align: right;\n",
       "    }\n",
       "</style>\n",
       "<table border=\"1\" class=\"dataframe\">\n",
       "  <thead>\n",
       "    <tr style=\"text-align: right;\">\n",
       "      <th></th>\n",
       "      <th>A</th>\n",
       "      <th>B</th>\n",
       "      <th>C</th>\n",
       "      <th>D</th>\n",
       "    </tr>\n",
       "  </thead>\n",
       "  <tbody>\n",
       "    <tr>\n",
       "      <th>2022-11-20 00:33:59.390603</th>\n",
       "      <td>0.275019</td>\n",
       "      <td>1.011055</td>\n",
       "      <td>-1.432691</td>\n",
       "      <td>-0.856958</td>\n",
       "    </tr>\n",
       "    <tr>\n",
       "      <th>2022-11-21 00:33:59.390603</th>\n",
       "      <td>1.838499</td>\n",
       "      <td>0.364020</td>\n",
       "      <td>1.123445</td>\n",
       "      <td>0.639837</td>\n",
       "    </tr>\n",
       "    <tr>\n",
       "      <th>2022-11-22 00:33:59.390603</th>\n",
       "      <td>0.896189</td>\n",
       "      <td>-0.582815</td>\n",
       "      <td>0.249867</td>\n",
       "      <td>-1.739196</td>\n",
       "    </tr>\n",
       "    <tr>\n",
       "      <th>2022-11-23 00:33:59.390603</th>\n",
       "      <td>1.426531</td>\n",
       "      <td>-0.189655</td>\n",
       "      <td>-0.288106</td>\n",
       "      <td>1.817612</td>\n",
       "    </tr>\n",
       "    <tr>\n",
       "      <th>2022-11-24 00:33:59.390603</th>\n",
       "      <td>-0.772735</td>\n",
       "      <td>-0.794629</td>\n",
       "      <td>0.265077</td>\n",
       "      <td>-0.108762</td>\n",
       "    </tr>\n",
       "    <tr>\n",
       "      <th>2022-11-25 00:33:59.390603</th>\n",
       "      <td>0.185375</td>\n",
       "      <td>0.143235</td>\n",
       "      <td>0.631581</td>\n",
       "      <td>-0.953089</td>\n",
       "    </tr>\n",
       "  </tbody>\n",
       "</table>\n",
       "</div>"
      ],
      "text/plain": [
       "                                   A         B         C         D\n",
       "2022-11-20 00:33:59.390603  0.275019  1.011055 -1.432691 -0.856958\n",
       "2022-11-21 00:33:59.390603  1.838499  0.364020  1.123445  0.639837\n",
       "2022-11-22 00:33:59.390603  0.896189 -0.582815  0.249867 -1.739196\n",
       "2022-11-23 00:33:59.390603  1.426531 -0.189655 -0.288106  1.817612\n",
       "2022-11-24 00:33:59.390603 -0.772735 -0.794629  0.265077 -0.108762\n",
       "2022-11-25 00:33:59.390603  0.185375  0.143235  0.631581 -0.953089"
      ]
     },
     "execution_count": 16,
     "metadata": {},
     "output_type": "execute_result"
    }
   ],
   "source": [
    "df"
   ]
  },
  {
   "cell_type": "code",
   "execution_count": 17,
   "metadata": {},
   "outputs": [
    {
     "data": {
      "text/html": [
       "<div>\n",
       "<style scoped>\n",
       "    .dataframe tbody tr th:only-of-type {\n",
       "        vertical-align: middle;\n",
       "    }\n",
       "\n",
       "    .dataframe tbody tr th {\n",
       "        vertical-align: top;\n",
       "    }\n",
       "\n",
       "    .dataframe thead th {\n",
       "        text-align: right;\n",
       "    }\n",
       "</style>\n",
       "<table border=\"1\" class=\"dataframe\">\n",
       "  <thead>\n",
       "    <tr style=\"text-align: right;\">\n",
       "      <th></th>\n",
       "      <th>A</th>\n",
       "      <th>B</th>\n",
       "      <th>C</th>\n",
       "      <th>D</th>\n",
       "    </tr>\n",
       "  </thead>\n",
       "  <tbody>\n",
       "    <tr>\n",
       "      <th>2022-11-21 00:33:59.390603</th>\n",
       "      <td>1.838499</td>\n",
       "      <td>0.364020</td>\n",
       "      <td>1.123445</td>\n",
       "      <td>0.639837</td>\n",
       "    </tr>\n",
       "    <tr>\n",
       "      <th>2022-11-22 00:33:59.390603</th>\n",
       "      <td>0.896189</td>\n",
       "      <td>-0.582815</td>\n",
       "      <td>0.249867</td>\n",
       "      <td>-1.739196</td>\n",
       "    </tr>\n",
       "  </tbody>\n",
       "</table>\n",
       "</div>"
      ],
      "text/plain": [
       "                                   A         B         C         D\n",
       "2022-11-21 00:33:59.390603  1.838499  0.364020  1.123445  0.639837\n",
       "2022-11-22 00:33:59.390603  0.896189 -0.582815  0.249867 -1.739196"
      ]
     },
     "execution_count": 17,
     "metadata": {},
     "output_type": "execute_result"
    }
   ],
   "source": [
    "df[1:3] "
   ]
  },
  {
   "cell_type": "code",
   "execution_count": 18,
   "metadata": {},
   "outputs": [
    {
     "data": {
      "text/html": [
       "<div>\n",
       "<style scoped>\n",
       "    .dataframe tbody tr th:only-of-type {\n",
       "        vertical-align: middle;\n",
       "    }\n",
       "\n",
       "    .dataframe tbody tr th {\n",
       "        vertical-align: top;\n",
       "    }\n",
       "\n",
       "    .dataframe thead th {\n",
       "        text-align: right;\n",
       "    }\n",
       "</style>\n",
       "<table border=\"1\" class=\"dataframe\">\n",
       "  <thead>\n",
       "    <tr style=\"text-align: right;\">\n",
       "      <th></th>\n",
       "      <th>A</th>\n",
       "    </tr>\n",
       "  </thead>\n",
       "  <tbody>\n",
       "    <tr>\n",
       "      <th>2022-11-20 00:33:59.390603</th>\n",
       "      <td>0.275019</td>\n",
       "    </tr>\n",
       "    <tr>\n",
       "      <th>2022-11-21 00:33:59.390603</th>\n",
       "      <td>1.838499</td>\n",
       "    </tr>\n",
       "    <tr>\n",
       "      <th>2022-11-22 00:33:59.390603</th>\n",
       "      <td>0.896189</td>\n",
       "    </tr>\n",
       "    <tr>\n",
       "      <th>2022-11-23 00:33:59.390603</th>\n",
       "      <td>1.426531</td>\n",
       "    </tr>\n",
       "    <tr>\n",
       "      <th>2022-11-24 00:33:59.390603</th>\n",
       "      <td>-0.772735</td>\n",
       "    </tr>\n",
       "    <tr>\n",
       "      <th>2022-11-25 00:33:59.390603</th>\n",
       "      <td>0.185375</td>\n",
       "    </tr>\n",
       "  </tbody>\n",
       "</table>\n",
       "</div>"
      ],
      "text/plain": [
       "                                   A\n",
       "2022-11-20 00:33:59.390603  0.275019\n",
       "2022-11-21 00:33:59.390603  1.838499\n",
       "2022-11-22 00:33:59.390603  0.896189\n",
       "2022-11-23 00:33:59.390603  1.426531\n",
       "2022-11-24 00:33:59.390603 -0.772735\n",
       "2022-11-25 00:33:59.390603  0.185375"
      ]
     },
     "execution_count": 18,
     "metadata": {},
     "output_type": "execute_result"
    }
   ],
   "source": [
    "df[['A']]  # query dataframe by tag (or column name)"
   ]
  },
  {
   "cell_type": "code",
   "execution_count": 19,
   "metadata": {},
   "outputs": [
    {
     "data": {
      "text/html": [
       "<div>\n",
       "<style scoped>\n",
       "    .dataframe tbody tr th:only-of-type {\n",
       "        vertical-align: middle;\n",
       "    }\n",
       "\n",
       "    .dataframe tbody tr th {\n",
       "        vertical-align: top;\n",
       "    }\n",
       "\n",
       "    .dataframe thead th {\n",
       "        text-align: right;\n",
       "    }\n",
       "</style>\n",
       "<table border=\"1\" class=\"dataframe\">\n",
       "  <thead>\n",
       "    <tr style=\"text-align: right;\">\n",
       "      <th></th>\n",
       "      <th>A</th>\n",
       "      <th>B</th>\n",
       "      <th>C</th>\n",
       "      <th>D</th>\n",
       "    </tr>\n",
       "  </thead>\n",
       "  <tbody>\n",
       "    <tr>\n",
       "      <th>2022-11-21 00:33:59.390603</th>\n",
       "      <td>1.838499</td>\n",
       "      <td>0.364020</td>\n",
       "      <td>1.123445</td>\n",
       "      <td>0.639837</td>\n",
       "    </tr>\n",
       "    <tr>\n",
       "      <th>2022-11-22 00:33:59.390603</th>\n",
       "      <td>0.896189</td>\n",
       "      <td>-0.582815</td>\n",
       "      <td>0.249867</td>\n",
       "      <td>-1.739196</td>\n",
       "    </tr>\n",
       "  </tbody>\n",
       "</table>\n",
       "</div>"
      ],
      "text/plain": [
       "                                   A         B         C         D\n",
       "2022-11-21 00:33:59.390603  1.838499  0.364020  1.123445  0.639837\n",
       "2022-11-22 00:33:59.390603  0.896189 -0.582815  0.249867 -1.739196"
      ]
     },
     "execution_count": 19,
     "metadata": {},
     "output_type": "execute_result"
    }
   ],
   "source": [
    "df.iloc[1:3]"
   ]
  },
  {
   "cell_type": "markdown",
   "metadata": {},
   "source": [
    "<hr>"
   ]
  },
  {
   "cell_type": "code",
   "execution_count": 20,
   "metadata": {},
   "outputs": [
    {
     "data": {
      "text/html": [
       "<div>\n",
       "<style scoped>\n",
       "    .dataframe tbody tr th:only-of-type {\n",
       "        vertical-align: middle;\n",
       "    }\n",
       "\n",
       "    .dataframe tbody tr th {\n",
       "        vertical-align: top;\n",
       "    }\n",
       "\n",
       "    .dataframe thead th {\n",
       "        text-align: right;\n",
       "    }\n",
       "</style>\n",
       "<table border=\"1\" class=\"dataframe\">\n",
       "  <thead>\n",
       "    <tr style=\"text-align: right;\">\n",
       "      <th></th>\n",
       "      <th>A</th>\n",
       "      <th>B</th>\n",
       "      <th>C</th>\n",
       "      <th>D</th>\n",
       "    </tr>\n",
       "  </thead>\n",
       "  <tbody>\n",
       "    <tr>\n",
       "      <th>2022-11-20 00:33:59.390603</th>\n",
       "      <td>0.275019</td>\n",
       "      <td>1.011055</td>\n",
       "      <td>-1.432691</td>\n",
       "      <td>-0.856958</td>\n",
       "    </tr>\n",
       "    <tr>\n",
       "      <th>2022-11-21 00:33:59.390603</th>\n",
       "      <td>1.838499</td>\n",
       "      <td>0.364020</td>\n",
       "      <td>1.123445</td>\n",
       "      <td>0.639837</td>\n",
       "    </tr>\n",
       "    <tr>\n",
       "      <th>2022-11-22 00:33:59.390603</th>\n",
       "      <td>0.896189</td>\n",
       "      <td>-0.582815</td>\n",
       "      <td>0.249867</td>\n",
       "      <td>-1.739196</td>\n",
       "    </tr>\n",
       "    <tr>\n",
       "      <th>2022-11-23 00:33:59.390603</th>\n",
       "      <td>1.426531</td>\n",
       "      <td>-0.189655</td>\n",
       "      <td>-0.288106</td>\n",
       "      <td>1.817612</td>\n",
       "    </tr>\n",
       "    <tr>\n",
       "      <th>2022-11-24 00:33:59.390603</th>\n",
       "      <td>-0.772735</td>\n",
       "      <td>-0.794629</td>\n",
       "      <td>0.265077</td>\n",
       "      <td>-0.108762</td>\n",
       "    </tr>\n",
       "    <tr>\n",
       "      <th>2022-11-25 00:33:59.390603</th>\n",
       "      <td>0.185375</td>\n",
       "      <td>0.143235</td>\n",
       "      <td>0.631581</td>\n",
       "      <td>-0.953089</td>\n",
       "    </tr>\n",
       "  </tbody>\n",
       "</table>\n",
       "</div>"
      ],
      "text/plain": [
       "                                   A         B         C         D\n",
       "2022-11-20 00:33:59.390603  0.275019  1.011055 -1.432691 -0.856958\n",
       "2022-11-21 00:33:59.390603  1.838499  0.364020  1.123445  0.639837\n",
       "2022-11-22 00:33:59.390603  0.896189 -0.582815  0.249867 -1.739196\n",
       "2022-11-23 00:33:59.390603  1.426531 -0.189655 -0.288106  1.817612\n",
       "2022-11-24 00:33:59.390603 -0.772735 -0.794629  0.265077 -0.108762\n",
       "2022-11-25 00:33:59.390603  0.185375  0.143235  0.631581 -0.953089"
      ]
     },
     "execution_count": 20,
     "metadata": {},
     "output_type": "execute_result"
    }
   ],
   "source": [
    "df2=df.copy()\n",
    "df2"
   ]
  },
  {
   "cell_type": "code",
   "execution_count": 21,
   "metadata": {},
   "outputs": [
    {
     "data": {
      "text/plain": [
       "A    0.641480\n",
       "B   -0.008131\n",
       "C    0.091528\n",
       "D   -0.200093\n",
       "dtype: float64"
      ]
     },
     "execution_count": 21,
     "metadata": {},
     "output_type": "execute_result"
    }
   ],
   "source": [
    "df.mean() # returns mean value column wise"
   ]
  },
  {
   "cell_type": "code",
   "execution_count": 22,
   "metadata": {},
   "outputs": [
    {
     "data": {
      "text/plain": [
       "3.8488783214120947"
      ]
     },
     "execution_count": 22,
     "metadata": {},
     "output_type": "execute_result"
    }
   ],
   "source": [
    "df['A'].sum()"
   ]
  },
  {
   "cell_type": "code",
   "execution_count": 23,
   "metadata": {},
   "outputs": [
    {
     "data": {
      "text/html": [
       "<div>\n",
       "<style scoped>\n",
       "    .dataframe tbody tr th:only-of-type {\n",
       "        vertical-align: middle;\n",
       "    }\n",
       "\n",
       "    .dataframe tbody tr th {\n",
       "        vertical-align: top;\n",
       "    }\n",
       "\n",
       "    .dataframe thead th {\n",
       "        text-align: right;\n",
       "    }\n",
       "</style>\n",
       "<table border=\"1\" class=\"dataframe\">\n",
       "  <thead>\n",
       "    <tr style=\"text-align: right;\">\n",
       "      <th></th>\n",
       "      <th>A</th>\n",
       "      <th>B</th>\n",
       "      <th>C</th>\n",
       "      <th>D</th>\n",
       "    </tr>\n",
       "  </thead>\n",
       "  <tbody>\n",
       "    <tr>\n",
       "      <th>2022-11-20 00:33:59.390603</th>\n",
       "      <td>0.275019</td>\n",
       "      <td>1.011055</td>\n",
       "      <td>-1.432691</td>\n",
       "      <td>-0.856958</td>\n",
       "    </tr>\n",
       "    <tr>\n",
       "      <th>2022-11-21 00:33:59.390603</th>\n",
       "      <td>1.838499</td>\n",
       "      <td>0.364020</td>\n",
       "      <td>1.123445</td>\n",
       "      <td>0.639837</td>\n",
       "    </tr>\n",
       "    <tr>\n",
       "      <th>2022-11-22 00:33:59.390603</th>\n",
       "      <td>0.896189</td>\n",
       "      <td>-0.582815</td>\n",
       "      <td>0.249867</td>\n",
       "      <td>-1.739196</td>\n",
       "    </tr>\n",
       "    <tr>\n",
       "      <th>2022-11-23 00:33:59.390603</th>\n",
       "      <td>1.426531</td>\n",
       "      <td>-0.189655</td>\n",
       "      <td>-0.288106</td>\n",
       "      <td>1.817612</td>\n",
       "    </tr>\n",
       "    <tr>\n",
       "      <th>2022-11-24 00:33:59.390603</th>\n",
       "      <td>-0.772735</td>\n",
       "      <td>-0.794629</td>\n",
       "      <td>0.265077</td>\n",
       "      <td>-0.108762</td>\n",
       "    </tr>\n",
       "    <tr>\n",
       "      <th>2022-11-25 00:33:59.390603</th>\n",
       "      <td>0.185375</td>\n",
       "      <td>0.143235</td>\n",
       "      <td>0.631581</td>\n",
       "      <td>-0.953089</td>\n",
       "    </tr>\n",
       "  </tbody>\n",
       "</table>\n",
       "</div>"
      ],
      "text/plain": [
       "                                   A         B         C         D\n",
       "2022-11-20 00:33:59.390603  0.275019  1.011055 -1.432691 -0.856958\n",
       "2022-11-21 00:33:59.390603  1.838499  0.364020  1.123445  0.639837\n",
       "2022-11-22 00:33:59.390603  0.896189 -0.582815  0.249867 -1.739196\n",
       "2022-11-23 00:33:59.390603  1.426531 -0.189655 -0.288106  1.817612\n",
       "2022-11-24 00:33:59.390603 -0.772735 -0.794629  0.265077 -0.108762\n",
       "2022-11-25 00:33:59.390603  0.185375  0.143235  0.631581 -0.953089"
      ]
     },
     "execution_count": 23,
     "metadata": {},
     "output_type": "execute_result"
    }
   ],
   "source": [
    "# To fill in na values in dataframe\n",
    "df.fillna(4)"
   ]
  },
  {
   "cell_type": "code",
   "execution_count": 24,
   "metadata": {},
   "outputs": [
    {
     "data": {
      "text/html": [
       "<div>\n",
       "<style scoped>\n",
       "    .dataframe tbody tr th:only-of-type {\n",
       "        vertical-align: middle;\n",
       "    }\n",
       "\n",
       "    .dataframe tbody tr th {\n",
       "        vertical-align: top;\n",
       "    }\n",
       "\n",
       "    .dataframe thead th {\n",
       "        text-align: right;\n",
       "    }\n",
       "</style>\n",
       "<table border=\"1\" class=\"dataframe\">\n",
       "  <thead>\n",
       "    <tr style=\"text-align: right;\">\n",
       "      <th></th>\n",
       "      <th>A</th>\n",
       "      <th>B</th>\n",
       "      <th>C</th>\n",
       "      <th>D</th>\n",
       "    </tr>\n",
       "  </thead>\n",
       "  <tbody>\n",
       "    <tr>\n",
       "      <th>2022-11-20 00:33:59.390603</th>\n",
       "      <td>0.275019</td>\n",
       "      <td>1.011055</td>\n",
       "      <td>-1.432691</td>\n",
       "      <td>-0.856958</td>\n",
       "    </tr>\n",
       "    <tr>\n",
       "      <th>2022-11-21 00:33:59.390603</th>\n",
       "      <td>1.838499</td>\n",
       "      <td>0.364020</td>\n",
       "      <td>1.123445</td>\n",
       "      <td>0.639837</td>\n",
       "    </tr>\n",
       "    <tr>\n",
       "      <th>2022-11-22 00:33:59.390603</th>\n",
       "      <td>0.896189</td>\n",
       "      <td>-0.582815</td>\n",
       "      <td>0.249867</td>\n",
       "      <td>-1.739196</td>\n",
       "    </tr>\n",
       "    <tr>\n",
       "      <th>2022-11-23 00:33:59.390603</th>\n",
       "      <td>1.426531</td>\n",
       "      <td>-0.189655</td>\n",
       "      <td>-0.288106</td>\n",
       "      <td>1.817612</td>\n",
       "    </tr>\n",
       "    <tr>\n",
       "      <th>2022-11-24 00:33:59.390603</th>\n",
       "      <td>-0.772735</td>\n",
       "      <td>-0.794629</td>\n",
       "      <td>0.265077</td>\n",
       "      <td>-0.108762</td>\n",
       "    </tr>\n",
       "    <tr>\n",
       "      <th>2022-11-25 00:33:59.390603</th>\n",
       "      <td>0.185375</td>\n",
       "      <td>0.143235</td>\n",
       "      <td>0.631581</td>\n",
       "      <td>-0.953089</td>\n",
       "    </tr>\n",
       "  </tbody>\n",
       "</table>\n",
       "</div>"
      ],
      "text/plain": [
       "                                   A         B         C         D\n",
       "2022-11-20 00:33:59.390603  0.275019  1.011055 -1.432691 -0.856958\n",
       "2022-11-21 00:33:59.390603  1.838499  0.364020  1.123445  0.639837\n",
       "2022-11-22 00:33:59.390603  0.896189 -0.582815  0.249867 -1.739196\n",
       "2022-11-23 00:33:59.390603  1.426531 -0.189655 -0.288106  1.817612\n",
       "2022-11-24 00:33:59.390603 -0.772735 -0.794629  0.265077 -0.108762\n",
       "2022-11-25 00:33:59.390603  0.185375  0.143235  0.631581 -0.953089"
      ]
     },
     "execution_count": 24,
     "metadata": {},
     "output_type": "execute_result"
    }
   ],
   "source": [
    "# To drop missing data\n",
    "df.dropna(how='any') \n",
    "# any-ante if the row has atleast one NA value.\n",
    "# all-if all the values in row are NA values."
   ]
  },
  {
   "cell_type": "markdown",
   "metadata": {},
   "source": [
    "<hr>"
   ]
  },
  {
   "cell_type": "markdown",
   "metadata": {},
   "source": [
    "#### Dataframe file operations"
   ]
  },
  {
   "cell_type": "code",
   "execution_count": 25,
   "metadata": {},
   "outputs": [],
   "source": [
    "# df.to_csv('data.csv') Saves the dataframe as CSV file in folder"
   ]
  },
  {
   "cell_type": "code",
   "execution_count": 26,
   "metadata": {},
   "outputs": [],
   "source": [
    "# df.to_excel('data.xlsx',sheet_name='Sheet1') Saves the dataframe as excel file in folder"
   ]
  },
  {
   "cell_type": "markdown",
   "metadata": {},
   "source": [
    "<hr>"
   ]
  },
  {
   "cell_type": "markdown",
   "metadata": {},
   "source": [
    "#### Visualization in Pandas"
   ]
  },
  {
   "cell_type": "code",
   "execution_count": 27,
   "metadata": {},
   "outputs": [],
   "source": [
    "import matplotlib.pyplot as plt"
   ]
  },
  {
   "cell_type": "code",
   "execution_count": 28,
   "metadata": {},
   "outputs": [
    {
     "data": {
      "text/plain": [
       "<AxesSubplot:>"
      ]
     },
     "execution_count": 28,
     "metadata": {},
     "output_type": "execute_result"
    },
    {
     "data": {
      "image/png": "[encoded data removed]",
      "text/plain": [
       "<Figure size 640x480 with 1 Axes>"
      ]
     },
     "metadata": {},
     "output_type": "display_data"
    }
   ],
   "source": [
    "ts=pd.Series(np.random.randn(20),index=pd.date_range('today',periods=20))\n",
    "ts=ts.cumsum()\n",
    "ts.plot()"
   ]
  },
  {
   "cell_type": "markdown",
   "metadata": {},
   "source": [
    "<hr>"
   ]
  },
  {
   "cell_type": "markdown",
   "metadata": {},
   "source": [
    "#### Removing repeated data using pandas"
   ]
  },
  {
   "cell_type": "code",
   "execution_count": 29,
   "metadata": {},
   "outputs": [
    {
     "data": {
      "text/html": [
       "<div>\n",
       "<style scoped>\n",
       "    .dataframe tbody tr th:only-of-type {\n",
       "        vertical-align: middle;\n",
       "    }\n",
       "\n",
       "    .dataframe tbody tr th {\n",
       "        vertical-align: top;\n",
       "    }\n",
       "\n",
       "    .dataframe thead th {\n",
       "        text-align: right;\n",
       "    }\n",
       "</style>\n",
       "<table border=\"1\" class=\"dataframe\">\n",
       "  <thead>\n",
       "    <tr style=\"text-align: right;\">\n",
       "      <th></th>\n",
       "      <th>A</th>\n",
       "    </tr>\n",
       "  </thead>\n",
       "  <tbody>\n",
       "    <tr>\n",
       "      <th>0</th>\n",
       "      <td>1</td>\n",
       "    </tr>\n",
       "    <tr>\n",
       "      <th>1</th>\n",
       "      <td>2</td>\n",
       "    </tr>\n",
       "    <tr>\n",
       "      <th>2</th>\n",
       "      <td>2</td>\n",
       "    </tr>\n",
       "    <tr>\n",
       "      <th>3</th>\n",
       "      <td>2</td>\n",
       "    </tr>\n",
       "    <tr>\n",
       "      <th>4</th>\n",
       "      <td>4</td>\n",
       "    </tr>\n",
       "    <tr>\n",
       "      <th>5</th>\n",
       "      <td>4</td>\n",
       "    </tr>\n",
       "    <tr>\n",
       "      <th>6</th>\n",
       "      <td>5</td>\n",
       "    </tr>\n",
       "    <tr>\n",
       "      <th>7</th>\n",
       "      <td>5</td>\n",
       "    </tr>\n",
       "    <tr>\n",
       "      <th>8</th>\n",
       "      <td>6</td>\n",
       "    </tr>\n",
       "    <tr>\n",
       "      <th>9</th>\n",
       "      <td>6</td>\n",
       "    </tr>\n",
       "    <tr>\n",
       "      <th>10</th>\n",
       "      <td>7</td>\n",
       "    </tr>\n",
       "    <tr>\n",
       "      <th>11</th>\n",
       "      <td>8</td>\n",
       "    </tr>\n",
       "    <tr>\n",
       "      <th>12</th>\n",
       "      <td>8</td>\n",
       "    </tr>\n",
       "  </tbody>\n",
       "</table>\n",
       "</div>"
      ],
      "text/plain": [
       "    A\n",
       "0   1\n",
       "1   2\n",
       "2   2\n",
       "3   2\n",
       "4   4\n",
       "5   4\n",
       "6   5\n",
       "7   5\n",
       "8   6\n",
       "9   6\n",
       "10  7\n",
       "11  8\n",
       "12  8"
      ]
     },
     "execution_count": 29,
     "metadata": {},
     "output_type": "execute_result"
    }
   ],
   "source": [
    "df = pd.DataFrame({'A': [1,2,2,2,4,4,5,5,6,6,7,8,8]})\n",
    "df"
   ]
  },
  {
   "cell_type": "code",
   "execution_count": 32,
   "metadata": {},
   "outputs": [
    {
     "data": {
      "text/html": [
       "<div>\n",
       "<style scoped>\n",
       "    .dataframe tbody tr th:only-of-type {\n",
       "        vertical-align: middle;\n",
       "    }\n",
       "\n",
       "    .dataframe tbody tr th {\n",
       "        vertical-align: top;\n",
       "    }\n",
       "\n",
       "    .dataframe thead th {\n",
       "        text-align: right;\n",
       "    }\n",
       "</style>\n",
       "<table border=\"1\" class=\"dataframe\">\n",
       "  <thead>\n",
       "    <tr style=\"text-align: right;\">\n",
       "      <th></th>\n",
       "      <th>A</th>\n",
       "    </tr>\n",
       "  </thead>\n",
       "  <tbody>\n",
       "    <tr>\n",
       "      <th>0</th>\n",
       "      <td>1</td>\n",
       "    </tr>\n",
       "    <tr>\n",
       "      <th>1</th>\n",
       "      <td>2</td>\n",
       "    </tr>\n",
       "    <tr>\n",
       "      <th>4</th>\n",
       "      <td>4</td>\n",
       "    </tr>\n",
       "    <tr>\n",
       "      <th>6</th>\n",
       "      <td>5</td>\n",
       "    </tr>\n",
       "    <tr>\n",
       "      <th>8</th>\n",
       "      <td>6</td>\n",
       "    </tr>\n",
       "    <tr>\n",
       "      <th>10</th>\n",
       "      <td>7</td>\n",
       "    </tr>\n",
       "    <tr>\n",
       "      <th>11</th>\n",
       "      <td>8</td>\n",
       "    </tr>\n",
       "  </tbody>\n",
       "</table>\n",
       "</div>"
      ],
      "text/plain": [
       "    A\n",
       "0   1\n",
       "1   2\n",
       "4   4\n",
       "6   5\n",
       "8   6\n",
       "10  7\n",
       "11  8"
      ]
     },
     "execution_count": 32,
     "metadata": {},
     "output_type": "execute_result"
    }
   ],
   "source": [
    "df.loc[df['A'].shift() !=df['A']] # by default - shift(1)"
   ]
  },
  {
   "cell_type": "markdown",
   "metadata": {},
   "source": [
    "#### Question"
   ]
  },
  {
   "cell_type": "markdown",
   "metadata": {},
   "source": [
    "Create a data frame marks using three student's data as shown below and performthe following operations using pandas library"
   ]
  },
  {
   "cell_type": "code",
   "execution_count": 34,
   "metadata": {},
   "outputs": [],
   "source": [
    "si=[33,28,18,13,10,35]\n",
    "se=[18,14,32,32,28,10]\n",
    "mi=[28,37,25,5,4,37]\n",
    "me=[34,19,14,27,26,26]\n",
    "ci=[28,12,4,34,1,31]\n",
    "ce=[29,33,4,20,10,26]"
   ]
  },
  {
   "cell_type": "code",
   "execution_count": 45,
   "metadata": {},
   "outputs": [],
   "source": [
    "df=pd.DataFrame(\n",
    "    {\"si\":si,\n",
    "    \"se\":se,\n",
    "    \"mi\":mi,\n",
    "    \"me\":me,\n",
    "    \"ci\":ci,\n",
    "    \"ce\":ce\n",
    "    },\n",
    "    index=pd.MultiIndex.from_tuples(\n",
    "        [('suresh','fs'),('suresh','ws'),\n",
    "         ('ramesh','fs'),('ramesh','ws'),\n",
    "         ('mahesh','fs'),('mahesh','ws')\n",
    "        ]\n",
    "    )\n",
    ")"
   ]
  },
  {
   "cell_type": "code",
   "execution_count": 46,
   "metadata": {},
   "outputs": [
    {
     "data": {
      "text/html": [
       "<div>\n",
       "<style scoped>\n",
       "    .dataframe tbody tr th:only-of-type {\n",
       "        vertical-align: middle;\n",
       "    }\n",
       "\n",
       "    .dataframe tbody tr th {\n",
       "        vertical-align: top;\n",
       "    }\n",
       "\n",
       "    .dataframe thead th {\n",
       "        text-align: right;\n",
       "    }\n",
       "</style>\n",
       "<table border=\"1\" class=\"dataframe\">\n",
       "  <thead>\n",
       "    <tr style=\"text-align: right;\">\n",
       "      <th></th>\n",
       "      <th></th>\n",
       "      <th>si</th>\n",
       "      <th>se</th>\n",
       "      <th>mi</th>\n",
       "      <th>me</th>\n",
       "      <th>ci</th>\n",
       "      <th>ce</th>\n",
       "    </tr>\n",
       "  </thead>\n",
       "  <tbody>\n",
       "    <tr>\n",
       "      <th rowspan=\"2\" valign=\"top\">suresh</th>\n",
       "      <th>fs</th>\n",
       "      <td>33</td>\n",
       "      <td>18</td>\n",
       "      <td>28</td>\n",
       "      <td>34</td>\n",
       "      <td>28</td>\n",
       "      <td>29</td>\n",
       "    </tr>\n",
       "    <tr>\n",
       "      <th>ws</th>\n",
       "      <td>28</td>\n",
       "      <td>14</td>\n",
       "      <td>37</td>\n",
       "      <td>19</td>\n",
       "      <td>12</td>\n",
       "      <td>33</td>\n",
       "    </tr>\n",
       "    <tr>\n",
       "      <th rowspan=\"2\" valign=\"top\">ramesh</th>\n",
       "      <th>fs</th>\n",
       "      <td>18</td>\n",
       "      <td>32</td>\n",
       "      <td>25</td>\n",
       "      <td>14</td>\n",
       "      <td>4</td>\n",
       "      <td>4</td>\n",
       "    </tr>\n",
       "    <tr>\n",
       "      <th>ws</th>\n",
       "      <td>13</td>\n",
       "      <td>32</td>\n",
       "      <td>5</td>\n",
       "      <td>27</td>\n",
       "      <td>34</td>\n",
       "      <td>20</td>\n",
       "    </tr>\n",
       "    <tr>\n",
       "      <th rowspan=\"2\" valign=\"top\">mahesh</th>\n",
       "      <th>fs</th>\n",
       "      <td>10</td>\n",
       "      <td>28</td>\n",
       "      <td>4</td>\n",
       "      <td>26</td>\n",
       "      <td>1</td>\n",
       "      <td>10</td>\n",
       "    </tr>\n",
       "    <tr>\n",
       "      <th>ws</th>\n",
       "      <td>35</td>\n",
       "      <td>10</td>\n",
       "      <td>37</td>\n",
       "      <td>26</td>\n",
       "      <td>31</td>\n",
       "      <td>26</td>\n",
       "    </tr>\n",
       "  </tbody>\n",
       "</table>\n",
       "</div>"
      ],
      "text/plain": [
       "           si  se  mi  me  ci  ce\n",
       "suresh fs  33  18  28  34  28  29\n",
       "       ws  28  14  37  19  12  33\n",
       "ramesh fs  18  32  25  14   4   4\n",
       "       ws  13  32   5  27  34  20\n",
       "mahesh fs  10  28   4  26   1  10\n",
       "       ws  35  10  37  26  31  26"
      ]
     },
     "execution_count": 46,
     "metadata": {},
     "output_type": "execute_result"
    }
   ],
   "source": [
    "df"
   ]
  },
  {
   "cell_type": "code",
   "execution_count": 47,
   "metadata": {},
   "outputs": [],
   "source": [
    "df.columns=pd.MultiIndex.from_tuples(\n",
    "        [('science','internal'),('science','external'),\n",
    "         ('math','internal'),('math','external'),\n",
    "         ('computer','internal'),('computer','external')\n",
    "        ]\n",
    "    )"
   ]
  },
  {
   "cell_type": "code",
   "execution_count": 48,
   "metadata": {},
   "outputs": [
    {
     "data": {
      "text/html": [
       "<div>\n",
       "<style scoped>\n",
       "    .dataframe tbody tr th:only-of-type {\n",
       "        vertical-align: middle;\n",
       "    }\n",
       "\n",
       "    .dataframe tbody tr th {\n",
       "        vertical-align: top;\n",
       "    }\n",
       "\n",
       "    .dataframe thead tr th {\n",
       "        text-align: left;\n",
       "    }\n",
       "</style>\n",
       "<table border=\"1\" class=\"dataframe\">\n",
       "  <thead>\n",
       "    <tr>\n",
       "      <th></th>\n",
       "      <th></th>\n",
       "      <th colspan=\"2\" halign=\"left\">science</th>\n",
       "      <th colspan=\"2\" halign=\"left\">math</th>\n",
       "      <th colspan=\"2\" halign=\"left\">computer</th>\n",
       "    </tr>\n",
       "    <tr>\n",
       "      <th></th>\n",
       "      <th></th>\n",
       "      <th>internal</th>\n",
       "      <th>external</th>\n",
       "      <th>internal</th>\n",
       "      <th>external</th>\n",
       "      <th>internal</th>\n",
       "      <th>external</th>\n",
       "    </tr>\n",
       "  </thead>\n",
       "  <tbody>\n",
       "    <tr>\n",
       "      <th rowspan=\"2\" valign=\"top\">suresh</th>\n",
       "      <th>fs</th>\n",
       "      <td>33</td>\n",
       "      <td>18</td>\n",
       "      <td>28</td>\n",
       "      <td>34</td>\n",
       "      <td>28</td>\n",
       "      <td>29</td>\n",
       "    </tr>\n",
       "    <tr>\n",
       "      <th>ws</th>\n",
       "      <td>28</td>\n",
       "      <td>14</td>\n",
       "      <td>37</td>\n",
       "      <td>19</td>\n",
       "      <td>12</td>\n",
       "      <td>33</td>\n",
       "    </tr>\n",
       "    <tr>\n",
       "      <th rowspan=\"2\" valign=\"top\">ramesh</th>\n",
       "      <th>fs</th>\n",
       "      <td>18</td>\n",
       "      <td>32</td>\n",
       "      <td>25</td>\n",
       "      <td>14</td>\n",
       "      <td>4</td>\n",
       "      <td>4</td>\n",
       "    </tr>\n",
       "    <tr>\n",
       "      <th>ws</th>\n",
       "      <td>13</td>\n",
       "      <td>32</td>\n",
       "      <td>5</td>\n",
       "      <td>27</td>\n",
       "      <td>34</td>\n",
       "      <td>20</td>\n",
       "    </tr>\n",
       "    <tr>\n",
       "      <th rowspan=\"2\" valign=\"top\">mahesh</th>\n",
       "      <th>fs</th>\n",
       "      <td>10</td>\n",
       "      <td>28</td>\n",
       "      <td>4</td>\n",
       "      <td>26</td>\n",
       "      <td>1</td>\n",
       "      <td>10</td>\n",
       "    </tr>\n",
       "    <tr>\n",
       "      <th>ws</th>\n",
       "      <td>35</td>\n",
       "      <td>10</td>\n",
       "      <td>37</td>\n",
       "      <td>26</td>\n",
       "      <td>31</td>\n",
       "      <td>26</td>\n",
       "    </tr>\n",
       "  </tbody>\n",
       "</table>\n",
       "</div>"
      ],
      "text/plain": [
       "           science              math          computer         \n",
       "          internal external internal external internal external\n",
       "suresh fs       33       18       28       34       28       29\n",
       "       ws       28       14       37       19       12       33\n",
       "ramesh fs       18       32       25       14        4        4\n",
       "       ws       13       32        5       27       34       20\n",
       "mahesh fs       10       28        4       26        1       10\n",
       "       ws       35       10       37       26       31       26"
      ]
     },
     "execution_count": 48,
     "metadata": {},
     "output_type": "execute_result"
    }
   ],
   "source": [
    "df"
   ]
  },
  {
   "cell_type": "markdown",
   "metadata": {},
   "source": [
    "Add data to marks for a new student dinesh."
   ]
  },
  {
   "cell_type": "code",
   "execution_count": 158,
   "metadata": {},
   "outputs": [],
   "source": [
    "df2=pd.DataFrame(\n",
    "    {\"si\":[5,16],\n",
    "    \"se\":[17,4],\n",
    "    \"mi\":[39,24],\n",
    "    \"me\":[7,1],\n",
    "    \"ci\":[29,24],\n",
    "    \"ce\":[17,15]},\n",
    "    index= pd.MultiIndex.from_tuples(\n",
    "        [(\"dinesh\",\"fs\"),(\"dinesh\",\"ws\")]\n",
    "    )\n",
    ")"
   ]
  },
  {
   "cell_type": "code",
   "execution_count": 160,
   "metadata": {},
   "outputs": [],
   "source": [
    "df2.columns=pd.MultiIndex.from_tuples(\n",
    "        [('science','internal'),('science','external'),\n",
    "         ('math','internal'),('math','external'),\n",
    "         ('computer','internal'),('computer','external')\n",
    "        ]\n",
    "    )"
   ]
  },
  {
   "cell_type": "code",
   "execution_count": 162,
   "metadata": {},
   "outputs": [
    {
     "data": {
      "text/html": [
       "<div>\n",
       "<style scoped>\n",
       "    .dataframe tbody tr th:only-of-type {\n",
       "        vertical-align: middle;\n",
       "    }\n",
       "\n",
       "    .dataframe tbody tr th {\n",
       "        vertical-align: top;\n",
       "    }\n",
       "\n",
       "    .dataframe thead tr th {\n",
       "        text-align: left;\n",
       "    }\n",
       "</style>\n",
       "<table border=\"1\" class=\"dataframe\">\n",
       "  <thead>\n",
       "    <tr>\n",
       "      <th></th>\n",
       "      <th></th>\n",
       "      <th colspan=\"2\" halign=\"left\">science</th>\n",
       "      <th colspan=\"2\" halign=\"left\">math</th>\n",
       "      <th colspan=\"2\" halign=\"left\">computer</th>\n",
       "    </tr>\n",
       "    <tr>\n",
       "      <th></th>\n",
       "      <th></th>\n",
       "      <th>internal</th>\n",
       "      <th>external</th>\n",
       "      <th>internal</th>\n",
       "      <th>external</th>\n",
       "      <th>internal</th>\n",
       "      <th>external</th>\n",
       "    </tr>\n",
       "  </thead>\n",
       "  <tbody>\n",
       "    <tr>\n",
       "      <th rowspan=\"2\" valign=\"top\">dinesh</th>\n",
       "      <th>fs</th>\n",
       "      <td>5</td>\n",
       "      <td>17</td>\n",
       "      <td>39</td>\n",
       "      <td>7</td>\n",
       "      <td>29</td>\n",
       "      <td>17</td>\n",
       "    </tr>\n",
       "    <tr>\n",
       "      <th>ws</th>\n",
       "      <td>16</td>\n",
       "      <td>4</td>\n",
       "      <td>24</td>\n",
       "      <td>1</td>\n",
       "      <td>24</td>\n",
       "      <td>15</td>\n",
       "    </tr>\n",
       "  </tbody>\n",
       "</table>\n",
       "</div>"
      ],
      "text/plain": [
       "           science              math          computer         \n",
       "          internal external internal external internal external\n",
       "dinesh fs        5       17       39        7       29       17\n",
       "       ws       16        4       24        1       24       15"
      ]
     },
     "execution_count": 162,
     "metadata": {},
     "output_type": "execute_result"
    }
   ],
   "source": [
    "df2"
   ]
  },
  {
   "cell_type": "code",
   "execution_count": 168,
   "metadata": {},
   "outputs": [
    {
     "name": "stderr",
     "output_type": "stream",
     "text": [
      "C:\\Users\\Teju\\AppData\\Local\\Temp\\ipykernel_14276\\2094904254.py:1: FutureWarning: The frame.append method is deprecated and will be removed from pandas in a future version. Use pandas.concat instead.\n",
      "  df.append(df2)\n"
     ]
    },
    {
     "data": {
      "text/html": [
       "<div>\n",
       "<style scoped>\n",
       "    .dataframe tbody tr th:only-of-type {\n",
       "        vertical-align: middle;\n",
       "    }\n",
       "\n",
       "    .dataframe tbody tr th {\n",
       "        vertical-align: top;\n",
       "    }\n",
       "\n",
       "    .dataframe thead tr th {\n",
       "        text-align: left;\n",
       "    }\n",
       "</style>\n",
       "<table border=\"1\" class=\"dataframe\">\n",
       "  <thead>\n",
       "    <tr>\n",
       "      <th></th>\n",
       "      <th></th>\n",
       "      <th colspan=\"2\" halign=\"left\">science</th>\n",
       "      <th colspan=\"2\" halign=\"left\">math</th>\n",
       "      <th colspan=\"2\" halign=\"left\">computer</th>\n",
       "    </tr>\n",
       "    <tr>\n",
       "      <th></th>\n",
       "      <th></th>\n",
       "      <th>internal</th>\n",
       "      <th>external</th>\n",
       "      <th>internal</th>\n",
       "      <th>external</th>\n",
       "      <th>internal</th>\n",
       "      <th>external</th>\n",
       "    </tr>\n",
       "  </thead>\n",
       "  <tbody>\n",
       "    <tr>\n",
       "      <th rowspan=\"2\" valign=\"top\">suresh</th>\n",
       "      <th>fs</th>\n",
       "      <td>33</td>\n",
       "      <td>18</td>\n",
       "      <td>28</td>\n",
       "      <td>34</td>\n",
       "      <td>28</td>\n",
       "      <td>29</td>\n",
       "    </tr>\n",
       "    <tr>\n",
       "      <th>ws</th>\n",
       "      <td>28</td>\n",
       "      <td>14</td>\n",
       "      <td>37</td>\n",
       "      <td>19</td>\n",
       "      <td>12</td>\n",
       "      <td>33</td>\n",
       "    </tr>\n",
       "    <tr>\n",
       "      <th rowspan=\"2\" valign=\"top\">ramesh</th>\n",
       "      <th>fs</th>\n",
       "      <td>18</td>\n",
       "      <td>32</td>\n",
       "      <td>25</td>\n",
       "      <td>14</td>\n",
       "      <td>4</td>\n",
       "      <td>4</td>\n",
       "    </tr>\n",
       "    <tr>\n",
       "      <th>ws</th>\n",
       "      <td>13</td>\n",
       "      <td>32</td>\n",
       "      <td>5</td>\n",
       "      <td>27</td>\n",
       "      <td>34</td>\n",
       "      <td>20</td>\n",
       "    </tr>\n",
       "    <tr>\n",
       "      <th rowspan=\"2\" valign=\"top\">mahesh</th>\n",
       "      <th>fs</th>\n",
       "      <td>10</td>\n",
       "      <td>28</td>\n",
       "      <td>4</td>\n",
       "      <td>26</td>\n",
       "      <td>1</td>\n",
       "      <td>10</td>\n",
       "    </tr>\n",
       "    <tr>\n",
       "      <th>ws</th>\n",
       "      <td>35</td>\n",
       "      <td>10</td>\n",
       "      <td>37</td>\n",
       "      <td>26</td>\n",
       "      <td>31</td>\n",
       "      <td>26</td>\n",
       "    </tr>\n",
       "    <tr>\n",
       "      <th rowspan=\"2\" valign=\"top\">dinesh</th>\n",
       "      <th>fs</th>\n",
       "      <td>5</td>\n",
       "      <td>17</td>\n",
       "      <td>39</td>\n",
       "      <td>7</td>\n",
       "      <td>29</td>\n",
       "      <td>17</td>\n",
       "    </tr>\n",
       "    <tr>\n",
       "      <th>ws</th>\n",
       "      <td>16</td>\n",
       "      <td>4</td>\n",
       "      <td>24</td>\n",
       "      <td>1</td>\n",
       "      <td>24</td>\n",
       "      <td>15</td>\n",
       "    </tr>\n",
       "  </tbody>\n",
       "</table>\n",
       "</div>"
      ],
      "text/plain": [
       "           science              math          computer         \n",
       "          internal external internal external internal external\n",
       "suresh fs       33       18       28       34       28       29\n",
       "       ws       28       14       37       19       12       33\n",
       "ramesh fs       18       32       25       14        4        4\n",
       "       ws       13       32        5       27       34       20\n",
       "mahesh fs       10       28        4       26        1       10\n",
       "       ws       35       10       37       26       31       26\n",
       "dinesh fs        5       17       39        7       29       17\n",
       "       ws       16        4       24        1       24       15"
      ]
     },
     "execution_count": 168,
     "metadata": {},
     "output_type": "execute_result"
    }
   ],
   "source": [
    "df.append(df2)"
   ]
  },
  {
   "cell_type": "code",
   "execution_count": 167,
   "metadata": {},
   "outputs": [
    {
     "data": {
      "text/html": [
       "<div>\n",
       "<style scoped>\n",
       "    .dataframe tbody tr th:only-of-type {\n",
       "        vertical-align: middle;\n",
       "    }\n",
       "\n",
       "    .dataframe tbody tr th {\n",
       "        vertical-align: top;\n",
       "    }\n",
       "\n",
       "    .dataframe thead tr th {\n",
       "        text-align: left;\n",
       "    }\n",
       "</style>\n",
       "<table border=\"1\" class=\"dataframe\">\n",
       "  <thead>\n",
       "    <tr>\n",
       "      <th></th>\n",
       "      <th></th>\n",
       "      <th colspan=\"2\" halign=\"left\">science</th>\n",
       "      <th colspan=\"2\" halign=\"left\">math</th>\n",
       "      <th colspan=\"2\" halign=\"left\">computer</th>\n",
       "    </tr>\n",
       "    <tr>\n",
       "      <th></th>\n",
       "      <th></th>\n",
       "      <th>internal</th>\n",
       "      <th>external</th>\n",
       "      <th>internal</th>\n",
       "      <th>external</th>\n",
       "      <th>internal</th>\n",
       "      <th>external</th>\n",
       "    </tr>\n",
       "  </thead>\n",
       "  <tbody>\n",
       "    <tr>\n",
       "      <th rowspan=\"2\" valign=\"top\">suresh</th>\n",
       "      <th>fs</th>\n",
       "      <td>33</td>\n",
       "      <td>18</td>\n",
       "      <td>28</td>\n",
       "      <td>34</td>\n",
       "      <td>28</td>\n",
       "      <td>29</td>\n",
       "    </tr>\n",
       "    <tr>\n",
       "      <th>ws</th>\n",
       "      <td>28</td>\n",
       "      <td>14</td>\n",
       "      <td>37</td>\n",
       "      <td>19</td>\n",
       "      <td>12</td>\n",
       "      <td>33</td>\n",
       "    </tr>\n",
       "    <tr>\n",
       "      <th rowspan=\"2\" valign=\"top\">ramesh</th>\n",
       "      <th>fs</th>\n",
       "      <td>18</td>\n",
       "      <td>32</td>\n",
       "      <td>25</td>\n",
       "      <td>14</td>\n",
       "      <td>4</td>\n",
       "      <td>4</td>\n",
       "    </tr>\n",
       "    <tr>\n",
       "      <th>ws</th>\n",
       "      <td>13</td>\n",
       "      <td>32</td>\n",
       "      <td>5</td>\n",
       "      <td>27</td>\n",
       "      <td>34</td>\n",
       "      <td>20</td>\n",
       "    </tr>\n",
       "    <tr>\n",
       "      <th rowspan=\"2\" valign=\"top\">mahesh</th>\n",
       "      <th>fs</th>\n",
       "      <td>10</td>\n",
       "      <td>28</td>\n",
       "      <td>4</td>\n",
       "      <td>26</td>\n",
       "      <td>1</td>\n",
       "      <td>10</td>\n",
       "    </tr>\n",
       "    <tr>\n",
       "      <th>ws</th>\n",
       "      <td>35</td>\n",
       "      <td>10</td>\n",
       "      <td>37</td>\n",
       "      <td>26</td>\n",
       "      <td>31</td>\n",
       "      <td>26</td>\n",
       "    </tr>\n",
       "    <tr>\n",
       "      <th rowspan=\"2\" valign=\"top\">dinesh</th>\n",
       "      <th>fs</th>\n",
       "      <td>5</td>\n",
       "      <td>17</td>\n",
       "      <td>39</td>\n",
       "      <td>7</td>\n",
       "      <td>29</td>\n",
       "      <td>17</td>\n",
       "    </tr>\n",
       "    <tr>\n",
       "      <th>ws</th>\n",
       "      <td>16</td>\n",
       "      <td>4</td>\n",
       "      <td>24</td>\n",
       "      <td>1</td>\n",
       "      <td>24</td>\n",
       "      <td>15</td>\n",
       "    </tr>\n",
       "  </tbody>\n",
       "</table>\n",
       "</div>"
      ],
      "text/plain": [
       "           science              math          computer         \n",
       "          internal external internal external internal external\n",
       "suresh fs       33       18       28       34       28       29\n",
       "       ws       28       14       37       19       12       33\n",
       "ramesh fs       18       32       25       14        4        4\n",
       "       ws       13       32        5       27       34       20\n",
       "mahesh fs       10       28        4       26        1       10\n",
       "       ws       35       10       37       26       31       26\n",
       "dinesh fs        5       17       39        7       29       17\n",
       "       ws       16        4       24        1       24       15"
      ]
     },
     "execution_count": 167,
     "metadata": {},
     "output_type": "execute_result"
    }
   ],
   "source": [
    "d=[df,df2]\n",
    "x=pd.concat(d)\n",
    "x"
   ]
  },
  {
   "cell_type": "markdown",
   "metadata": {},
   "source": [
    "Display the name of students those got less than 46 marks(Internal + External) in ws along with the subject name."
   ]
  },
  {
   "cell_type": "code",
   "execution_count": 83,
   "metadata": {},
   "outputs": [
    {
     "data": {
      "text/html": [
       "<div>\n",
       "<style scoped>\n",
       "    .dataframe tbody tr th:only-of-type {\n",
       "        vertical-align: middle;\n",
       "    }\n",
       "\n",
       "    .dataframe tbody tr th {\n",
       "        vertical-align: top;\n",
       "    }\n",
       "\n",
       "    .dataframe thead tr th {\n",
       "        text-align: left;\n",
       "    }\n",
       "</style>\n",
       "<table border=\"1\" class=\"dataframe\">\n",
       "  <thead>\n",
       "    <tr>\n",
       "      <th></th>\n",
       "      <th></th>\n",
       "      <th colspan=\"2\" halign=\"left\">science</th>\n",
       "      <th colspan=\"2\" halign=\"left\">math</th>\n",
       "      <th colspan=\"2\" halign=\"left\">computer</th>\n",
       "    </tr>\n",
       "    <tr>\n",
       "      <th></th>\n",
       "      <th></th>\n",
       "      <th>internal</th>\n",
       "      <th>external</th>\n",
       "      <th>internal</th>\n",
       "      <th>external</th>\n",
       "      <th>internal</th>\n",
       "      <th>external</th>\n",
       "    </tr>\n",
       "  </thead>\n",
       "  <tbody>\n",
       "    <tr>\n",
       "      <th rowspan=\"2\" valign=\"top\">suresh</th>\n",
       "      <th>fs</th>\n",
       "      <td>33</td>\n",
       "      <td>18</td>\n",
       "      <td>28</td>\n",
       "      <td>34</td>\n",
       "      <td>28</td>\n",
       "      <td>29</td>\n",
       "    </tr>\n",
       "    <tr>\n",
       "      <th>ws</th>\n",
       "      <td>28</td>\n",
       "      <td>14</td>\n",
       "      <td>37</td>\n",
       "      <td>19</td>\n",
       "      <td>12</td>\n",
       "      <td>33</td>\n",
       "    </tr>\n",
       "    <tr>\n",
       "      <th rowspan=\"2\" valign=\"top\">ramesh</th>\n",
       "      <th>fs</th>\n",
       "      <td>18</td>\n",
       "      <td>32</td>\n",
       "      <td>25</td>\n",
       "      <td>14</td>\n",
       "      <td>4</td>\n",
       "      <td>4</td>\n",
       "    </tr>\n",
       "    <tr>\n",
       "      <th>ws</th>\n",
       "      <td>13</td>\n",
       "      <td>32</td>\n",
       "      <td>5</td>\n",
       "      <td>27</td>\n",
       "      <td>34</td>\n",
       "      <td>20</td>\n",
       "    </tr>\n",
       "    <tr>\n",
       "      <th rowspan=\"2\" valign=\"top\">mahesh</th>\n",
       "      <th>fs</th>\n",
       "      <td>10</td>\n",
       "      <td>28</td>\n",
       "      <td>4</td>\n",
       "      <td>26</td>\n",
       "      <td>1</td>\n",
       "      <td>10</td>\n",
       "    </tr>\n",
       "    <tr>\n",
       "      <th>ws</th>\n",
       "      <td>35</td>\n",
       "      <td>10</td>\n",
       "      <td>37</td>\n",
       "      <td>26</td>\n",
       "      <td>31</td>\n",
       "      <td>26</td>\n",
       "    </tr>\n",
       "  </tbody>\n",
       "</table>\n",
       "</div>"
      ],
      "text/plain": [
       "           science              math          computer         \n",
       "          internal external internal external internal external\n",
       "suresh fs       33       18       28       34       28       29\n",
       "       ws       28       14       37       19       12       33\n",
       "ramesh fs       18       32       25       14        4        4\n",
       "       ws       13       32        5       27       34       20\n",
       "mahesh fs       10       28        4       26        1       10\n",
       "       ws       35       10       37       26       31       26"
      ]
     },
     "execution_count": 83,
     "metadata": {},
     "output_type": "execute_result"
    }
   ],
   "source": [
    "df"
   ]
  },
  {
   "cell_type": "code",
   "execution_count": 132,
   "metadata": {},
   "outputs": [],
   "source": [
    "names=[\"suresh\",\"ramesh\",\"mahesh\"]\n",
    "subjects=[\"science\",\"math\",\"computer\"]"
   ]
  },
  {
   "cell_type": "code",
   "execution_count": 152,
   "metadata": {},
   "outputs": [
    {
     "name": "stdout",
     "output_type": "stream",
     "text": [
      "Student: suresh \tSubject: science\n",
      "Student: suresh \tSubject: computer\n",
      "Student: ramesh \tSubject: science\n",
      "Student: ramesh \tSubject: math\n",
      "Student: mahesh \tSubject: science\n"
     ]
    }
   ],
   "source": [
    "for i in names:\n",
    "    for j in subjects:\n",
    "        if df.loc[i][j].loc[\"ws\"].sum() < 46:\n",
    "            print(\"Student:\",i,\"\\tSubject:\",j)"
   ]
  },
  {
   "cell_type": "code",
   "execution_count": 141,
   "metadata": {},
   "outputs": [
    {
     "data": {
      "text/plain": [
       "42"
      ]
     },
     "execution_count": 141,
     "metadata": {},
     "output_type": "execute_result"
    }
   ],
   "source": [
    "# df.loc[\"suresh\"][\"science\"].loc[\"ws\"].sum()\n",
    "# df.science.internal[\"suresh\"].fs"
   ]
  },
  {
   "cell_type": "markdown",
   "metadata": {},
   "source": [
    "Display the total marks of internal and external in a year(fs+ws) for each student in each subject."
   ]
  },
  {
   "cell_type": "code",
   "execution_count": 148,
   "metadata": {},
   "outputs": [
    {
     "data": {
      "text/plain": [
       "93"
      ]
     },
     "execution_count": 148,
     "metadata": {},
     "output_type": "execute_result"
    }
   ],
   "source": [
    "df.loc[\"suresh\"][\"science\"].sum().sum()"
   ]
  },
  {
   "cell_type": "code",
   "execution_count": 157,
   "metadata": {},
   "outputs": [
    {
     "name": "stdout",
     "output_type": "stream",
     "text": [
      "Student: suresh \tSubject: science \t\tTotal marks: 93\n",
      "Student: suresh \tSubject: math \t\tTotal marks: 118\n",
      "Student: suresh \tSubject: computer \t\tTotal marks: 102\n",
      "Student: ramesh \tSubject: science \t\tTotal marks: 95\n",
      "Student: ramesh \tSubject: math \t\tTotal marks: 71\n",
      "Student: ramesh \tSubject: computer \t\tTotal marks: 62\n",
      "Student: mahesh \tSubject: science \t\tTotal marks: 83\n",
      "Student: mahesh \tSubject: math \t\tTotal marks: 93\n",
      "Student: mahesh \tSubject: computer \t\tTotal marks: 68\n"
     ]
    }
   ],
   "source": [
    "for i in names:\n",
    "    for j in subjects:\n",
    "        total_marks = df.loc[i][j].sum().sum()\n",
    "        print(\"Student:\",i , \"\\tSubject:\",j,\"\\t\\tTotal marks:\",total_marks)"
   ]
  }
 ],
 "metadata": {
  "kernelspec": {
   "display_name": "Python 3.10.5 64-bit",
   "language": "python",
   "name": "python3"
  },
  "language_info": {
   "codemirror_mode": {
    "name": "ipython",
    "version": 3
   },
   "file_extension": ".py",
   "mimetype": "text/x-python",
   "name": "python",
   "nbconvert_exporter": "python",
   "pygments_lexer": "ipython3",
   "version": "3.10.5"
  },
  "orig_nbformat": 4,
  "vscode": {
   "interpreter": {
    "hash": "26de051ba29f2982a8de78e945f0abaf191376122a1563185a90213a26c5da77"
   }
  }
 },
 "nbformat": 4,
 "nbformat_minor": 2
}
