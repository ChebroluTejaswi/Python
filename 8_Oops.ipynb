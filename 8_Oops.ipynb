{
 "cells": [
  {
   "cell_type": "markdown",
   "metadata": {},
   "source": [
    "### Inheritence\n"
   ]
  },
  {
   "cell_type": "code",
   "execution_count": 1,
   "metadata": {},
   "outputs": [],
   "source": [
    "# Multiple inheritence\n",
    "#   class C inherits from class A and B\n",
    "class test:\n",
    "    def __init__(self,a,b):\n",
    "        self.a=a\n",
    "        self.b=b\n",
    "        \n",
    "class test1:\n",
    "    def __init__(self,c,d): \n",
    "        self.c=c\n",
    "        self.d=d"
   ]
  },
  {
   "cell_type": "code",
   "execution_count": 24,
   "metadata": {},
   "outputs": [],
   "source": [
    "class child(test,test1):\n",
    "    def __init__(self,a,b,c,d):\n",
    "        test.__init__(self,a,b)\n",
    "        test1.__init__(self,c,d)\n",
    "    \n",
    "    def fun_child(self):\n",
    "        print(self.a,self.c)\n",
    "        "
   ]
  },
  {
   "cell_type": "code",
   "execution_count": 25,
   "metadata": {},
   "outputs": [
    {
     "name": "stdout",
     "output_type": "stream",
     "text": [
      "4 6\n"
     ]
    }
   ],
   "source": [
    "obj=child(4,5,6,7)\n",
    "obj.fun_child()"
   ]
  },
  {
   "cell_type": "code",
   "execution_count": 13,
   "metadata": {},
   "outputs": [],
   "source": [
    "# Multilevel inheritence\n",
    "#   class C inherits from class B, class B inherits from class A\n",
    "class parent1:\n",
    "    def __init__(self,a,b):\n",
    "        self.a=a\n",
    "        self.b=b\n",
    "    def func_p1(self):\n",
    "        return \"return statement from parent1 method\"\n",
    "class parent2(parent1):\n",
    "    def __init__(self,*args): \n",
    "        pass\n",
    "    def func_p2(self):\n",
    "        return \"return statement from parent2 method\"\n",
    "class child(parent2):\n",
    "    def __init__(self,*args): \n",
    "        pass\n",
    "    def func_c(self):\n",
    "        return \"return statement from child method\"\n",
    "    \n",
    "# we use args to access variables (if we donot want variables of parent class we can skip args )"
   ]
  },
  {
   "cell_type": "code",
   "execution_count": 14,
   "metadata": {},
   "outputs": [
    {
     "data": {
      "text/plain": [
       "'return statement from parent1 method'"
      ]
     },
     "execution_count": 14,
     "metadata": {},
     "output_type": "execute_result"
    }
   ],
   "source": [
    "obj=child(2,3)\n",
    "obj.func_p1()\n"
   ]
  },
  {
   "cell_type": "markdown",
   "metadata": {},
   "source": [
    "### Method Overriding"
   ]
  },
  {
   "cell_type": "code",
   "execution_count": 64,
   "metadata": {},
   "outputs": [],
   "source": [
    "# Parent class\n",
    "class person:\n",
    "    def __init__(self,name,surname,yob):\n",
    "        self.name=name\n",
    "        self.surname=surname\n",
    "        self.yob=yob\n",
    "    def age(self,current_year):\n",
    "        return current_year-self.yob\n",
    "    def __str__(self):\n",
    "        return self.name"
   ]
  },
  {
   "cell_type": "code",
   "execution_count": 34,
   "metadata": {},
   "outputs": [
    {
     "name": "stdout",
     "output_type": "stream",
     "text": [
      "sudh\n"
     ]
    }
   ],
   "source": [
    "per=person(\"sudh\",\"kumar\",234)\n",
    "print(per)"
   ]
  },
  {
   "cell_type": "code",
   "execution_count": 65,
   "metadata": {},
   "outputs": [],
   "source": [
    "# Child class\n",
    "class student(person):\n",
    "    def __init__(self,student_id,*args):\n",
    "        super(student,self).__init__(*args)\n",
    "        self.student_id=student_id\n",
    "    def __str__(self): #overriding parent class str method\n",
    "        return super(student,self).__str__()+str(self.student_id)"
   ]
  },
  {
   "cell_type": "code",
   "execution_count": 44,
   "metadata": {},
   "outputs": [
    {
     "name": "stdout",
     "output_type": "stream",
     "text": [
      "sudh111\n"
     ]
    }
   ],
   "source": [
    "stud=student(111,\"sudh\",\"kumar\",345)\n",
    "print(stud)"
   ]
  },
  {
   "cell_type": "markdown",
   "metadata": {},
   "source": [
    "### Encapsulation"
   ]
  },
  {
   "cell_type": "code",
   "execution_count": 68,
   "metadata": {},
   "outputs": [],
   "source": [
    "# Calling/ invoking methods indirectly, we are not directly accessing class \n",
    "# we are calling an object of a class from another class \n",
    "class tyre:\n",
    "    def __init__(self, branch , belted_bais , opt_pressure) :\n",
    "        self.branch = branch\n",
    "        self.belted_bais = belted_bais\n",
    "        self.opt_pressure= opt_pressure\n",
    "    def __str__(self):\n",
    "        return self.branch + self.belted_bais + self.opt_pressure\n",
    "    \n",
    "class engine:\n",
    "    def __init__(self, fuel_type , noise_level) : \n",
    "        self.fuel_type = fuel_type\n",
    "        self.noise_level = noise_level\n",
    "    def __str__(self) : \n",
    "        return self.fuel_type + self.noise_level\n",
    "    \n",
    "class body:\n",
    "    def __init__(self, size) : \n",
    "        self.size = size \n",
    "        \n",
    "    def __str__(self) :\n",
    "        return self.size\n",
    "    \n",
    "class car:\n",
    "    def __init__(self,a,b,c):\n",
    "        self.a=a\n",
    "        self.b=b\n",
    "        self.c=c\n",
    "    def __str__(self):\n",
    "        # return self.a+self.b+self.c\n",
    "        return str(self.a)+str(self.b)+str(self.c)"
   ]
  },
  {
   "cell_type": "code",
   "execution_count": 69,
   "metadata": {},
   "outputs": [
    {
     "name": "stdout",
     "output_type": "stream",
     "text": [
      "branchbalted baisopt pressure\n",
      "fuel typeengine noise\n",
      "size\n",
      "abc\n"
     ]
    }
   ],
   "source": [
    "t=tyre(\"branch\",\"balted bais\",\"opt pressure\")\n",
    "e=engine(\"fuel type\",\"engine noise\")\n",
    "b=body(\"size\")\n",
    "print(t)\n",
    "print(e)\n",
    "print(b)\n",
    "\n",
    "c=car(\"a\",\"b\",\"c\")\n",
    "print(c)"
   ]
  },
  {
   "cell_type": "code",
   "execution_count": 72,
   "metadata": {},
   "outputs": [
    {
     "name": "stdout",
     "output_type": "stream",
     "text": [
      "branchbalted baisopt pressurefuel typeengine noisesize\n"
     ]
    }
   ],
   "source": [
    "c1=car(t,e,b)\n",
    "print(c1)\n",
    "# We are trying to call str methods of tyre, engine, body class indirectly from car class\n"
   ]
  },
  {
   "cell_type": "code",
   "execution_count": 78,
   "metadata": {},
   "outputs": [
    {
     "name": "stdout",
     "output_type": "stream",
     "text": [
      "4\n"
     ]
    },
    {
     "data": {
      "text/plain": [
       "'teju'"
      ]
     },
     "execution_count": 78,
     "metadata": {},
     "output_type": "execute_result"
    }
   ],
   "source": [
    "class test:\n",
    "    def __init__(self,a,b):\n",
    "        self.__a=a\n",
    "        self.b=b\n",
    "        \n",
    "class test1:\n",
    "    def __init__(self,*args): \n",
    "        test.__init__(self,*args) # test.b can be done to get b value \n",
    "        self.b=\"teju\"\n",
    "        print(self._test__a)\n",
    "obj=test1(4,5)\n",
    "obj.b"
   ]
  },
  {
   "cell_type": "markdown",
   "metadata": {},
   "source": [
    "### Method overloading"
   ]
  },
  {
   "cell_type": "code",
   "execution_count": null,
   "metadata": {},
   "outputs": [],
   "source": []
  },
  {
   "cell_type": "markdown",
   "metadata": {},
   "source": [
    "### Polymorphism"
   ]
  },
  {
   "cell_type": "code",
   "execution_count": 82,
   "metadata": {},
   "outputs": [
    {
     "data": {
      "text/plain": [
       "'abcxyz'"
      ]
     },
     "execution_count": 82,
     "metadata": {},
     "output_type": "execute_result"
    }
   ],
   "source": [
    "\n",
    "def test(a,b):\n",
    "    return a+b # plus is behaving as concatenation operator in case of string, as addition/summation operator in case of number\n",
    "# On passing different kind of parameters, output differs \n",
    "test(2,3) # returns addition of 2 numbers\n",
    "test(\"abc\",\"xyz\") # returns concatenated string"
   ]
  },
  {
   "cell_type": "code",
   "execution_count": 83,
   "metadata": {},
   "outputs": [],
   "source": [
    "class instagram:\n",
    "    def shared_stories(self):\n",
    "        print(\"print your story on instagram\")\n",
    "\n",
    "class facebook:\n",
    "    def shared_stories(self):\n",
    "        print(\"print your story on facebook\")\n",
    "        "
   ]
  },
  {
   "cell_type": "code",
   "execution_count": 87,
   "metadata": {},
   "outputs": [
    {
     "name": "stdout",
     "output_type": "stream",
     "text": [
      "print your story on insta\n"
     ]
    }
   ],
   "source": [
    "def sharestories(app):\n",
    "    app.shared_stories()\n",
    "\n",
    "insta=instagram()\n",
    "fb=facebook()\n",
    "sharestories(insta)"
   ]
  },
  {
   "cell_type": "markdown",
   "metadata": {},
   "source": [
    "### Examples"
   ]
  },
  {
   "cell_type": "code",
   "execution_count": 105,
   "metadata": {},
   "outputs": [],
   "source": [
    "class ineuron:\n",
    "    # company_website =\"ineuron.ai\" #global variable\n",
    "    name = \"ineuron\"\n",
    "    def __init__(self):\n",
    "        self.company_website =\"ineuron.ai\"\n",
    "    \n",
    "    def contact_details(self):\n",
    "        print(\"contact us at \", self.company_website)\n",
    "        \n",
    "class MLclass(ineuron):\n",
    "    def __init__(self,*args):\n",
    "        super(MLclass,self).__init__(*args) # without this line we will not be able to access the variables \n",
    "        # initialized inside constructor of parent class\n",
    "        self.year_of_establishment =2019\n",
    "    def est_details(self):\n",
    "        print(self.name,self.company_website,self.year_of_establishment)"
   ]
  },
  {
   "cell_type": "code",
   "execution_count": 106,
   "metadata": {},
   "outputs": [
    {
     "data": {
      "text/plain": [
       "'ineuron.ai'"
      ]
     },
     "execution_count": 106,
     "metadata": {},
     "output_type": "execute_result"
    }
   ],
   "source": [
    "ml=MLclass()\n",
    "ml.company_website\n"
   ]
  },
  {
   "cell_type": "code",
   "execution_count": null,
   "metadata": {},
   "outputs": [],
   "source": [
    "\"\"\"Abstraction: creating a skeletion structure \n",
    "                shows only useful data\n",
    "                hides complexicity\n",
    "   Encapsulation: hiding the implementation\n",
    "                  wraps code for necessary information\n",
    "                  hides internal working\n",
    "                                    \n",
    "\"\"\""
   ]
  }
 ],
 "metadata": {
  "interpreter": {
   "hash": "811b2db6c58269185e737dadb95e83091f5aeaae4acc0109ed7cd8b212b0ef5d"
  },
  "kernelspec": {
   "display_name": "Python 3.9.5 64-bit ('env': venv)",
   "language": "python",
   "name": "python3"
  },
  "language_info": {
   "codemirror_mode": {
    "name": "ipython",
    "version": 3
   },
   "file_extension": ".py",
   "mimetype": "text/x-python",
   "name": "python",
   "nbconvert_exporter": "python",
   "pygments_lexer": "ipython3",
   "version": "3.9.5"
  },
  "orig_nbformat": 4
 },
 "nbformat": 4,
 "nbformat_minor": 2
}
